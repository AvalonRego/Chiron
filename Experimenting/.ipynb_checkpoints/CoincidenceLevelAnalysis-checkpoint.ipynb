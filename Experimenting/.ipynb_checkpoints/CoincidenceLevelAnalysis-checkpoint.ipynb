{
 "cells": [
  {
   "cell_type": "code",
   "execution_count": 1,
   "id": "815a5fbc-a2f1-4439-80ae-94846548c087",
   "metadata": {},
   "outputs": [],
   "source": [
    "from importlib import reload\n",
    "import ananke.models.collection\n",
    "from ananke.models.collection import Collection\n",
    "reload(ananke.models.collection)\n",
    "import ananke.models.collection\n",
    "from ananke.configurations.collection import MergeConfiguration\n",
    "from ananke.schemas.event import RecordType\n",
    "from ananke.configurations.events import EventRedistributionMode\n",
    "from ananke.configurations.collection import HDF5StorageConfiguration\n",
    "import Trigger_Parallel_Working as tc\n",
    "reload(tc)\n",
    "import Trigger_Parallel_Working as tc\n",
    "import cProfile\n",
    "import pstats\n",
    "import matplotlib.pyplot as plt\n",
    "import os\n",
    "import logging\n",
    "\n",
    "# Configure logging to display DEBUG messages\n",
    "logging.basicConfig(level=logging.INFO)"
   ]
  },
  {
   "cell_type": "code",
   "execution_count": 3,
   "id": "2a35a934-c3f9-4cd5-97df-30487bdeca0f",
   "metadata": {},
   "outputs": [
    {
     "ename": "SyntaxError",
     "evalue": "':' expected after dictionary key (1111093106.py, line 40)",
     "output_type": "error",
     "traceback": [
      "\u001b[0;36m  Cell \u001b[0;32mIn[3], line 40\u001b[0;36m\u001b[0m\n\u001b[0;31m    ''\u001b[0m\n\u001b[0m     ^\u001b[0m\n\u001b[0;31mSyntaxError\u001b[0m\u001b[0;31m:\u001b[0m ':' expected after dictionary key\n"
     ]
    }
   ],
   "source": [
    "path='data/'\n",
    "configuration = MergeConfiguration.parse_obj(\n",
    "    {\n",
    "        'in_collections': [\n",
    "            {\n",
    "                'type': 'hdf5',\n",
    "                'data_path':'data/LargeCascades/0.h5',\n",
    "                'read_only':'False',\n",
    "            },\n",
    "            {\n",
    "                'type': 'hdf5',\n",
    "                'data_path':'data/LargeCascades/1.h5',\n",
    "                'read_only':'False',\n",
    "            },\n",
    "            {\n",
    "                'type': 'hdf5',\n",
    "                'data_path': 'data/LargeElectrical/10000.h5',\n",
    "                'read_only':'False',\n",
    "            },\n",
    "            {\n",
    "                'type': 'hdf5',\n",
    "                'data_path': 'data/LargeBio/10000.h5',\n",
    "                'read_only':'False',\n",
    "            },\n",
    "            {\n",
    "                'type': 'hdf5',\n",
    "                'data_path': 'data/LargeElectrical/100000.h5',\n",
    "                'read_only':'False',\n",
    "            },\n",
    "            {\n",
    "                'type': 'hdf5',\n",
    "                'data_path': 'data/LargeBio/100000.h5',\n",
    "                'read_only':'False',\n",
    "            },\n",
    "        ],\n",
    "        'out_collection': {\n",
    "                'type': 'hdf5',\n",
    "                'data_path': 'data/LargeMerge/0.h5',\n",
    "                'read_only':'False',\n",
    "        },\n",
    "        'content': [\n",
    "            {\n",
    "                'primary_type': RecordType.CASCADE.value,\n",
    "                'secondary_types': [RecordType.ELECTRICAL.value,RecordType.BIOLUMINESCENCE],\n",
    "                'number_of_records': 20,\n",
    "                'interval': {\n",
    "                    'start': 0,\n",
    "                    'end': 1000000,\n",
    "                }\n",
    "            },\n",
    "        ],\n",
    "        'redistribution': {\n",
    "            'interval': {\n",
    "                'start': 0,\n",
    "                'end': 10000\n",
    "            },\n",
    "            'mode': EventRedistributionMode.CONTAINS_EVENT,\n",
    "        }\n",
    "           \n",
    "     }\n",
    ")\n",
    "\n",
    "print(configuration)"
   ]
  },
  {
   "cell_type": "code",
   "execution_count": null,
   "id": "7b603a16-a68e-4ea2-824c-d95d867c8b9b",
   "metadata": {},
   "outputs": [],
   "source": []
  }
 ],
 "metadata": {
  "kernelspec": {
   "display_name": "olympus",
   "language": "python",
   "name": "olympus"
  },
  "language_info": {
   "codemirror_mode": {
    "name": "ipython",
    "version": 3
   },
   "file_extension": ".py",
   "mimetype": "text/x-python",
   "name": "python",
   "nbconvert_exporter": "python",
   "pygments_lexer": "ipython3",
   "version": "3.10.9"
  }
 },
 "nbformat": 4,
 "nbformat_minor": 5
}
