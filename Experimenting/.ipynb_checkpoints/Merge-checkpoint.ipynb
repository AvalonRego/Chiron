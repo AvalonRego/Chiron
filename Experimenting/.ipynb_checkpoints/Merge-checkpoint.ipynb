{
 "cells": [
  {
   "cell_type": "markdown",
   "id": "752eac7f-4469-4fa4-9570-fdddc9864cf4",
   "metadata": {},
   "source": [
    "How Big should the redistribution time differences be? \n",
    "\n",
    "Also every redistribution causes the file to increase the size a little bit :\n",
    "the opening and closing of collection also has an effect on how much the size increases.\n",
    "\n",
    "on vibes alone i think the difference is never more than 0.3s always -ve for some reason"
   ]
  },
  {
   "cell_type": "code",
   "execution_count": 1,
   "id": "14ca2936-5af5-46ea-9501-434316022571",
   "metadata": {},
   "outputs": [],
   "source": [
    "from importlib import reload\n",
    "import ananke.models.collection\n",
    "from ananke.models.collection import Collection\n",
    "reload(ananke.models.collection)\n",
    "import ananke.models.collection\n",
    "from ananke.configurations.collection import MergeConfiguration\n",
    "from ananke.schemas.event import RecordType\n",
    "from ananke.configurations.events import EventRedistributionMode\n",
    "from ananke.configurations.collection import HDF5StorageConfiguration\n",
    "import Trigger_Parallel_Working as tc\n",
    "reload(tc)\n",
    "import Trigger_Parallel_Working as tc\n",
    "import cProfile\n",
    "import pstats\n",
    "import matplotlib.pyplot as plt\n",
    "import os\n",
    "import logging\n",
    "\n",
    "# Configure logging to display DEBUG messages\n",
    "logging.basicConfig(level=logging.INFO)"
   ]
  },
  {
   "cell_type": "code",
   "execution_count": 2,
   "id": "06a5a2ee-fd56-46b7-8637-890cf9651812",
   "metadata": {},
   "outputs": [],
   "source": [
    "path='data/LargeStarting/0.h5'\n",
    "config=HDF5StorageConfiguration(data_path=path, read_only=False)\n",
    "C1=Collection(config)"
   ]
  },
  {
   "cell_type": "code",
   "execution_count": null,
   "id": "4a9eb22c-b837-4274-bc31-381a43ae85ef",
   "metadata": {},
   "outputs": [],
   "source": [
    "RecordType.REALISTIC_TRACK"
   ]
  },
  {
   "cell_type": "code",
   "execution_count": null,
   "id": "60edd8f2-3680-45c5-b310-9fea9a6e0800",
   "metadata": {},
   "outputs": [],
   "source": [
    "with C1:\n",
    "    hits= C1.storage.get_hits().df\n",
    "    records=C1.storage.get_records().df"
   ]
  },
  {
   "cell_type": "code",
   "execution_count": null,
   "id": "c1c42dc8-0420-4cf7-a58c-c169234c01a4",
   "metadata": {},
   "outputs": [
    {
     "name": "stderr",
     "output_type": "stream",
     "text": [
      "INFO:root:Starting to merge collections with config.\n",
      "INFO:root:Starting to create joined temporary collection.\n"
     ]
    },
    {
     "name": "stdout",
     "output_type": "stream",
     "text": [
      "in_collections=[HDF5StorageConfiguration(type=<StorageTypes.HDF5: 'hdf5'>, read_only=False, batch_size=100, data_path='data/LargeTrack/20records/0.h5', complevel=3, complib='lzo', optlevel=6), HDF5StorageConfiguration(type=<StorageTypes.HDF5: 'hdf5'>, read_only=False, batch_size=100, data_path='data/LargeElectrical/100000s/0.h5', complevel=3, complib='lzo', optlevel=6), HDF5StorageConfiguration(type=<StorageTypes.HDF5: 'hdf5'>, read_only=False, batch_size=100, data_path='data/LargeBio/100000s/0.h5', complevel=3, complib='lzo', optlevel=6)] tmp_collection=HDF5StorageConfiguration(type=<StorageTypes.HDF5: 'hdf5'>, read_only=False, batch_size=100, data_path='/raven/u/arego/olympus/lib/python3.10/site-packages/ananke/configurations/../../_tmp_f990ebf6-aab8-45b6-9646-6b0410c7a86adata.h5', complevel=3, complib='lzo', optlevel=6) out_collection=HDF5StorageConfiguration(type=<StorageTypes.HDF5: 'hdf5'>, read_only=False, batch_size=100, data_path='data/LargeTMerge/0.h5', complevel=3, complib='lzo', optlevel=6) content=[MergeContentConfiguration(primary_type=<RecordType.REALISTIC_TRACK: 2>, number_of_records=20, secondary_types=[<RecordType.ELECTRICAL: 20>, <RecordType.BIOLUMINESCENCE: 21>], interval=Interval(start=0.0, end=1000000.0), filter_no_hits=True)] redistribution=None seed=32118\n"
     ]
    },
    {
     "name": "stderr",
     "output_type": "stream",
     "text": [
      "100it [00:00, 196.38it/s]             \n",
      "INFO:Collection:Starting to append collection.\n",
      "  0%|          | 0/100 [00:00<?, ?it/s]"
     ]
    }
   ],
   "source": [
    "configuration = MergeConfiguration.parse_obj(\n",
    "    {\n",
    "        'in_collections': [\n",
    "            {\n",
    "                'type': 'hdf5',\n",
    "                'data_path':'data/LargeTrack/20records/0.h5',\n",
    "                'read_only':'False',\n",
    "            },\n",
    "            {\n",
    "                'type': 'hdf5',\n",
    "                'data_path': 'data/LargeElectrical/100000s/0.h5',\n",
    "                'read_only':'False',\n",
    "            },\n",
    "            {\n",
    "                'type': 'hdf5',\n",
    "                'data_path': 'data/LargeBio/100000s/0.h5',\n",
    "                'read_only':'False',\n",
    "            },\n",
    "        ],\n",
    "        'out_collection': {\n",
    "                'type': 'hdf5',\n",
    "                'data_path': 'data/LargeTMerge/0.h5',\n",
    "                'read_only':'False',\n",
    "                \n",
    "        },\n",
    "        'content': [\n",
    "            {\n",
    "                'primary_type': RecordType.REALISTIC_TRACK.value,\n",
    "                'secondary_types': [RecordType.ELECTRICAL.value,RecordType.BIOLUMINESCENCE],\n",
    "                'number_of_records': 20,\n",
    "                'interval': {\n",
    "                    'start': 0,\n",
    "                    'end': 1000000,\n",
    "                }\n",
    "            },\n",
    "        ],\n",
    "           \n",
    "     }\n",
    ")\n",
    "\n",
    "#print(configuration)\n",
    "C2=Collection.from_merge(configuration)"
   ]
  },
  {
   "cell_type": "code",
   "execution_count": 9,
   "id": "335c55ea-e553-41e1-8d06-b6f9ceec6433",
   "metadata": {},
   "outputs": [
    {
     "name": "stderr",
     "output_type": "stream",
     "text": [
      "INFO:root:Starting to merge collections with config.\n",
      "INFO:root:Starting to create joined temporary collection.\n",
      "100it [00:25,  3.90it/s]              \n",
      "INFO:Collection:Starting to append collection.\n",
      "100%|██████████| 100/100 [00:02<00:00, 35.59it/s]\n",
      "INFO:Collection:Finished to append collection.\n",
      "INFO:Collection:Starting to append collection.\n",
      "100%|██████████| 100/100 [00:04<00:00, 24.10it/s]\n",
      "INFO:Collection:Finished to append collection.\n",
      "INFO:root:Finished creating joined temporary collection.\n",
      "INFO:root:Starting to create 10 RecordType.CASCADE records\n",
      "INFO:root:Secondary types: 20, 21\n",
      "100%|██████████| 10/10 [00:19<00:00,  1.97s/it]\n",
      "INFO:root:Finished to create 10 RecordType.CASCADE records\n",
      "INFO:root:Finished to merge collections with config.\n"
     ]
    }
   ],
   "source": [
    "C2=Collection.from_merge(configuration)"
   ]
  },
  {
   "cell_type": "code",
   "execution_count": null,
   "id": "28d38119-7c04-4964-ab0b-b921ce16b6a2",
   "metadata": {},
   "outputs": [],
   "source": [
    "with C2:\n",
    "    Mhits= C2.storage.get_hits().df\n",
    "    Mrecords=C2.storage.get_records().df"
   ]
  },
  {
   "cell_type": "code",
   "execution_count": null,
   "id": "4aea3525-f22d-481f-adc2-c7b5a58a206c",
   "metadata": {},
   "outputs": [],
   "source": [
    "display(hits.drop_duplicates(subset=['record_id','type']).head())\n",
    "display(Mhits.drop_duplicates(subset=['record_id','type']).head())\n",
    "display(Mhits1.drop_duplicates(subset=['record_id','type']).head())"
   ]
  },
  {
   "cell_type": "code",
   "execution_count": null,
   "id": "e10d46fa-5be6-4bbe-8d81-061838f2f1c5",
   "metadata": {},
   "outputs": [],
   "source": [
    "Mhits.shape[0],hits.shape[0]"
   ]
  },
  {
   "cell_type": "code",
   "execution_count": null,
   "id": "8d7b5f60-3ee7-4a73-9c29-dbbf98460fde",
   "metadata": {},
   "outputs": [],
   "source": [
    "with C2:\n",
    "    C2.redistribute(redistribution_configuration=configuration.redistribution)"
   ]
  },
  {
   "cell_type": "code",
   "execution_count": null,
   "id": "3323af72-f01a-4e4c-98ca-e03d84c9369a",
   "metadata": {},
   "outputs": [],
   "source": [
    "with C2:\n",
    "    Mhits1= C2.storage.get_hits().df\n",
    "    Mrecords1=C2.storage.get_records().df"
   ]
  },
  {
   "cell_type": "code",
   "execution_count": null,
   "id": "24454393-103c-406c-ba7f-850d4fedd214",
   "metadata": {},
   "outputs": [],
   "source": [
    "x=Mhits['time']-Mhits1['time']\n",
    "x=x.round(6)\n",
    "x_unique = x.drop_duplicates()\n",
    "display(x_unique)"
   ]
  },
  {
   "cell_type": "code",
   "execution_count": null,
   "id": "f511743c-a399-4d41-a9b6-9e45d2ec5532",
   "metadata": {},
   "outputs": [],
   "source": [
    "\n",
    "time_diff = Mhits['time'] - Mhits1['time']\n",
    "time_diff=time_diff.round(6)\n",
    "\n",
    "# Add 'type' from Mhits to the time_diff series for grouping\n",
    "time_diff_with_type = pd.DataFrame({'type': Mhits['type'], 'time_diff': time_diff})\n",
    "\n",
    "# Group by 'type' and get unique time differences for each 'type'\n",
    "unique_time_diffs_by_type = time_diff_with_type.groupby('type')['time_diff'].apply(lambda x: x.drop_duplicates())\n",
    "\n",
    "# Display the results\n",
    "display(unique_time_diffs_by_type)"
   ]
  },
  {
   "cell_type": "code",
   "execution_count": null,
   "id": "dfe273a5-63ea-438b-ad33-241de2946bbb",
   "metadata": {},
   "outputs": [
    {
     "name": "stderr",
     "output_type": "stream",
     "text": [
      "Closing remaining open files:data/LargeBio/10000.h5...done/raven/u/arego/olympus/lib/python3.10/site-packages/ananke/configurations/../../_tmp_3ee34659-f126-476c-abd0-43de4539eb9cdata.h5...donedata/LargeElectrical/10000.h5...donedata/LargeElectrical/10000.h5...donedata/LargeBio/10000.h5...donedata/LargeMerge/0c.h5...done\n"
     ]
    }
   ],
   "source": [
    "for i in range(10):\n",
    "    with C2:\n",
    "        configuration.redistribution.seed=i\n",
    "        C2.redistribute(redistribution_configuration=configuration.redistribution)"
   ]
  },
  {
   "cell_type": "code",
   "execution_count": null,
   "id": "26b9530d-efb9-4cc0-bb67-f00e00f718a5",
   "metadata": {},
   "outputs": [],
   "source": []
  }
 ],
 "metadata": {
  "kernelspec": {
   "display_name": "olympus",
   "language": "python",
   "name": "olympus"
  },
  "language_info": {
   "codemirror_mode": {
    "name": "ipython",
    "version": 3
   },
   "file_extension": ".py",
   "mimetype": "text/x-python",
   "name": "python",
   "nbconvert_exporter": "python",
   "pygments_lexer": "ipython3",
   "version": "3.10.9"
  }
 },
 "nbformat": 4,
 "nbformat_minor": 5
}
