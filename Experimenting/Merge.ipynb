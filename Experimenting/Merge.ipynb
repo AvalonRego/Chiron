{
 "cells": [
  {
   "cell_type": "markdown",
   "id": "752eac7f-4469-4fa4-9570-fdddc9864cf4",
   "metadata": {},
   "source": [
    "How Big should the redistribution time differences be? \n",
    "\n",
    "Also every redistribution causes the file to increase the size a little bit :\n",
    "the opening and closing of collection also has an effect on how much the size increases.\n",
    "\n",
    "on vibes alone i think the difference is never more than 0.3s always -ve for some reason"
   ]
  },
  {
   "cell_type": "code",
   "execution_count": 3,
   "id": "14ca2936-5af5-46ea-9501-434316022571",
   "metadata": {},
   "outputs": [],
   "source": [
    "from importlib import reload\n",
    "import ananke.models.collection\n",
    "from ananke.models.collection import Collection\n",
    "reload(ananke.models.collection)\n",
    "import ananke.models.collection\n",
    "from ananke.configurations.collection import MergeConfiguration\n",
    "from ananke.schemas.event import RecordType\n",
    "from ananke.configurations.events import EventRedistributionMode\n",
    "from ananke.configurations.collection import HDF5StorageConfiguration\n",
    "import Trigger_Parallel_Working as tc\n",
    "reload(tc)\n",
    "import Trigger_Parallel_Working as tc\n",
    "import cProfile\n",
    "import pstats\n",
    "import matplotlib.pyplot as plt\n",
    "import os\n",
    "import logging\n",
    "\n",
    "# Configure logging to display DEBUG messages\n",
    "logging.basicConfig(level=logging.INFO)"
   ]
  },
  {
   "cell_type": "code",
   "execution_count": 2,
   "id": "06a5a2ee-fd56-46b7-8637-890cf9651812",
   "metadata": {},
   "outputs": [],
   "source": [
    "path='data/LargeStarting/0.h5'\n",
    "config=HDF5StorageConfiguration(data_path=path, read_only=False)\n",
    "C1=Collection(config)"
   ]
  },
  {
   "cell_type": "code",
   "execution_count": null,
   "id": "4a9eb22c-b837-4274-bc31-381a43ae85ef",
   "metadata": {},
   "outputs": [],
   "source": [
    "RecordType.REALISTIC_TRACK"
   ]
  },
  {
   "cell_type": "code",
   "execution_count": null,
   "id": "60edd8f2-3680-45c5-b310-9fea9a6e0800",
   "metadata": {},
   "outputs": [],
   "source": [
    "with C1:\n",
    "    hits= C1.storage.get_hits().df\n",
    "    records=C1.storage.get_records().df"
   ]
  },
  {
   "cell_type": "code",
   "execution_count": 8,
   "id": "638cd413-134b-477d-bf59-67bdf47c8930",
   "metadata": {},
   "outputs": [
    {
     "data": {
      "text/plain": [
       "ananke.configurations.collection.MergeConfiguration"
      ]
     },
     "execution_count": 8,
     "metadata": {},
     "output_type": "execute_result"
    }
   ],
   "source": [
    "type(configuration)"
   ]
  },
  {
   "cell_type": "code",
   "execution_count": 4,
   "id": "c1c42dc8-0420-4cf7-a58c-c169234c01a4",
   "metadata": {},
   "outputs": [
    {
     "name": "stderr",
     "output_type": "stream",
     "text": [
      "INFO:root:Starting to merge collections with config.\n",
      "INFO:root:Starting to create joined temporary collection.\n",
      "100it [00:04, 23.21it/s]              \n",
      "INFO:Collection:Starting to append collection.\n",
      "100%|██████████| 100/100 [00:23<00:00,  4.27it/s]\n",
      "INFO:Collection:Finished to append collection.\n",
      "INFO:Collection:Starting to append collection.\n",
      "100it [00:19,  5.23it/s]              \n",
      "INFO:Collection:Finished to append collection.\n",
      "INFO:root:Finished creating joined temporary collection.\n",
      "INFO:root:Starting to create 20 RecordType.REALISTIC_TRACK records\n",
      "INFO:root:Secondary types: 20, 21\n",
      "100%|██████████| 20/20 [01:06<00:00,  3.32s/it]\n",
      "INFO:root:Finished to create 20 RecordType.REALISTIC_TRACK records\n",
      "INFO:root:Finished to merge collections with config.\n"
     ]
    }
   ],
   "source": [
    "configuration = MergeConfiguration.parse_obj(\n",
    "    {\n",
    "        'in_collections': [\n",
    "            {\n",
    "                'type': 'hdf5',\n",
    "                'data_path':'data/LargeTrack/20records/1.h5',\n",
    "                'read_only':'False',\n",
    "            },\n",
    "            {\n",
    "                'type': 'hdf5',\n",
    "                'data_path': 'data/LargeElectrical/100000s/1.h5',\n",
    "                'read_only':'False',\n",
    "            },\n",
    "            {\n",
    "                'type': 'hdf5',\n",
    "                'data_path': 'data/LargeBio/100000s/1.h5',\n",
    "                'read_only':'False',\n",
    "            },\n",
    "        ],\n",
    "        'out_collection': {\n",
    "                'type': 'hdf5',\n",
    "                'data_path': 'data/LargeTMerge/1.h5',\n",
    "                'read_only':'False',\n",
    "                \n",
    "        },\n",
    "        'content': [\n",
    "            {\n",
    "                'primary_type': RecordType.REALISTIC_TRACK.value,\n",
    "                'secondary_types': [RecordType.ELECTRICAL.value,RecordType.BIOLUMINESCENCE],\n",
    "                'number_of_records': 20,\n",
    "                'interval': {\n",
    "                    'start': 0,\n",
    "                    'end': 1000000,\n",
    "                }\n",
    "            },\n",
    "        ],\n",
    "           \n",
    "     }\n",
    ")\n",
    "\n",
    "#print(configuration)\n",
    "#C2=Collection.from_merge(configuration)"
   ]
  },
  {
   "cell_type": "code",
   "execution_count": 6,
   "id": "335c55ea-e553-41e1-8d06-b6f9ceec6433",
   "metadata": {},
   "outputs": [
    {
     "data": {
      "text/plain": [
       "NoneType"
      ]
     },
     "execution_count": 6,
     "metadata": {},
     "output_type": "execute_result"
    }
   ],
   "source": [
    "type(configuration.redistribution)"
   ]
  },
  {
   "cell_type": "code",
   "execution_count": null,
   "id": "28d38119-7c04-4964-ab0b-b921ce16b6a2",
   "metadata": {},
   "outputs": [],
   "source": [
    "with C2:\n",
    "    Mhits= C2.storage.get_hits().df\n",
    "    Mrecords=C2.storage.get_records().df"
   ]
  },
  {
   "cell_type": "code",
   "execution_count": null,
   "id": "4aea3525-f22d-481f-adc2-c7b5a58a206c",
   "metadata": {},
   "outputs": [],
   "source": [
    "display(hits.drop_duplicates(subset=['record_id','type']).head())\n",
    "display(Mhits.drop_duplicates(subset=['record_id','type']).head())\n",
    "display(Mhits1.drop_duplicates(subset=['record_id','type']).head())"
   ]
  },
  {
   "cell_type": "code",
   "execution_count": null,
   "id": "e10d46fa-5be6-4bbe-8d81-061838f2f1c5",
   "metadata": {},
   "outputs": [],
   "source": [
    "Mhits.shape[0],hits.shape[0]"
   ]
  },
  {
   "cell_type": "code",
   "execution_count": null,
   "id": "8d7b5f60-3ee7-4a73-9c29-dbbf98460fde",
   "metadata": {},
   "outputs": [],
   "source": [
    "with C2:\n",
    "    C2.redistribute(redistribution_configuration=configuration.redistribution)"
   ]
  },
  {
   "cell_type": "code",
   "execution_count": null,
   "id": "3323af72-f01a-4e4c-98ca-e03d84c9369a",
   "metadata": {},
   "outputs": [],
   "source": [
    "with C2:\n",
    "    Mhits1= C2.storage.get_hits().df\n",
    "    Mrecords1=C2.storage.get_records().df"
   ]
  },
  {
   "cell_type": "code",
   "execution_count": null,
   "id": "24454393-103c-406c-ba7f-850d4fedd214",
   "metadata": {},
   "outputs": [],
   "source": [
    "x=Mhits['time']-Mhits1['time']\n",
    "x=x.round(6)\n",
    "x_unique = x.drop_duplicates()\n",
    "display(x_unique)"
   ]
  },
  {
   "cell_type": "code",
   "execution_count": null,
   "id": "f511743c-a399-4d41-a9b6-9e45d2ec5532",
   "metadata": {},
   "outputs": [],
   "source": [
    "\n",
    "time_diff = Mhits['time'] - Mhits1['time']\n",
    "time_diff=time_diff.round(6)\n",
    "\n",
    "# Add 'type' from Mhits to the time_diff series for grouping\n",
    "time_diff_with_type = pd.DataFrame({'type': Mhits['type'], 'time_diff': time_diff})\n",
    "\n",
    "# Group by 'type' and get unique time differences for each 'type'\n",
    "unique_time_diffs_by_type = time_diff_with_type.groupby('type')['time_diff'].apply(lambda x: x.drop_duplicates())\n",
    "\n",
    "# Display the results\n",
    "display(unique_time_diffs_by_type)"
   ]
  },
  {
   "cell_type": "code",
   "execution_count": null,
   "id": "dfe273a5-63ea-438b-ad33-241de2946bbb",
   "metadata": {},
   "outputs": [
    {
     "name": "stderr",
     "output_type": "stream",
     "text": [
      "Closing remaining open files:data/LargeBio/10000.h5...done/raven/u/arego/olympus/lib/python3.10/site-packages/ananke/configurations/../../_tmp_3ee34659-f126-476c-abd0-43de4539eb9cdata.h5...donedata/LargeElectrical/10000.h5...donedata/LargeElectrical/10000.h5...donedata/LargeBio/10000.h5...donedata/LargeMerge/0c.h5...done\n"
     ]
    }
   ],
   "source": [
    "for i in range(10):\n",
    "    with C2:\n",
    "        configuration.redistribution.seed=i\n",
    "        C2.redistribute(redistribution_configuration=configuration.redistribution)"
   ]
  },
  {
   "cell_type": "code",
   "execution_count": 2,
   "id": "26b9530d-efb9-4cc0-bb67-f00e00f718a5",
   "metadata": {},
   "outputs": [],
   "source": [
    "import matplotlib.pyplot as plt\n",
    "import numpy as np\n",
    "\n",
    "def plot(hits):\n",
    "    \"\"\"\n",
    "    Generate and display a histogram plot of 'time' for different 'type' values \n",
    "    within a specific 'record_id' in the given DataFrame.\n",
    "    \"\"\"\n",
    "    # Select the first unique record_id\n",
    "    record = hits['record_id'].drop_duplicates().iloc[0]\n",
    "    \n",
    "    # Get all unique types\n",
    "    types = hits['type'].drop_duplicates()\n",
    "    \n",
    "    # Filter hits for the selected record_id\n",
    "    hit = hits[hits['record_id'] == record]\n",
    "    \n",
    "    # Create a figure\n",
    "    fig, ax = plt.subplots(figsize=(8, 5))\n",
    "    \n",
    "    interval = np.arange(0, 10000, 100)\n",
    "\n",
    "    # Iterate through each unique type and plot its histogram\n",
    "    for t in types:\n",
    "        y, x = np.histogram(hit[hit['type'] == t]['time'], bins=interval)\n",
    "        x = (x[:-1] + x[1:]) / 2  # Convert bin edges to bin centers\n",
    "        ax.plot(x, y, label=f'Type {t}')\n",
    "\n",
    "    # Labeling and legend\n",
    "    ax.set_xlabel(\"Time\")\n",
    "    ax.set_ylabel(\"Frequency\")\n",
    "    ax.set_title(f\"Histogram for Record ID {record}\")\n",
    "    ax.legend()\n",
    "\n",
    "    # Show the plot each time the function is called\n",
    "    plt.show()\n",
    "\n",
    "# Example usage:"
   ]
  },
  {
   "cell_type": "code",
   "execution_count": null,
   "id": "1299588a-b4c5-4b9a-94fe-201551477fb5",
   "metadata": {},
   "outputs": [],
   "source": []
  }
 ],
 "metadata": {
  "kernelspec": {
   "display_name": "olympus",
   "language": "python",
   "name": "olympus"
  },
  "language_info": {
   "codemirror_mode": {
    "name": "ipython",
    "version": 3
   },
   "file_extension": ".py",
   "mimetype": "text/x-python",
   "name": "python",
   "nbconvert_exporter": "python",
   "pygments_lexer": "ipython3",
   "version": "3.10.9"
  }
 },
 "nbformat": 4,
 "nbformat_minor": 5
}
