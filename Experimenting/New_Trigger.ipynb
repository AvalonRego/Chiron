{
 "cells": [
  {
   "cell_type": "code",
   "execution_count": 9,
   "id": "e30d2720-7ed9-4905-9707-1e9e160c28ec",
   "metadata": {},
   "outputs": [],
   "source": [
    "import sys\n",
    "sys.path.append('../../olympus/lib/python3.10/site-packages/')\n",
    "sys.path.reverse()\n",
    "import logging\n",
    "from ananke.models.collection import Collection\n",
    "from ananke.configurations.collection import HDF5StorageConfiguration\n",
    "import numpy as np"
   ]
  },
  {
   "cell_type": "code",
   "execution_count": 2,
   "id": "881b4d7c-c818-4d6b-87e2-25bb591ea7f3",
   "metadata": {},
   "outputs": [],
   "source": [
    "path='data/HexCascadeBenchMark.h5'"
   ]
  },
  {
   "cell_type": "code",
   "execution_count": 4,
   "id": "71ce954e-e468-4fdd-9973-48bf608b3ec9",
   "metadata": {},
   "outputs": [],
   "source": [
    "config=HDF5StorageConfiguration(data_path=path,read_only=False)\n",
    "col=Collection(config)"
   ]
  },
  {
   "cell_type": "code",
   "execution_count": 11,
   "id": "8f126ce5-b970-4d6e-867e-bbc69ae1164e",
   "metadata": {},
   "outputs": [],
   "source": [
    "trigger_intervals=100\n",
    "col.open()\n",
    "hits=col.storage.get_hits()\n",
    "upperlimit = hits.get_statistics().max\n",
    "lowerlimit =  hits.get_statistics().min\n",
    "times = np.arange(lowerlimit, upperlimit +  trigger_intervals,  trigger_intervals)\n",
    "intervals=( times[1:]+ times[:-1])/2\n",
    "col.close()"
   ]
  },
  {
   "cell_type": "code",
   "execution_count": 26,
   "id": "36cd0db7-c605-4ac5-a8d6-a8ebba6d6777",
   "metadata": {},
   "outputs": [
    {
     "ename": "AttributeError",
     "evalue": "'float' object has no attribute 'compute'",
     "output_type": "error",
     "traceback": [
      "\u001b[0;31m---------------------------------------------------------------------------\u001b[0m",
      "\u001b[0;31mAttributeError\u001b[0m                            Traceback (most recent call last)",
      "Cell \u001b[0;32mIn[26], line 1\u001b[0m\n\u001b[0;32m----> 1\u001b[0m \u001b[43mhits\u001b[49m\u001b[38;5;241;43m.\u001b[39;49m\u001b[43mdf\u001b[49m\u001b[43m[\u001b[49m\u001b[38;5;124;43m'\u001b[39;49m\u001b[38;5;124;43mtime\u001b[39;49m\u001b[38;5;124;43m'\u001b[39;49m\u001b[43m]\u001b[49m\u001b[38;5;241;43m.\u001b[39;49m\u001b[43mmax\u001b[49m\u001b[43m(\u001b[49m\u001b[43m)\u001b[49m\u001b[38;5;241;43m.\u001b[39;49m\u001b[43mcompute\u001b[49m()\n",
      "\u001b[0;31mAttributeError\u001b[0m: 'float' object has no attribute 'compute'"
     ]
    }
   ],
   "source": [
    "hits.df['time'].max().compute()"
   ]
  },
  {
   "cell_type": "code",
   "execution_count": 27,
   "id": "23c1bde6-2ce1-43ac-9358-6937aebc4a26",
   "metadata": {},
   "outputs": [],
   "source": [
    "import trigger_copy as tc"
   ]
  },
  {
   "cell_type": "code",
   "execution_count": null,
   "id": "b3744825-aafa-4fc5-94d4-fe76f372508b",
   "metadata": {},
   "outputs": [],
   "source": []
  }
 ],
 "metadata": {
  "kernelspec": {
   "display_name": "olympus",
   "language": "python",
   "name": "olympus"
  },
  "language_info": {
   "codemirror_mode": {
    "name": "ipython",
    "version": 3
   },
   "file_extension": ".py",
   "mimetype": "text/x-python",
   "name": "python",
   "nbconvert_exporter": "python",
   "pygments_lexer": "ipython3",
   "version": "3.10.9"
  }
 },
 "nbformat": 4,
 "nbformat_minor": 5
}
