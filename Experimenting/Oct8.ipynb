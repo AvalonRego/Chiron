{
 "cells": [
  {
   "cell_type": "code",
   "execution_count": null,
   "id": "09c68329-a77b-4a42-8c92-d5ca359441b4",
   "metadata": {
    "tags": []
   },
   "outputs": [],
   "source": [
    "import sys\n",
    "sys.path.append('../../olympus/lib/python3.10/site-packages/')\n",
    "from ananke.models.collection import Collection\n",
    "from ananke.configurations.collection import MergeConfiguration\n",
    "from ananke.schemas.event import RecordType\n",
    "from ananke.configurations.events import EventRedistributionMode\n",
    "from ananke.configurations.events import (\n",
    "    RedistributionConfiguration,\n",
    "    Interval,\n",
    "    EventRedistributionMode,\n",
    ")\n",
    "from ananke.configurations.collection import HDF5StorageConfiguration\n",
    "import os\n",
    "import time\n",
    "import logging\n",
    "import ananke.models.collection\n",
    "import importlib\n",
    "importlib.reload(ananke.models.collection)\n",
    "from ananke.models.collection import Collection#, LegacyCollection\n",
    "from ananke.configurations.collection import HDF5StorageConfiguration\n",
    "logging.getLogger().setLevel(logging.INFO)\n",
    "\n",
    "from ananke.configurations.collection import (\n",
    "    HDF5StorageConfiguration,\n",
    "    MergeConfiguration, MergeContentConfiguration,\n",
    ")\n",
    "from ananke.visualisation.detector import get_detector_scatter3ds\n",
    "import numpy as np\n",
    "import matplotlib.pyplot as plt\n",
    "import time\n",
    "\n",
    "logging.getLogger().setLevel(logging.INFO)\n",
    "\n",
    "import cProfile\n",
    "import pstats\n",
    "from joblib import Parallel, delayed"
   ]
  },
  {
   "cell_type": "code",
   "execution_count": 3,
   "id": "24c44031-c506-4635-bc15-987bec1a29d8",
   "metadata": {
    "tags": []
   },
   "outputs": [
    {
     "data": {
      "text/plain": [
       "(10, 13)"
      ]
     },
     "metadata": {},
     "output_type": "display_data"
    }
   ],
   "source": [
    "config=HDF5StorageConfiguration(data_path='data/HexCascadeBenchMark.h5',read_only=False)\n",
    "C1=Collection(config)\n",
    "C1.open()\n",
    "display(C1.storage.get_records().df.shape)\n",
    "C1.close()"
   ]
  },
  {
   "cell_type": "code",
   "execution_count": 4,
   "id": "dabcdedf-d288-4a22-aa72-9cb4612bcc91",
   "metadata": {
    "tags": []
   },
   "outputs": [],
   "source": [
    "config=HDF5StorageConfiguration(data_path='data/1.h5',read_only=False)\n",
    "C1=Collection(config)"
   ]
  },
  {
   "cell_type": "code",
   "execution_count": 5,
   "id": "c132a653-6510-4d01-844b-1bc898c70150",
   "metadata": {
    "tags": []
   },
   "outputs": [
    {
     "name": "stdout",
     "output_type": "stream",
     "text": [
      "<class 'pandas.io.pytables.HDFStore'>\n"
     ]
    }
   ],
   "source": [
    "C1.open()\n",
    "print(type(C1.storage.store))\n",
    "C1.close()"
   ]
  },
  {
   "cell_type": "code",
   "execution_count": 3,
   "id": "0dee77e3-59f0-4fe8-b586-8ec0f93c5e17",
   "metadata": {
    "tags": []
   },
   "outputs": [
    {
     "name": "stdout",
     "output_type": "stream",
     "text": [
      "in_collections=[HDF5StorageConfiguration(type=<StorageTypes.HDF5: 'hdf5'>, read_only=False, batch_size=100, data_path='data/HexCascadeBenchMark.h5', complevel=3, complib='lzo', optlevel=6), HDF5StorageConfiguration(type=<StorageTypes.HDF5: 'hdf5'>, read_only=False, batch_size=100, data_path='data/Hex_electrical_noise_10_BM.h5', complevel=3, complib='lzo', optlevel=6), HDF5StorageConfiguration(type=<StorageTypes.HDF5: 'hdf5'>, read_only=False, batch_size=100, data_path='data/HexBioluminescenceBenchMark.h5', complevel=3, complib='lzo', optlevel=6)] tmp_collection=HDF5StorageConfiguration(type=<StorageTypes.HDF5: 'hdf5'>, read_only=False, batch_size=100, data_path='/raven/u/arego/olympus/lib/python3.10/site-packages/ananke/configurations/../../_tmp_62b2855d-9d75-42a0-828d-5d6829437440data.h5', complevel=3, complib='lzo', optlevel=6) out_collection=HDF5StorageConfiguration(type=<StorageTypes.HDF5: 'hdf5'>, read_only=False, batch_size=100, data_path='data/OutCollection.h5', complevel=3, complib='lzo', optlevel=6) content=[MergeContentConfiguration(primary_type=<RecordType.CASCADE: 1>, number_of_records=10, secondary_types=[<RecordType.ELECTRICAL: 20>, <RecordType.BIOLUMINESCENCE: 21>], interval=Interval(start=0.0, end=1000.0), filter_no_hits=True)] redistribution=RedistributionConfiguration(interval=Interval(start=0.0, end=1000.0), mode=<EventRedistributionMode.CONTAINS_EVENT: 'contains_event'>, seed=32118, percentile=0.5) seed=32118\n"
     ]
    }
   ],
   "source": [
    "path='data/'\n",
    "configuration = MergeConfiguration.parse_obj(\n",
    "    {\n",
    "        'in_collections': [\n",
    "            {\n",
    "                'type': 'hdf5',\n",
    "                'data_path':'data/HexCascadeBenchMark.h5',\n",
    "                'read_only':'False',\n",
    "            },\n",
    "            {\n",
    "                'type': 'hdf5',\n",
    "                'data_path': 'data/Hex_electrical_noise_10_BM.h5',\n",
    "                'read_only':'False',\n",
    "            },\n",
    "            {\n",
    "                'type': 'hdf5',\n",
    "                'data_path': 'data/HexBioluminescenceBenchMark.h5',\n",
    "                'read_only':'False',\n",
    "            },\n",
    "        ],\n",
    "        'out_collection': {\n",
    "                'type': 'hdf5',\n",
    "                'data_path': 'data/OutCollection.h5',\n",
    "                'read_only':'False',\n",
    "        },\n",
    "        'content': [\n",
    "            {\n",
    "                'primary_type': RecordType.CASCADE.value,\n",
    "                'secondary_types': [RecordType.ELECTRICAL.value,RecordType.BIOLUMINESCENCE],\n",
    "                'number_of_records': 10,\n",
    "                'interval': {\n",
    "                    'start': 0,\n",
    "                    'end': 1000,\n",
    "                }\n",
    "            },\n",
    "        ],\n",
    "        'redistribution': {\n",
    "            'interval': {\n",
    "                'start': 0,\n",
    "                'end': 1000\n",
    "            },\n",
    "            'mode': EventRedistributionMode.CONTAINS_EVENT\n",
    "        }\n",
    "           \n",
    "    }\n",
    ")\n",
    "\n",
    "print(configuration)"
   ]
  },
  {
   "cell_type": "code",
   "execution_count": 4,
   "id": "62fad7b7-35c5-4caf-8c08-d535a89d5af0",
   "metadata": {
    "tags": []
   },
   "outputs": [
    {
     "name": "stderr",
     "output_type": "stream",
     "text": [
      "INFO:root:Starting to merge collections with config.\n",
      "INFO:root:Starting to create joined temporary collection.\n",
      "100it [00:05, 16.73it/s]              \n",
      "INFO:Collection:Starting to append collection.\n",
      "100it [00:00, 1164.88it/s]            \n",
      "INFO:Collection:Finished to append collection.\n",
      "INFO:Collection:Starting to append collection.\n",
      "100it [00:00, 574.96it/s]             \n",
      "INFO:Collection:Finished to append collection.\n",
      "INFO:root:Finished creating joined temporary collection.\n",
      "INFO:Collection:Starting to redistribute with mode: contains_event\n",
      " 33%|███▎      | 10/30 [1:41:38<3:23:16, 609.84s/it]\n",
      "INFO:Collection:Finished to redistribute with mode: contains_event\n",
      "INFO:root:Starting to create 10 RecordType.CASCADE records\n",
      "INFO:root:Secondary types: 20, 21\n",
      "100%|██████████| 10/10 [01:01<00:00,  6.17s/it]\n",
      "INFO:root:Finished to create 10 RecordType.CASCADE records\n",
      "INFO:root:Finished to merge collections with config.\n"
     ]
    }
   ],
   "source": [
    "with cProfile.Profile() as profile2:\n",
    "    collection=Collection.from_merge(configuration)"
   ]
  },
  {
   "cell_type": "code",
   "execution_count": null,
   "id": "6ee1f5b3-0ac5-4077-90c4-e25432f36154",
   "metadata": {
    "tags": []
   },
   "outputs": [],
   "source": [
    "path='data/'\n",
    "configuration = MergeConfiguration.parse_obj(\n",
    "    {\n",
    "        'in_collections': [\n",
    "            {\n",
    "                'type': 'hdf5',\n",
    "                'data_path':'data/HexCascadeBenchMark.h5',\n",
    "                'read_only':'False',\n",
    "            },\n",
    "            {\n",
    "                'type': 'hdf5',\n",
    "                'data_path': 'data/Hex_electrical_noise_10_BM.h5',\n",
    "                'read_only':'False',\n",
    "            },\n",
    "            {\n",
    "                'type': 'hdf5',\n",
    "                'data_path': 'data/HexBioluminescenceBenchMark.h5',\n",
    "                'read_only':'False',\n",
    "            },\n",
    "        ],\n",
    "        'out_collection': {\n",
    "                'type': 'hdf5',\n",
    "                'data_path': 'data/4.h5',\n",
    "                'read_only':'False',\n",
    "        },\n",
    "        'content': [\n",
    "            {\n",
    "                'primary_type': RecordType.CASCADE.value,\n",
    "                'secondary_types': [RecordType.ELECTRICAL.value,RecordType.BIOLUMINESCENCE],\n",
    "                'number_of_records': 10,\n",
    "                'interval': {\n",
    "                    'start': 0,\n",
    "                    'end': 1000,\n",
    "                }\n",
    "            },\n",
    "        ],\n",
    "        \n",
    "           \n",
    "    }\n",
    ")\n",
    "\n",
    "print(configuration)"
   ]
  },
  {
   "cell_type": "code",
   "execution_count": null,
   "id": "405798ae-71cf-4287-aa8f-88ae645e5677",
   "metadata": {
    "tags": []
   },
   "outputs": [],
   "source": [
    "with cProfile.Profile() as profile2:\n",
    "    collection=Collection.from_merge(configuration)"
   ]
  },
  {
   "cell_type": "code",
   "execution_count": 12,
   "id": "d528d3c3-7e46-40fa-8cd1-be53257a78a1",
   "metadata": {},
   "outputs": [
    {
     "name": "stdout",
     "output_type": "stream",
     "text": [
      "         436026673 function calls (435720231 primitive calls) in 6167.725 seconds\n",
      "\n"
     ]
    },
    {
     "data": {
      "text/plain": [
       "<pstats.Stats at 0x14ae6312fd90>"
      ]
     },
     "execution_count": 12,
     "metadata": {},
     "output_type": "execute_result"
    }
   ],
   "source": [
    "results1.print_stats('site-packages/olympus')"
   ]
  },
  {
   "cell_type": "code",
   "execution_count": 8,
   "id": "58b932bb-9e26-4753-97ff-250dbdfb004e",
   "metadata": {},
   "outputs": [
    {
     "name": "stdout",
     "output_type": "stream",
     "text": [
      "         436026673 function calls (435720231 primitive calls) in 6167.725 seconds\n",
      "\n",
      "   Ordered by: cumulative time\n",
      "   List reduced from 2147 to 55 due to restriction <'ananke'>\n",
      "\n",
      "   ncalls  tottime  percall  cumtime  percall filename:lineno(function)\n",
      "        1    0.001    0.001 6167.728 6167.728 /raven/u/arego/project/Experimenting/../../olympus/lib/python3.10/site-packages/ananke/models/collection.py:390(from_merge)\n",
      "        1    0.001    0.001 6098.463 6098.463 /raven/u/arego/project/Experimenting/../../olympus/lib/python3.10/site-packages/ananke/models/collection.py:156(redistribute)\n",
      "       20    0.001    0.000 6057.184  302.859 /raven/u/arego/project/Experimenting/../../olympus/lib/python3.10/site-packages/ananke/services/collection/storage.py:751(__del_data)\n",
      "       10    0.000    0.000 6057.071  605.707 /raven/u/arego/project/Experimenting/../../olympus/lib/python3.10/site-packages/ananke/services/collection/storage.py:593(del_hits)\n",
      "      145    0.010    0.000  101.020    0.697 /raven/u/arego/project/Experimenting/../../olympus/lib/python3.10/site-packages/ananke/services/collection/storage.py:700(__get_data)\n",
      "      145    0.001    0.000   99.015    0.683 /raven/u/arego/project/Experimenting/../../olympus/lib/python3.10/site-packages/ananke/services/collection/storage.py:733(<listcomp>)\n",
      "       63    0.001    0.000   98.814    1.568 /raven/u/arego/project/Experimenting/../../olympus/lib/python3.10/site-packages/ananke/services/collection/storage.py:560(get_hits)\n",
      "       60    0.003    0.000    8.827    0.147 /raven/u/arego/project/Experimenting/../../olympus/lib/python3.10/site-packages/ananke/services/collection/storage.py:791(__set_data)\n",
      "       23    0.000    0.000    7.749    0.337 /raven/u/arego/project/Experimenting/../../olympus/lib/python3.10/site-packages/ananke/services/collection/storage.py:584(set_hits)\n",
      "        1    0.000    0.000    6.463    6.463 /raven/u/arego/project/Experimenting/../../olympus/lib/python3.10/site-packages/ananke/models/collection.py:81(copy)\n",
      "       63    0.001    0.000    1.376    0.022 /raven/u/arego/project/Experimenting/../../olympus/lib/python3.10/site-packages/ananke/services/collection/storage.py:613(get_sources)\n",
      "        2    0.000    0.000    0.823    0.411 /raven/u/arego/project/Experimenting/../../olympus/lib/python3.10/site-packages/ananke/models/collection.py:257(append)\n",
      "       14    0.000    0.000    0.533    0.038 /raven/u/arego/project/Experimenting/../../olympus/lib/python3.10/site-packages/ananke/services/collection/storage.py:526(set_records)\n",
      "       21    0.000    0.000    0.480    0.023 /raven/u/arego/project/Experimenting/../../olympus/lib/python3.10/site-packages/ananke/services/collection/storage.py:637(set_sources)\n",
      "        7    0.000    0.000    0.384    0.055 /raven/u/arego/project/Experimenting/../../olympus/lib/python3.10/site-packages/ananke/services/collection/storage.py:473(get_detector)\n",
      "        8    0.000    0.000    0.375    0.047 /raven/u/arego/project/Experimenting/../../olympus/lib/python3.10/site-packages/ananke/services/collection/storage.py:502(get_records)\n",
      "        8    0.000    0.000    0.347    0.043 /raven/u/arego/project/Experimenting/../../olympus/lib/python3.10/site-packages/ananke/services/collection/storage.py:449(open)\n",
      "        5    0.000    0.000    0.343    0.069 /raven/u/arego/project/Experimenting/../../olympus/lib/python3.10/site-packages/ananke/services/collection/storage.py:670(__get_store)\n",
      "        7    0.000    0.000    0.244    0.035 /raven/u/arego/project/Experimenting/../../olympus/lib/python3.10/site-packages/ananke/models/collection.py:69(open)\n",
      "       30    0.001    0.000    0.131    0.004 /raven/u/arego/project/Experimenting/../../olympus/lib/python3.10/site-packages/ananke/models/interfaces.py:135(sample)\n",
      "       10    0.000    0.000    0.114    0.011 /raven/u/arego/project/Experimenting/../../olympus/lib/python3.10/site-packages/ananke/services/collection/storage.py:650(del_sources)\n",
      "        1    0.000    0.000    0.103    0.103 /raven/u/arego/project/Experimenting/../../olympus/lib/python3.10/site-packages/ananke/models/collection.py:57(__enter__)\n",
      "        1    0.000    0.000    0.103    0.103 /raven/u/arego/project/Experimenting/../../olympus/lib/python3.10/site-packages/ananke/services/collection/storage.py:52(__enter__)\n",
      "        4    0.000    0.000    0.074    0.019 /raven/u/arego/project/Experimenting/../../olympus/lib/python3.10/site-packages/ananke/services/collection/storage.py:928(__get_unique_records_ids)\n",
      "        2    0.000    0.000    0.065    0.033 /raven/u/arego/project/Experimenting/../../olympus/lib/python3.10/site-packages/ananke/services/collection/storage.py:481(set_detector)\n",
      "        2    0.000    0.000    0.047    0.023 /raven/u/arego/project/Experimenting/../../olympus/lib/python3.10/site-packages/ananke/services/collection/storage.py:975(get_record_ids_with_hits)\n",
      "       20    0.000    0.000    0.045    0.002 /raven/u/arego/project/Experimenting/../../olympus/lib/python3.10/site-packages/ananke/models/interfaces.py:109(concat)\n",
      "        5    0.000    0.000    0.034    0.007 /raven/u/arego/project/Experimenting/../../olympus/lib/python3.10/site-packages/ananke/services/collection/storage.py:462(close)\n",
      "        4    0.000    0.000    0.031    0.008 /raven/u/arego/project/Experimenting/../../olympus/lib/python3.10/site-packages/ananke/models/collection.py:77(close)\n",
      "       10    0.001    0.000    0.028    0.003 /raven/u/arego/project/Experimenting/../../olympus/lib/python3.10/site-packages/ananke/models/event.py:98(get_statistics)\n",
      "        2    0.000    0.000    0.028    0.014 /raven/u/arego/project/Experimenting/../../olympus/lib/python3.10/site-packages/ananke/services/collection/storage.py:959(get_next_record_ids)\n",
      "       21    0.000    0.000    0.014    0.001 /raven/u/arego/project/Experimenting/../../olympus/lib/python3.10/site-packages/ananke/models/event.py:90(add_time)\n",
      "      165    0.002    0.000    0.005    0.000 /raven/u/arego/project/Experimenting/../../olympus/lib/python3.10/site-packages/ananke/services/collection/storage.py:843(__get_wheres)\n",
      "        1    0.000    0.000    0.003    0.003 /raven/u/arego/project/Experimenting/../../olympus/lib/python3.10/site-packages/ananke/models/collection.py:65(__exit__)\n",
      "        1    0.000    0.000    0.003    0.003 /raven/u/arego/project/Experimenting/../../olympus/lib/python3.10/site-packages/ananke/services/collection/storage.py:56(__exit__)\n",
      "        2    0.000    0.000    0.003    0.001 /raven/u/arego/project/Experimenting/../../olympus/lib/python3.10/site-packages/ananke/models/interfaces.py:98(__eq__)\n",
      "      370    0.000    0.000    0.001    0.000 /raven/u/arego/project/Experimenting/../../olympus/lib/python3.10/site-packages/ananke/services/collection/storage.py:307(__str__)\n",
      "      283    0.001    0.000    0.001    0.000 /raven/u/arego/project/Experimenting/../../olympus/lib/python3.10/site-packages/ananke/services/collection/storage.py:437(store)\n",
      "       35    0.000    0.000    0.001    0.000 /raven/u/arego/project/Experimenting/../../olympus/lib/python3.10/site-packages/ananke/models/event.py:65(record_ids)\n",
      "        6    0.000    0.000    0.000    0.000 /raven/u/arego/project/Experimenting/../../olympus/lib/python3.10/site-packages/ananke/models/interfaces.py:45(__next__)\n",
      "      148    0.000    0.000    0.000    0.000 /raven/u/arego/project/Experimenting/../../olympus/lib/python3.10/site-packages/ananke/services/collection/storage.py:900(<listcomp>)\n",
      "      165    0.000    0.000    0.000    0.000 /raven/u/arego/project/Experimenting/../../olympus/lib/python3.10/site-packages/ananke/services/collection/storage.py:921(<listcomp>)\n",
      "        5    0.000    0.000    0.000    0.000 /raven/u/arego/project/Experimenting/../../olympus/lib/python3.10/site-packages/ananke/models/collection.py:52(__init__)\n",
      "        5    0.000    0.000    0.000    0.000 /raven/u/arego/project/Experimenting/../../olympus/lib/python3.10/site-packages/ananke/services/collection/storage.py:1070(create)\n",
      "        5    0.000    0.000    0.000    0.000 /raven/u/arego/project/Experimenting/../../olympus/lib/python3.10/site-packages/ananke/services/collection/storage.py:431(__init__)\n",
      "       48    0.000    0.000    0.000    0.000 /raven/u/arego/project/Experimenting/../../olympus/lib/python3.10/site-packages/ananke/models/interfaces.py:90(__len__)\n",
      "        5    0.000    0.000    0.000    0.000 /raven/u/arego/project/Experimenting/../../olympus/lib/python3.10/site-packages/ananke/services/collection/storage.py:42(__init__)\n",
      "      148    0.000    0.000    0.000    0.000 /raven/u/arego/project/Experimenting/../../olympus/lib/python3.10/site-packages/ananke/services/collection/storage.py:906(<listcomp>)\n",
      "       80    0.000    0.000    0.000    0.000 /raven/u/arego/project/Experimenting/../../olympus/lib/python3.10/site-packages/ananke/services/collection/storage.py:782(__raise_writable)\n",
      "        3    0.000    0.000    0.000    0.000 /raven/u/arego/project/Experimenting/../../olympus/lib/python3.10/site-packages/ananke/models/interfaces.py:154(iterbatches)\n",
      "        3    0.000    0.000    0.000    0.000 /raven/u/arego/project/Experimenting/../../olympus/lib/python3.10/site-packages/ananke/models/interfaces.py:22(__init__)\n",
      "        1    0.000    0.000    0.000    0.000 /raven/u/arego/project/Experimenting/../../olympus/lib/python3.10/site-packages/ananke/models/collection.py:170(<listcomp>)\n",
      "        3    0.000    0.000    0.000    0.000 /raven/u/arego/project/Experimenting/../../olympus/lib/python3.10/site-packages/ananke/services/collection/storage.py:879(<listcomp>)\n",
      "        1    0.000    0.000    0.000    0.000 /raven/u/arego/project/Experimenting/../../olympus/lib/python3.10/site-packages/ananke/models/collection.py:453(<listcomp>)\n",
      "        3    0.000    0.000    0.000    0.000 /raven/u/arego/project/Experimenting/../../olympus/lib/python3.10/site-packages/ananke/models/interfaces.py:37(__iter__)\n",
      "\n",
      "\n"
     ]
    },
    {
     "data": {
      "text/plain": [
       "<pstats.Stats at 0x14ae6312fd90>"
      ]
     },
     "execution_count": 8,
     "metadata": {},
     "output_type": "execute_result"
    }
   ],
   "source": [
    "results1 = pstats.Stats(profile2)\n",
    "results1.sort_stats(pstats.SortKey.CUMULATIVE)\n",
    "results1.print_stats('ananke')"
   ]
  },
  {
   "cell_type": "code",
   "execution_count": null,
   "id": "ac85b75b-6803-4add-bbea-a8269d3e702f",
   "metadata": {
    "tags": []
   },
   "outputs": [],
   "source": [
    "results1.dump_stats('reorg1.prof')"
   ]
  },
  {
   "cell_type": "code",
   "execution_count": null,
   "id": "0147e0d4-931b-4609-bd1a-2f3917a67477",
   "metadata": {},
   "outputs": [],
   "source": [
    "result=pstats.Stats('reorg.prof')"
   ]
  },
  {
   "cell_type": "code",
   "execution_count": null,
   "id": "631f18f5-73da-4fcc-959b-c9aa177ed380",
   "metadata": {
    "tags": []
   },
   "outputs": [],
   "source": [
    "result.sort_stats(pstats.SortKey.CUMULATIVE)\n",
    "result.print_stats('ananke')"
   ]
  },
  {
   "cell_type": "code",
   "execution_count": null,
   "id": "00083fb2-2b71-4983-9cb8-825437cbe4d6",
   "metadata": {
    "tags": []
   },
   "outputs": [],
   "source": [
    "config=HDF5StorageConfiguration(data_path='data/HexCascadeBenchMark.h5',read_only=False)\n",
    "C1=Collection(config)\n",
    "C1.open()\n",
    "hits=C1.storage.get_hits()\n",
    "sources=C1.storage.get_sources()\n",
    "records=C1.storage.get_records()\n",
    "detector=C1.storage.get_detector()\n",
    "C1.close()"
   ]
  },
  {
   "cell_type": "code",
   "execution_count": null,
   "id": "035de410-996a-45b3-9621-a0299f5716a4",
   "metadata": {
    "tags": []
   },
   "outputs": [],
   "source": [
    "for i in records.df.itertuples():\n",
    "    print(i)\n",
    "    "
   ]
  },
  {
   "cell_type": "code",
   "execution_count": null,
   "id": "09b6e982-cdaf-40d8-b9a3-79fff495c825",
   "metadata": {
    "tags": []
   },
   "outputs": [],
   "source": [
    "from joblib import Parallel, delayed\n",
    "\n",
    "def print_stats(rec):\n",
    "    i=getattr(rec, \"record_id\")\n",
    "    return hits.get_by_record_ids(i).get_statistics()\n",
    "def nesting():\n",
    "    x=np.zeros((3,3))\n",
    "    for i in range(10):\n",
    "        x+=np.ones((3,3))*i\n",
    "        y=Parallel(n_jobs=8)(delayed(print_stats)(rec) for rec in records.df.itertuples())\n",
    "    return y\n",
    "\n",
    "with cProfile.Profile() as profile:\n",
    "    x=Parallel(n_jobs=8)(delayed(print_stats)(rec) for rec in records.df.itertuples())\n",
    "x"
   ]
  },
  {
   "cell_type": "code",
   "execution_count": null,
   "id": "f0b0dc23-c60c-4203-a652-be58f7d002a9",
   "metadata": {
    "tags": []
   },
   "outputs": [],
   "source": [
    "for i in records.df.itertuples():\n",
    "    print(getattr(i, \"record_id\"),type(i))"
   ]
  },
  {
   "cell_type": "code",
   "execution_count": null,
   "id": "13af356d-90f3-405d-ab72-96933693d18e",
   "metadata": {
    "tags": []
   },
   "outputs": [],
   "source": [
    "for i in records.itertuples():\n",
    "    print(getattr(i, \"record_id\"))"
   ]
  },
  {
   "cell_type": "code",
   "execution_count": null,
   "id": "50977349-9692-4a34-a0d9-7bcf5a1c740c",
   "metadata": {
    "tags": []
   },
   "outputs": [],
   "source": [
    "C1.open()"
   ]
  },
  {
   "cell_type": "code",
   "execution_count": null,
   "id": "cbe85010-b009-46ca-a337-bece0bda5f1d",
   "metadata": {
    "tags": []
   },
   "outputs": [],
   "source": [
    "configuration.redistribution"
   ]
  },
  {
   "cell_type": "code",
   "execution_count": null,
   "id": "cf3a12ab-7250-4db5-90c5-dfa58c0cae0a",
   "metadata": {
    "tags": []
   },
   "outputs": [],
   "source": [
    "C1.close()"
   ]
  },
  {
   "cell_type": "code",
   "execution_count": null,
   "id": "7314c9be-46c7-450d-b0cc-b219b52230e6",
   "metadata": {
    "tags": []
   },
   "outputs": [],
   "source": [
    "records.df"
   ]
  },
  {
   "cell_type": "code",
   "execution_count": null,
   "id": "9cc32aa8-cfcc-4866-a775-10ce209e5353",
   "metadata": {
    "tags": []
   },
   "outputs": [],
   "source": [
    "C1.storage.get_records().df"
   ]
  },
  {
   "cell_type": "code",
   "execution_count": null,
   "id": "9acc2daa-ce1c-48bd-a8da-7ca04f8213ad",
   "metadata": {
    "tags": []
   },
   "outputs": [],
   "source": [
    "C1.close()"
   ]
  },
  {
   "cell_type": "code",
   "execution_count": null,
   "id": "4f5274d7-556b-43db-a102-15fea4fd99e2",
   "metadata": {
    "tags": []
   },
   "outputs": [],
   "source": [
    "for i in range(10):\n",
    "    \"\"\"hi\"\"\"\n",
    "    print(i)"
   ]
  },
  {
   "cell_type": "code",
   "execution_count": null,
   "id": "7b1c2630-e05c-4106-ac80-77b7c6fcb72d",
   "metadata": {
    "tags": []
   },
   "outputs": [],
   "source": [
    "Parallel(n_jobs=8)(\n",
    "            delayed()(record)#, rng, redistribution_configuration, record_types)\n",
    "            for record in records.df.itertuples()\n",
    "        )"
   ]
  },
  {
   "cell_type": "code",
   "execution_count": null,
   "id": "01c31efb-9e54-4285-b9fd-43c44f49a8ef",
   "metadata": {
    "tags": []
   },
   "outputs": [],
   "source": [
    "records.record_ids"
   ]
  },
  {
   "cell_type": "code",
   "execution_count": null,
   "id": "867e740b-996e-43a2-98c5-91fb1716f20d",
   "metadata": {
    "tags": []
   },
   "outputs": [],
   "source": [
    "from joblib import Parallel, delayed\n",
    "\n",
    "class ParallelProcessor: # Number of jobs for parallel processing\n",
    "\n",
    "    def square(self, x):\n",
    "        \"\"\"Calculates the square of a number.\"\"\"\n",
    "        return x ** 3\n",
    "\n",
    "    def process_numbers(self, numbers):\n",
    "        \"\"\"Processes a list of numbers in parallel.\"\"\"\n",
    "        print(\"Processing numbers in parallel...\")\n",
    "        results = Parallel(n_jobs=8)(\n",
    "            delayed(self.square)(num) for num in numbers\n",
    "        )\n",
    "        return results\n",
    "\n",
    "# Example usage\n",
    "if __name__ == \"__main__\":\n",
    "    processor = ParallelProcessor()\n",
    "    numbers = [1, 2, 3, 4, 5]\n",
    "    squared_numbers = processor.process_numbers(numbers)\n",
    "    print(\"Squared numbers:\", squared_numbers)\n"
   ]
  },
  {
   "cell_type": "code",
   "execution_count": null,
   "id": "7fd02dd6-5bfa-4f3a-9ef8-ee96fd470fe7",
   "metadata": {
    "tags": []
   },
   "outputs": [],
   "source": [
    "import testingimport as ti"
   ]
  },
  {
   "cell_type": "code",
   "execution_count": null,
   "id": "08bd2fec-c766-43a5-b1c6-3d5f9f921108",
   "metadata": {
    "tags": []
   },
   "outputs": [],
   "source": [
    "processor = ti.ParallelProcessor()\n",
    "numbers = [1, 2, 3, 4, 5]\n",
    "squared_numbers = processor.process_numbers(numbers)\n",
    "print(\"Squared numbers:\", squared_numbers)"
   ]
  },
  {
   "cell_type": "code",
   "execution_count": null,
   "id": "f678f241-de04-4b2d-ba22-c3781f0c682a",
   "metadata": {},
   "outputs": [],
   "source": [
    "for i,j in enumerate(range(5,10)):\n",
    "    print(i,j)"
   ]
  },
  {
   "cell_type": "code",
   "execution_count": 5,
   "id": "fd5810c8-2935-4562-9353-824f2ec23bf9",
   "metadata": {},
   "outputs": [
    {
     "data": {
      "text/plain": [
       "<ananke.services.collection.storage.HDF5CollectionStorage at 0x1500517a3940>"
      ]
     },
     "execution_count": 5,
     "metadata": {},
     "output_type": "execute_result"
    }
   ],
   "source": [
    "C1.open()"
   ]
  },
  {
   "cell_type": "code",
   "execution_count": 6,
   "id": "bc9b7423-c32a-459a-b0ea-6048b84e1cb7",
   "metadata": {
    "tags": []
   },
   "outputs": [
    {
     "data": {
      "text/html": [
       "<div>\n",
       "<style scoped>\n",
       "    .dataframe tbody tr th:only-of-type {\n",
       "        vertical-align: middle;\n",
       "    }\n",
       "\n",
       "    .dataframe tbody tr th {\n",
       "        vertical-align: top;\n",
       "    }\n",
       "\n",
       "    .dataframe thead th {\n",
       "        text-align: right;\n",
       "    }\n",
       "</style>\n",
       "<table border=\"1\" class=\"dataframe\">\n",
       "  <thead>\n",
       "    <tr style=\"text-align: right;\">\n",
       "      <th></th>\n",
       "      <th>location_x</th>\n",
       "      <th>location_y</th>\n",
       "      <th>location_z</th>\n",
       "      <th>orientation_x</th>\n",
       "      <th>orientation_y</th>\n",
       "      <th>orientation_z</th>\n",
       "      <th>record_id</th>\n",
       "      <th>energy</th>\n",
       "      <th>length</th>\n",
       "      <th>time</th>\n",
       "      <th>type</th>\n",
       "      <th>particle_id</th>\n",
       "      <th>duration</th>\n",
       "    </tr>\n",
       "  </thead>\n",
       "  <tbody>\n",
       "    <tr>\n",
       "      <th>0</th>\n",
       "      <td>-51.148253</td>\n",
       "      <td>140.009025</td>\n",
       "      <td>378.404412</td>\n",
       "      <td>0.815855</td>\n",
       "      <td>0.475162</td>\n",
       "      <td>0.329547</td>\n",
       "      <td>9</td>\n",
       "      <td>55427.232682</td>\n",
       "      <td>3000.0</td>\n",
       "      <td>0.0</td>\n",
       "      <td>1</td>\n",
       "      <td>11</td>\n",
       "      <td>NaN</td>\n",
       "    </tr>\n",
       "    <tr>\n",
       "      <th>1</th>\n",
       "      <td>105.854169</td>\n",
       "      <td>-126.931308</td>\n",
       "      <td>288.042876</td>\n",
       "      <td>-0.530766</td>\n",
       "      <td>0.818127</td>\n",
       "      <td>-0.221258</td>\n",
       "      <td>4</td>\n",
       "      <td>2305.681058</td>\n",
       "      <td>3000.0</td>\n",
       "      <td>0.0</td>\n",
       "      <td>1</td>\n",
       "      <td>11</td>\n",
       "      <td>NaN</td>\n",
       "    </tr>\n",
       "    <tr>\n",
       "      <th>2</th>\n",
       "      <td>20.848573</td>\n",
       "      <td>172.442361</td>\n",
       "      <td>250.813873</td>\n",
       "      <td>-0.149179</td>\n",
       "      <td>0.229946</td>\n",
       "      <td>-0.961702</td>\n",
       "      <td>7</td>\n",
       "      <td>116.686889</td>\n",
       "      <td>3000.0</td>\n",
       "      <td>0.0</td>\n",
       "      <td>1</td>\n",
       "      <td>11</td>\n",
       "      <td>NaN</td>\n",
       "    </tr>\n",
       "    <tr>\n",
       "      <th>3</th>\n",
       "      <td>38.257116</td>\n",
       "      <td>-41.263073</td>\n",
       "      <td>306.950846</td>\n",
       "      <td>-0.528620</td>\n",
       "      <td>0.814819</td>\n",
       "      <td>-0.237973</td>\n",
       "      <td>6</td>\n",
       "      <td>2155.494073</td>\n",
       "      <td>3000.0</td>\n",
       "      <td>0.0</td>\n",
       "      <td>1</td>\n",
       "      <td>11</td>\n",
       "      <td>NaN</td>\n",
       "    </tr>\n",
       "    <tr>\n",
       "      <th>4</th>\n",
       "      <td>105.854169</td>\n",
       "      <td>-126.931308</td>\n",
       "      <td>288.042876</td>\n",
       "      <td>-0.530766</td>\n",
       "      <td>0.818127</td>\n",
       "      <td>-0.221258</td>\n",
       "      <td>10</td>\n",
       "      <td>2305.681058</td>\n",
       "      <td>3000.0</td>\n",
       "      <td>0.0</td>\n",
       "      <td>1</td>\n",
       "      <td>11</td>\n",
       "      <td>NaN</td>\n",
       "    </tr>\n",
       "    <tr>\n",
       "      <th>5</th>\n",
       "      <td>-154.788002</td>\n",
       "      <td>-33.427564</td>\n",
       "      <td>443.736516</td>\n",
       "      <td>-0.490772</td>\n",
       "      <td>0.756479</td>\n",
       "      <td>0.432298</td>\n",
       "      <td>2</td>\n",
       "      <td>32101.272279</td>\n",
       "      <td>3000.0</td>\n",
       "      <td>0.0</td>\n",
       "      <td>1</td>\n",
       "      <td>11</td>\n",
       "      <td>NaN</td>\n",
       "    </tr>\n",
       "    <tr>\n",
       "      <th>6</th>\n",
       "      <td>170.397953</td>\n",
       "      <td>66.320281</td>\n",
       "      <td>-68.194255</td>\n",
       "      <td>0.711295</td>\n",
       "      <td>0.414265</td>\n",
       "      <td>0.567842</td>\n",
       "      <td>8</td>\n",
       "      <td>1568.839788</td>\n",
       "      <td>3000.0</td>\n",
       "      <td>0.0</td>\n",
       "      <td>1</td>\n",
       "      <td>11</td>\n",
       "      <td>NaN</td>\n",
       "    </tr>\n",
       "    <tr>\n",
       "      <th>7</th>\n",
       "      <td>38.257116</td>\n",
       "      <td>-41.263073</td>\n",
       "      <td>306.950846</td>\n",
       "      <td>-0.528620</td>\n",
       "      <td>0.814819</td>\n",
       "      <td>-0.237973</td>\n",
       "      <td>11</td>\n",
       "      <td>2155.494073</td>\n",
       "      <td>3000.0</td>\n",
       "      <td>0.0</td>\n",
       "      <td>1</td>\n",
       "      <td>11</td>\n",
       "      <td>NaN</td>\n",
       "    </tr>\n",
       "    <tr>\n",
       "      <th>8</th>\n",
       "      <td>84.605689</td>\n",
       "      <td>103.181461</td>\n",
       "      <td>-11.308332</td>\n",
       "      <td>0.560505</td>\n",
       "      <td>0.326443</td>\n",
       "      <td>-0.761097</td>\n",
       "      <td>12</td>\n",
       "      <td>34240.241604</td>\n",
       "      <td>3000.0</td>\n",
       "      <td>0.0</td>\n",
       "      <td>1</td>\n",
       "      <td>11</td>\n",
       "      <td>NaN</td>\n",
       "    </tr>\n",
       "    <tr>\n",
       "      <th>9</th>\n",
       "      <td>-54.260814</td>\n",
       "      <td>20.774832</td>\n",
       "      <td>275.013752</td>\n",
       "      <td>-0.542991</td>\n",
       "      <td>0.587868</td>\n",
       "      <td>0.599643</td>\n",
       "      <td>13</td>\n",
       "      <td>261.866222</td>\n",
       "      <td>3000.0</td>\n",
       "      <td>0.0</td>\n",
       "      <td>1</td>\n",
       "      <td>11</td>\n",
       "      <td>NaN</td>\n",
       "    </tr>\n",
       "  </tbody>\n",
       "</table>\n",
       "</div>"
      ],
      "text/plain": [
       "   location_x  location_y  location_z  orientation_x  orientation_y  \\\n",
       "0  -51.148253  140.009025  378.404412       0.815855       0.475162   \n",
       "1  105.854169 -126.931308  288.042876      -0.530766       0.818127   \n",
       "2   20.848573  172.442361  250.813873      -0.149179       0.229946   \n",
       "3   38.257116  -41.263073  306.950846      -0.528620       0.814819   \n",
       "4  105.854169 -126.931308  288.042876      -0.530766       0.818127   \n",
       "5 -154.788002  -33.427564  443.736516      -0.490772       0.756479   \n",
       "6  170.397953   66.320281  -68.194255       0.711295       0.414265   \n",
       "7   38.257116  -41.263073  306.950846      -0.528620       0.814819   \n",
       "8   84.605689  103.181461  -11.308332       0.560505       0.326443   \n",
       "9  -54.260814   20.774832  275.013752      -0.542991       0.587868   \n",
       "\n",
       "   orientation_z  record_id        energy  length  time  type  particle_id  \\\n",
       "0       0.329547          9  55427.232682  3000.0   0.0     1           11   \n",
       "1      -0.221258          4   2305.681058  3000.0   0.0     1           11   \n",
       "2      -0.961702          7    116.686889  3000.0   0.0     1           11   \n",
       "3      -0.237973          6   2155.494073  3000.0   0.0     1           11   \n",
       "4      -0.221258         10   2305.681058  3000.0   0.0     1           11   \n",
       "5       0.432298          2  32101.272279  3000.0   0.0     1           11   \n",
       "6       0.567842          8   1568.839788  3000.0   0.0     1           11   \n",
       "7      -0.237973         11   2155.494073  3000.0   0.0     1           11   \n",
       "8      -0.761097         12  34240.241604  3000.0   0.0     1           11   \n",
       "9       0.599643         13    261.866222  3000.0   0.0     1           11   \n",
       "\n",
       "   duration  \n",
       "0       NaN  \n",
       "1       NaN  \n",
       "2       NaN  \n",
       "3       NaN  \n",
       "4       NaN  \n",
       "5       NaN  \n",
       "6       NaN  \n",
       "7       NaN  \n",
       "8       NaN  \n",
       "9       NaN  "
      ]
     },
     "execution_count": 6,
     "metadata": {},
     "output_type": "execute_result"
    }
   ],
   "source": [
    "C1.storage.get_records().df"
   ]
  },
  {
   "cell_type": "code",
   "execution_count": 19,
   "id": "b127f696-a72b-466c-9f0e-e4c714e02981",
   "metadata": {
    "tags": []
   },
   "outputs": [
    {
     "data": {
      "text/html": [
       "<div>\n",
       "<style scoped>\n",
       "    .dataframe tbody tr th:only-of-type {\n",
       "        vertical-align: middle;\n",
       "    }\n",
       "\n",
       "    .dataframe tbody tr th {\n",
       "        vertical-align: top;\n",
       "    }\n",
       "\n",
       "    .dataframe thead th {\n",
       "        text-align: right;\n",
       "    }\n",
       "</style>\n",
       "<table border=\"1\" class=\"dataframe\">\n",
       "  <thead>\n",
       "    <tr style=\"text-align: right;\">\n",
       "      <th></th>\n",
       "      <th>location_x</th>\n",
       "      <th>location_y</th>\n",
       "      <th>location_z</th>\n",
       "      <th>orientation_x</th>\n",
       "      <th>orientation_y</th>\n",
       "      <th>orientation_z</th>\n",
       "      <th>record_id</th>\n",
       "      <th>time</th>\n",
       "      <th>number_of_photons</th>\n",
       "      <th>type</th>\n",
       "    </tr>\n",
       "  </thead>\n",
       "  <tbody>\n",
       "    <tr>\n",
       "      <th>0</th>\n",
       "      <td>105.676254</td>\n",
       "      <td>-126.896660</td>\n",
       "      <td>288.141296</td>\n",
       "      <td>-0.530766</td>\n",
       "      <td>0.818127</td>\n",
       "      <td>-0.221258</td>\n",
       "      <td>4</td>\n",
       "      <td>0.336900</td>\n",
       "      <td>334</td>\n",
       "      <td>0</td>\n",
       "    </tr>\n",
       "    <tr>\n",
       "      <th>1</th>\n",
       "      <td>105.540062</td>\n",
       "      <td>-126.767609</td>\n",
       "      <td>288.041290</td>\n",
       "      <td>-0.530766</td>\n",
       "      <td>0.818127</td>\n",
       "      <td>-0.221258</td>\n",
       "      <td>4</td>\n",
       "      <td>1.004028</td>\n",
       "      <td>28885</td>\n",
       "      <td>0</td>\n",
       "    </tr>\n",
       "    <tr>\n",
       "      <th>2</th>\n",
       "      <td>105.502151</td>\n",
       "      <td>-126.546753</td>\n",
       "      <td>288.044952</td>\n",
       "      <td>-0.530766</td>\n",
       "      <td>0.818127</td>\n",
       "      <td>-0.221258</td>\n",
       "      <td>4</td>\n",
       "      <td>1.671156</td>\n",
       "      <td>324677</td>\n",
       "      <td>0</td>\n",
       "    </tr>\n",
       "    <tr>\n",
       "      <th>3</th>\n",
       "      <td>105.404381</td>\n",
       "      <td>-126.443367</td>\n",
       "      <td>287.757812</td>\n",
       "      <td>-0.530766</td>\n",
       "      <td>0.818127</td>\n",
       "      <td>-0.221258</td>\n",
       "      <td>4</td>\n",
       "      <td>2.338284</td>\n",
       "      <td>1554260</td>\n",
       "      <td>0</td>\n",
       "    </tr>\n",
       "    <tr>\n",
       "      <th>4</th>\n",
       "      <td>105.438347</td>\n",
       "      <td>-126.196587</td>\n",
       "      <td>287.684937</td>\n",
       "      <td>-0.530766</td>\n",
       "      <td>0.818127</td>\n",
       "      <td>-0.221258</td>\n",
       "      <td>4</td>\n",
       "      <td>3.005413</td>\n",
       "      <td>4698470</td>\n",
       "      <td>0</td>\n",
       "    </tr>\n",
       "    <tr>\n",
       "      <th>...</th>\n",
       "      <td>...</td>\n",
       "      <td>...</td>\n",
       "      <td>...</td>\n",
       "      <td>...</td>\n",
       "      <td>...</td>\n",
       "      <td>...</td>\n",
       "      <td>...</td>\n",
       "      <td>...</td>\n",
       "      <td>...</td>\n",
       "      <td>...</td>\n",
       "    </tr>\n",
       "    <tr>\n",
       "      <th>7559</th>\n",
       "      <td>17.364393</td>\n",
       "      <td>178.083145</td>\n",
       "      <td>227.850250</td>\n",
       "      <td>-0.149179</td>\n",
       "      <td>0.229946</td>\n",
       "      <td>-0.961702</td>\n",
       "      <td>13</td>\n",
       "      <td>79.725151</td>\n",
       "      <td>0</td>\n",
       "      <td>0</td>\n",
       "    </tr>\n",
       "    <tr>\n",
       "      <th>7560</th>\n",
       "      <td>17.450766</td>\n",
       "      <td>178.046066</td>\n",
       "      <td>227.620010</td>\n",
       "      <td>-0.149179</td>\n",
       "      <td>0.229946</td>\n",
       "      <td>-0.961702</td>\n",
       "      <td>13</td>\n",
       "      <td>80.392281</td>\n",
       "      <td>0</td>\n",
       "      <td>0</td>\n",
       "    </tr>\n",
       "    <tr>\n",
       "      <th>7561</th>\n",
       "      <td>17.363331</td>\n",
       "      <td>178.119949</td>\n",
       "      <td>227.443283</td>\n",
       "      <td>-0.149179</td>\n",
       "      <td>0.229946</td>\n",
       "      <td>-0.961702</td>\n",
       "      <td>13</td>\n",
       "      <td>81.059402</td>\n",
       "      <td>0</td>\n",
       "      <td>0</td>\n",
       "    </tr>\n",
       "    <tr>\n",
       "      <th>7562</th>\n",
       "      <td>17.259926</td>\n",
       "      <td>177.910629</td>\n",
       "      <td>227.201309</td>\n",
       "      <td>-0.149179</td>\n",
       "      <td>0.229946</td>\n",
       "      <td>-0.961702</td>\n",
       "      <td>13</td>\n",
       "      <td>81.726532</td>\n",
       "      <td>0</td>\n",
       "      <td>0</td>\n",
       "    </tr>\n",
       "    <tr>\n",
       "      <th>7563</th>\n",
       "      <td>17.078880</td>\n",
       "      <td>177.949081</td>\n",
       "      <td>227.030624</td>\n",
       "      <td>-0.149179</td>\n",
       "      <td>0.229946</td>\n",
       "      <td>-0.961702</td>\n",
       "      <td>13</td>\n",
       "      <td>82.393661</td>\n",
       "      <td>0</td>\n",
       "      <td>0</td>\n",
       "    </tr>\n",
       "  </tbody>\n",
       "</table>\n",
       "<p>7564 rows × 10 columns</p>\n",
       "</div>"
      ],
      "text/plain": [
       "      location_x  location_y  location_z  orientation_x  orientation_y  \\\n",
       "0     105.676254 -126.896660  288.141296      -0.530766       0.818127   \n",
       "1     105.540062 -126.767609  288.041290      -0.530766       0.818127   \n",
       "2     105.502151 -126.546753  288.044952      -0.530766       0.818127   \n",
       "3     105.404381 -126.443367  287.757812      -0.530766       0.818127   \n",
       "4     105.438347 -126.196587  287.684937      -0.530766       0.818127   \n",
       "...          ...         ...         ...            ...            ...   \n",
       "7559   17.364393  178.083145  227.850250      -0.149179       0.229946   \n",
       "7560   17.450766  178.046066  227.620010      -0.149179       0.229946   \n",
       "7561   17.363331  178.119949  227.443283      -0.149179       0.229946   \n",
       "7562   17.259926  177.910629  227.201309      -0.149179       0.229946   \n",
       "7563   17.078880  177.949081  227.030624      -0.149179       0.229946   \n",
       "\n",
       "      orientation_z  record_id       time  number_of_photons  type  \n",
       "0         -0.221258          4   0.336900                334     0  \n",
       "1         -0.221258          4   1.004028              28885     0  \n",
       "2         -0.221258          4   1.671156             324677     0  \n",
       "3         -0.221258          4   2.338284            1554260     0  \n",
       "4         -0.221258          4   3.005413            4698470     0  \n",
       "...             ...        ...        ...                ...   ...  \n",
       "7559      -0.961702         13  79.725151                  0     0  \n",
       "7560      -0.961702         13  80.392281                  0     0  \n",
       "7561      -0.961702         13  81.059402                  0     0  \n",
       "7562      -0.961702         13  81.726532                  0     0  \n",
       "7563      -0.961702         13  82.393661                  0     0  \n",
       "\n",
       "[7564 rows x 10 columns]"
      ]
     },
     "execution_count": 19,
     "metadata": {},
     "output_type": "execute_result"
    }
   ],
   "source": [
    "C1.storage.get_sources().df"
   ]
  },
  {
   "cell_type": "code",
   "execution_count": 21,
   "id": "e931e44d-0363-435d-9e31-6ec0aa573939",
   "metadata": {
    "tags": []
   },
   "outputs": [
    {
     "data": {
      "text/plain": [
       "1"
      ]
     },
     "execution_count": 21,
     "metadata": {},
     "output_type": "execute_result"
    }
   ],
   "source": [
    "C1.storage.store.remove(where='((record_id=9))',key='records')"
   ]
  },
  {
   "cell_type": "code",
   "execution_count": 3,
   "id": "0d0bec1d-80b2-4db1-8120-0a009d1acea3",
   "metadata": {},
   "outputs": [],
   "source": [
    "from ananke.configurations.collection import HDF5StorageConfiguration\n",
    "config=HDF5StorageConfiguration(data_path='data/1.h5',read_only=False)\n",
    "C1=Collection(config)\n"
   ]
  },
  {
   "cell_type": "code",
   "execution_count": 15,
   "id": "25a81e02-1254-42f2-9c0a-f800bc791149",
   "metadata": {},
   "outputs": [
    {
     "data": {
      "text/html": [
       "<div>\n",
       "<style scoped>\n",
       "    .dataframe tbody tr th:only-of-type {\n",
       "        vertical-align: middle;\n",
       "    }\n",
       "\n",
       "    .dataframe tbody tr th {\n",
       "        vertical-align: top;\n",
       "    }\n",
       "\n",
       "    .dataframe thead th {\n",
       "        text-align: right;\n",
       "    }\n",
       "</style>\n",
       "<table border=\"1\" class=\"dataframe\">\n",
       "  <thead>\n",
       "    <tr style=\"text-align: right;\">\n",
       "      <th></th>\n",
       "      <th>location_x</th>\n",
       "      <th>location_y</th>\n",
       "      <th>location_z</th>\n",
       "      <th>orientation_x</th>\n",
       "      <th>orientation_y</th>\n",
       "      <th>orientation_z</th>\n",
       "      <th>record_id</th>\n",
       "      <th>energy</th>\n",
       "      <th>length</th>\n",
       "      <th>time</th>\n",
       "      <th>type</th>\n",
       "      <th>particle_id</th>\n",
       "      <th>duration</th>\n",
       "    </tr>\n",
       "  </thead>\n",
       "  <tbody>\n",
       "    <tr>\n",
       "      <th>0</th>\n",
       "      <td>105.854169</td>\n",
       "      <td>-126.931308</td>\n",
       "      <td>288.042876</td>\n",
       "      <td>-0.530766</td>\n",
       "      <td>0.818127</td>\n",
       "      <td>-0.221258</td>\n",
       "      <td>4</td>\n",
       "      <td>2305.681058</td>\n",
       "      <td>3000.0</td>\n",
       "      <td>0.0</td>\n",
       "      <td>1</td>\n",
       "      <td>11</td>\n",
       "      <td>NaN</td>\n",
       "    </tr>\n",
       "    <tr>\n",
       "      <th>1</th>\n",
       "      <td>20.848573</td>\n",
       "      <td>172.442361</td>\n",
       "      <td>250.813873</td>\n",
       "      <td>-0.149179</td>\n",
       "      <td>0.229946</td>\n",
       "      <td>-0.961702</td>\n",
       "      <td>7</td>\n",
       "      <td>116.686889</td>\n",
       "      <td>3000.0</td>\n",
       "      <td>0.0</td>\n",
       "      <td>1</td>\n",
       "      <td>11</td>\n",
       "      <td>NaN</td>\n",
       "    </tr>\n",
       "    <tr>\n",
       "      <th>2</th>\n",
       "      <td>38.257116</td>\n",
       "      <td>-41.263073</td>\n",
       "      <td>306.950846</td>\n",
       "      <td>-0.528620</td>\n",
       "      <td>0.814819</td>\n",
       "      <td>-0.237973</td>\n",
       "      <td>6</td>\n",
       "      <td>2155.494073</td>\n",
       "      <td>3000.0</td>\n",
       "      <td>0.0</td>\n",
       "      <td>1</td>\n",
       "      <td>11</td>\n",
       "      <td>NaN</td>\n",
       "    </tr>\n",
       "    <tr>\n",
       "      <th>3</th>\n",
       "      <td>105.854169</td>\n",
       "      <td>-126.931308</td>\n",
       "      <td>288.042876</td>\n",
       "      <td>-0.530766</td>\n",
       "      <td>0.818127</td>\n",
       "      <td>-0.221258</td>\n",
       "      <td>10</td>\n",
       "      <td>2305.681058</td>\n",
       "      <td>3000.0</td>\n",
       "      <td>0.0</td>\n",
       "      <td>1</td>\n",
       "      <td>11</td>\n",
       "      <td>NaN</td>\n",
       "    </tr>\n",
       "    <tr>\n",
       "      <th>4</th>\n",
       "      <td>170.397953</td>\n",
       "      <td>66.320281</td>\n",
       "      <td>-68.194255</td>\n",
       "      <td>0.711295</td>\n",
       "      <td>0.414265</td>\n",
       "      <td>0.567842</td>\n",
       "      <td>8</td>\n",
       "      <td>1568.839788</td>\n",
       "      <td>3000.0</td>\n",
       "      <td>0.0</td>\n",
       "      <td>1</td>\n",
       "      <td>11</td>\n",
       "      <td>NaN</td>\n",
       "    </tr>\n",
       "    <tr>\n",
       "      <th>5</th>\n",
       "      <td>38.257116</td>\n",
       "      <td>-41.263073</td>\n",
       "      <td>306.950846</td>\n",
       "      <td>-0.528620</td>\n",
       "      <td>0.814819</td>\n",
       "      <td>-0.237973</td>\n",
       "      <td>11</td>\n",
       "      <td>2155.494073</td>\n",
       "      <td>3000.0</td>\n",
       "      <td>0.0</td>\n",
       "      <td>1</td>\n",
       "      <td>11</td>\n",
       "      <td>NaN</td>\n",
       "    </tr>\n",
       "    <tr>\n",
       "      <th>6</th>\n",
       "      <td>84.605689</td>\n",
       "      <td>103.181461</td>\n",
       "      <td>-11.308332</td>\n",
       "      <td>0.560505</td>\n",
       "      <td>0.326443</td>\n",
       "      <td>-0.761097</td>\n",
       "      <td>12</td>\n",
       "      <td>34240.241604</td>\n",
       "      <td>3000.0</td>\n",
       "      <td>0.0</td>\n",
       "      <td>1</td>\n",
       "      <td>11</td>\n",
       "      <td>NaN</td>\n",
       "    </tr>\n",
       "    <tr>\n",
       "      <th>7</th>\n",
       "      <td>-54.260814</td>\n",
       "      <td>20.774832</td>\n",
       "      <td>275.013752</td>\n",
       "      <td>-0.542991</td>\n",
       "      <td>0.587868</td>\n",
       "      <td>0.599643</td>\n",
       "      <td>13</td>\n",
       "      <td>261.866222</td>\n",
       "      <td>3000.0</td>\n",
       "      <td>0.0</td>\n",
       "      <td>1</td>\n",
       "      <td>11</td>\n",
       "      <td>NaN</td>\n",
       "    </tr>\n",
       "  </tbody>\n",
       "</table>\n",
       "</div>"
      ],
      "text/plain": [
       "   location_x  location_y  location_z  orientation_x  orientation_y  \\\n",
       "0  105.854169 -126.931308  288.042876      -0.530766       0.818127   \n",
       "1   20.848573  172.442361  250.813873      -0.149179       0.229946   \n",
       "2   38.257116  -41.263073  306.950846      -0.528620       0.814819   \n",
       "3  105.854169 -126.931308  288.042876      -0.530766       0.818127   \n",
       "4  170.397953   66.320281  -68.194255       0.711295       0.414265   \n",
       "5   38.257116  -41.263073  306.950846      -0.528620       0.814819   \n",
       "6   84.605689  103.181461  -11.308332       0.560505       0.326443   \n",
       "7  -54.260814   20.774832  275.013752      -0.542991       0.587868   \n",
       "\n",
       "   orientation_z  record_id        energy  length  time  type  particle_id  \\\n",
       "0      -0.221258          4   2305.681058  3000.0   0.0     1           11   \n",
       "1      -0.961702          7    116.686889  3000.0   0.0     1           11   \n",
       "2      -0.237973          6   2155.494073  3000.0   0.0     1           11   \n",
       "3      -0.221258         10   2305.681058  3000.0   0.0     1           11   \n",
       "4       0.567842          8   1568.839788  3000.0   0.0     1           11   \n",
       "5      -0.237973         11   2155.494073  3000.0   0.0     1           11   \n",
       "6      -0.761097         12  34240.241604  3000.0   0.0     1           11   \n",
       "7       0.599643         13    261.866222  3000.0   0.0     1           11   \n",
       "\n",
       "   duration  \n",
       "0       NaN  \n",
       "1       NaN  \n",
       "2       NaN  \n",
       "3       NaN  \n",
       "4       NaN  \n",
       "5       NaN  \n",
       "6       NaN  \n",
       "7       NaN  "
      ]
     },
     "metadata": {},
     "output_type": "display_data"
    },
    {
     "data": {
      "text/html": [
       "<div>\n",
       "<style scoped>\n",
       "    .dataframe tbody tr th:only-of-type {\n",
       "        vertical-align: middle;\n",
       "    }\n",
       "\n",
       "    .dataframe tbody tr th {\n",
       "        vertical-align: top;\n",
       "    }\n",
       "\n",
       "    .dataframe thead th {\n",
       "        text-align: right;\n",
       "    }\n",
       "</style>\n",
       "<table border=\"1\" class=\"dataframe\">\n",
       "  <thead>\n",
       "    <tr style=\"text-align: right;\">\n",
       "      <th></th>\n",
       "      <th>time</th>\n",
       "      <th>string_id</th>\n",
       "      <th>module_id</th>\n",
       "      <th>pmt_id</th>\n",
       "      <th>record_id</th>\n",
       "      <th>type</th>\n",
       "    </tr>\n",
       "  </thead>\n",
       "  <tbody>\n",
       "    <tr>\n",
       "      <th>0</th>\n",
       "      <td>887.258960</td>\n",
       "      <td>1</td>\n",
       "      <td>5</td>\n",
       "      <td>15</td>\n",
       "      <td>4</td>\n",
       "      <td>1</td>\n",
       "    </tr>\n",
       "    <tr>\n",
       "      <th>1</th>\n",
       "      <td>892.335039</td>\n",
       "      <td>1</td>\n",
       "      <td>5</td>\n",
       "      <td>15</td>\n",
       "      <td>4</td>\n",
       "      <td>1</td>\n",
       "    </tr>\n",
       "    <tr>\n",
       "      <th>2</th>\n",
       "      <td>886.597592</td>\n",
       "      <td>1</td>\n",
       "      <td>5</td>\n",
       "      <td>15</td>\n",
       "      <td>4</td>\n",
       "      <td>1</td>\n",
       "    </tr>\n",
       "    <tr>\n",
       "      <th>3</th>\n",
       "      <td>886.999259</td>\n",
       "      <td>1</td>\n",
       "      <td>5</td>\n",
       "      <td>15</td>\n",
       "      <td>4</td>\n",
       "      <td>1</td>\n",
       "    </tr>\n",
       "    <tr>\n",
       "      <th>4</th>\n",
       "      <td>892.332709</td>\n",
       "      <td>1</td>\n",
       "      <td>5</td>\n",
       "      <td>15</td>\n",
       "      <td>4</td>\n",
       "      <td>1</td>\n",
       "    </tr>\n",
       "    <tr>\n",
       "      <th>...</th>\n",
       "      <td>...</td>\n",
       "      <td>...</td>\n",
       "      <td>...</td>\n",
       "      <td>...</td>\n",
       "      <td>...</td>\n",
       "      <td>...</td>\n",
       "    </tr>\n",
       "    <tr>\n",
       "      <th>3054962</th>\n",
       "      <td>808.000000</td>\n",
       "      <td>13</td>\n",
       "      <td>19</td>\n",
       "      <td>6</td>\n",
       "      <td>13</td>\n",
       "      <td>21</td>\n",
       "    </tr>\n",
       "    <tr>\n",
       "      <th>3054963</th>\n",
       "      <td>612.000000</td>\n",
       "      <td>13</td>\n",
       "      <td>19</td>\n",
       "      <td>7</td>\n",
       "      <td>13</td>\n",
       "      <td>21</td>\n",
       "    </tr>\n",
       "    <tr>\n",
       "      <th>3054964</th>\n",
       "      <td>622.000000</td>\n",
       "      <td>13</td>\n",
       "      <td>19</td>\n",
       "      <td>10</td>\n",
       "      <td>13</td>\n",
       "      <td>21</td>\n",
       "    </tr>\n",
       "    <tr>\n",
       "      <th>3054965</th>\n",
       "      <td>690.500000</td>\n",
       "      <td>13</td>\n",
       "      <td>19</td>\n",
       "      <td>3</td>\n",
       "      <td>13</td>\n",
       "      <td>21</td>\n",
       "    </tr>\n",
       "    <tr>\n",
       "      <th>3054966</th>\n",
       "      <td>743.500000</td>\n",
       "      <td>13</td>\n",
       "      <td>19</td>\n",
       "      <td>8</td>\n",
       "      <td>13</td>\n",
       "      <td>21</td>\n",
       "    </tr>\n",
       "  </tbody>\n",
       "</table>\n",
       "<p>3054967 rows × 6 columns</p>\n",
       "</div>"
      ],
      "text/plain": [
       "               time  string_id  module_id  pmt_id  record_id  type\n",
       "0        887.258960          1          5      15          4     1\n",
       "1        892.335039          1          5      15          4     1\n",
       "2        886.597592          1          5      15          4     1\n",
       "3        886.999259          1          5      15          4     1\n",
       "4        892.332709          1          5      15          4     1\n",
       "...             ...        ...        ...     ...        ...   ...\n",
       "3054962  808.000000         13         19       6         13    21\n",
       "3054963  612.000000         13         19       7         13    21\n",
       "3054964  622.000000         13         19      10         13    21\n",
       "3054965  690.500000         13         19       3         13    21\n",
       "3054966  743.500000         13         19       8         13    21\n",
       "\n",
       "[3054967 rows x 6 columns]"
      ]
     },
     "metadata": {},
     "output_type": "display_data"
    }
   ],
   "source": [
    "keys=['records','hits','sources']\n",
    "C1.open()\n",
    "display(C1.storage.get_records().df) #to see the data set before deletion\n",
    "#C1.storage.store.remove(where='((record_id=9))',key=Keys[1])\n",
    "display(C1.storage.get_hits().df) #to see it after deletion\n",
    "C1.close()"
   ]
  },
  {
   "cell_type": "code",
   "execution_count": 16,
   "id": "6cbbeac6-579e-438d-9876-33875dd96fc5",
   "metadata": {},
   "outputs": [],
   "source": [
    "C1.open()\n",
    "storage=C1.storage.store\n",
    "C1.close()"
   ]
  },
  {
   "cell_type": "code",
   "execution_count": 19,
   "id": "7b4b07e1-a3a9-45df-8851-9246d6a02c64",
   "metadata": {},
   "outputs": [
    {
     "data": {
      "text/plain": [
       "86177"
      ]
     },
     "execution_count": 19,
     "metadata": {},
     "output_type": "execute_result"
    }
   ],
   "source": [
    "C1.open()\n",
    "storage.remove(where='((record_id=4))',key='hits')"
   ]
  },
  {
   "cell_type": "code",
   "execution_count": null,
   "id": "312f7b23-677b-4a17-8820-639acd7f4681",
   "metadata": {},
   "outputs": [],
   "source": []
  }
 ],
 "metadata": {
  "kernelspec": {
   "display_name": "Python 3 (ipykernel)",
   "language": "python",
   "name": "python3"
  },
  "language_info": {
   "codemirror_mode": {
    "name": "ipython",
    "version": 3
   },
   "file_extension": ".py",
   "mimetype": "text/x-python",
   "name": "python",
   "nbconvert_exporter": "python",
   "pygments_lexer": "ipython3",
   "version": "3.10.9"
  }
 },
 "nbformat": 4,
 "nbformat_minor": 5
}
