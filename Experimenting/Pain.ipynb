{
 "cells": [
  {
   "cell_type": "code",
   "execution_count": 3,
   "id": "1a2c1d1c-73bd-4cd4-8922-e873ebbc1461",
   "metadata": {},
   "outputs": [
    {
     "ename": "ImportError",
     "evalue": "libpython3.10.so.1.0: cannot open shared object file: No such file or directory",
     "output_type": "error",
     "traceback": [
      "\u001b[0;31m---------------------------------------------------------------------------\u001b[0m",
      "\u001b[0;31mImportError\u001b[0m                               Traceback (most recent call last)",
      "Cell \u001b[0;32mIn[3], line 2\u001b[0m\n\u001b[1;32m      1\u001b[0m \u001b[38;5;28;01mfrom\u001b[39;00m \u001b[38;5;21;01mananke\u001b[39;00m\u001b[38;5;21;01m.\u001b[39;00m\u001b[38;5;21;01mmodels\u001b[39;00m\u001b[38;5;21;01m.\u001b[39;00m\u001b[38;5;21;01mcollection\u001b[39;00m \u001b[38;5;28;01mimport\u001b[39;00m Collection\n\u001b[0;32m----> 2\u001b[0m \u001b[38;5;28;01mimport\u001b[39;00m \u001b[38;5;21;01mproposal\u001b[39;00m\n",
      "\u001b[0;31mImportError\u001b[0m: libpython3.10.so.1.0: cannot open shared object file: No such file or directory"
     ]
    }
   ],
   "source": [
    "from ananke.models.collection import Collection\n",
    "import proposal"
   ]
  },
  {
   "cell_type": "code",
   "execution_count": 2,
   "id": "9c90e35d-1d0d-435c-ad0e-fd22e649a0e8",
   "metadata": {
    "tags": []
   },
   "outputs": [],
   "source": [
    "\n",
    "from ananke.configurations.collection import MergeConfiguration\n",
    "from ananke.schemas.event import RecordType\n",
    "from ananke.configurations.events import EventRedistributionMode\n",
    "from ananke.configurations.events import (\n",
    "    RedistributionConfiguration,\n",
    "    Interval,\n",
    "    EventRedistributionMode,\n",
    ")\n",
    "from ananke.configurations.collection import HDF5StorageConfiguration\n",
    "import os\n",
    "import time\n",
    "import logging\n",
    "import ananke.models.collection\n",
    "import importlib\n",
    "importlib.reload(ananke.models.collection)\n",
    "from ananke.models.collection import Collection#, LegacyCollection\n",
    "from ananke.configurations.collection import HDF5StorageConfiguration\n",
    "logging.getLogger().setLevel(logging.INFO)\n",
    "\n",
    "from ananke.configurations.collection import (\n",
    "    HDF5StorageConfiguration,\n",
    "    MergeConfiguration, MergeContentConfiguration,\n",
    ")\n",
    "from ananke.visualisation.detector import get_detector_scatter3ds\n",
    "import numpy as np\n",
    "import matplotlib.pyplot as plt\n",
    "import time\n",
    "\n",
    "logging.getLogger().setLevel(logging.INFO)\n",
    "\n",
    "import cProfile\n",
    "import pstats"
   ]
  },
  {
   "cell_type": "code",
   "execution_count": 2,
   "id": "200b300d-a1da-4a9b-ab52-4d9c5ef8ac60",
   "metadata": {
    "tags": []
   },
   "outputs": [
    {
     "name": "stdout",
     "output_type": "stream",
     "text": [
      "in_collections=[HDF5StorageConfiguration(type=<StorageTypes.HDF5: 'hdf5'>, read_only=False, batch_size=100, data_path='data/HexCascadeBenchMark.h5', complevel=3, complib='lzo', optlevel=6), HDF5StorageConfiguration(type=<StorageTypes.HDF5: 'hdf5'>, read_only=False, batch_size=100, data_path='data/Hex_electrical_noise_10_BM.h5', complevel=3, complib='lzo', optlevel=6), HDF5StorageConfiguration(type=<StorageTypes.HDF5: 'hdf5'>, read_only=False, batch_size=100, data_path='data/HexBioluminescenceBenchMark.h5', complevel=3, complib='lzo', optlevel=6)] tmp_collection=HDF5StorageConfiguration(type=<StorageTypes.HDF5: 'hdf5'>, read_only=False, batch_size=100, data_path='/u/arego/.local/lib/python3.10/site-packages/ananke/configurations/../../_tmp_65d9faa7-1982-4643-9fd2-54c779e5512cdata.h5', complevel=3, complib='lzo', optlevel=6) out_collection=HDF5StorageConfiguration(type=<StorageTypes.HDF5: 'hdf5'>, read_only=False, batch_size=100, data_path='data/4.h5', complevel=3, complib='lzo', optlevel=6) content=[MergeContentConfiguration(primary_type=<RecordType.CASCADE: 1>, number_of_records=10, secondary_types=[<RecordType.ELECTRICAL: 20>, <RecordType.BIOLUMINESCENCE: 21>], interval=Interval(start=0.0, end=1000.0), filter_no_hits=True)] redistribution=RedistributionConfiguration(interval=Interval(start=0.0, end=1000.0), mode=<EventRedistributionMode.CONTAINS_EVENT: 'contains_event'>, seed=32118, percentile=0.5) seed=32118\n"
     ]
    }
   ],
   "source": [
    "configuration = MergeConfiguration.parse_obj(\n",
    "    {\n",
    "        'in_collections': [\n",
    "            {\n",
    "                'type': 'hdf5',\n",
    "                'data_path':'data/HexCascadeBenchMark.h5',\n",
    "                'read_only':'False',\n",
    "            },\n",
    "            {\n",
    "                'type': 'hdf5',\n",
    "                'data_path': 'data/Hex_electrical_noise_10_BM.h5',\n",
    "                'read_only':'False',\n",
    "            },\n",
    "            {\n",
    "                'type': 'hdf5',\n",
    "                'data_path': 'data/HexBioluminescenceBenchMark.h5',\n",
    "                'read_only':'False',\n",
    "            },\n",
    "        ],\n",
    "        'out_collection': {\n",
    "                'type': 'hdf5',\n",
    "                'data_path': 'data/4.h5',\n",
    "                'read_only':'False',\n",
    "        },\n",
    "        'content': [\n",
    "            {\n",
    "                'primary_type': RecordType.CASCADE.value,\n",
    "                'secondary_types': [RecordType.ELECTRICAL.value,RecordType.BIOLUMINESCENCE],\n",
    "                'number_of_records': 10,\n",
    "                'interval': {\n",
    "                    'start': 0,\n",
    "                    'end': 1000,\n",
    "                }\n",
    "            },\n",
    "        ],\n",
    "        'redistribution': {\n",
    "            'interval': {\n",
    "                'start': 0,\n",
    "                'end': 1000\n",
    "            },\n",
    "            'mode': EventRedistributionMode.CONTAINS_EVENT\n",
    "        }\n",
    "           \n",
    "    }\n",
    ")\n",
    "\n",
    "print(configuration)"
   ]
  },
  {
   "cell_type": "code",
   "execution_count": 1,
   "id": "d87a51ad-309c-49b9-8cfc-874c1fd4ef56",
   "metadata": {},
   "outputs": [],
   "source": [
    "import sys\n",
    "import time\n",
    "import traceback\n",
    "#from joblib.externals.loky import set_loky_pickler\n",
    "#from joblib import parallel_config\n",
    "from joblib import Parallel, delayed\n",
    "#from joblib import wrap_non_picklable_objects"
   ]
  },
  {
   "cell_type": "code",
   "execution_count": 8,
   "id": "6fd16d8c-be00-47cd-af2e-94a6f7b13b33",
   "metadata": {
    "tags": []
   },
   "outputs": [
    {
     "name": "stdout",
     "output_type": "stream",
     "text": [
      "[0, 2, 4, 6, 8, 10, 12, 14, 16, 18]\n"
     ]
    }
   ],
   "source": [
    "def func_async(i, *args):\n",
    "    return 2 * i\n",
    "\n",
    "\n",
    "print(Parallel(n_jobs=8)(delayed(func_async)(_) for _ in range(10)))"
   ]
  },
  {
   "cell_type": "code",
   "execution_count": 5,
   "id": "6ecd1482-e12a-4975-88d2-3b50f5d2b37c",
   "metadata": {
    "tags": []
   },
   "outputs": [
    {
     "name": "stdout",
     "output_type": "stream",
     "text": [
      "With loky backend and cloudpickle serialization: 0.072s\n"
     ]
    }
   ],
   "source": [
    "def func_async(i, *args):\n",
    "    return 2 * i\n",
    "\n",
    "\n",
    "# We have to pass an extra argument with a large list (or another large python\n",
    "# object).\n",
    "large_list = list(range(1000000))\n",
    "\n",
    "t_start = time.time()\n",
    "Parallel(n_jobs=2)(delayed(func_async)(21, large_list) for _ in range(1))\n",
    "print(\"With loky backend and cloudpickle serialization: {:.3f}s\"\n",
    "      .format(time.time() - t_start))"
   ]
  },
  {
   "cell_type": "code",
   "execution_count": 2,
   "id": "90b97b5b-5625-43f7-b7b9-3c70e5372ad8",
   "metadata": {},
   "outputs": [],
   "source": [
    "config=HDF5StorageConfiguration(data_path='data/HexRealTracks.h5',read_only=False)\n",
    "C1=Collection(config)"
   ]
  },
  {
   "cell_type": "code",
   "execution_count": 3,
   "id": "6aae8eb7-293c-4c31-abd3-e6e8a2c07220",
   "metadata": {
    "tags": []
   },
   "outputs": [
    {
     "data": {
      "text/plain": [
       "<ananke.services.collection.storage.HDF5CollectionStorage at 0x1532713fc9d0>"
      ]
     },
     "execution_count": 3,
     "metadata": {},
     "output_type": "execute_result"
    }
   ],
   "source": [
    "C1.open()"
   ]
  },
  {
   "cell_type": "code",
   "execution_count": 4,
   "id": "bc29ceff-2d77-46fe-a967-1f208dda5237",
   "metadata": {
    "tags": []
   },
   "outputs": [],
   "source": [
    "x=C1.storage.store"
   ]
  },
  {
   "cell_type": "code",
   "execution_count": 5,
   "id": "44f6a1dd-50ad-464e-a54b-e70269b1ca50",
   "metadata": {},
   "outputs": [
    {
     "data": {
      "text/plain": [
       "pandas.io.pytables.HDFStore"
      ]
     },
     "execution_count": 5,
     "metadata": {},
     "output_type": "execute_result"
    }
   ],
   "source": [
    "type(x)"
   ]
  },
  {
   "cell_type": "code",
   "execution_count": 1,
   "id": "636a31f8-4715-4d56-a3fe-d8ef646183d3",
   "metadata": {},
   "outputs": [],
   "source": [
    "def func1(x):\n",
    "    print(\"hi\")\n",
    "    return x**2"
   ]
  },
  {
   "cell_type": "code",
   "execution_count": 2,
   "id": "ca2c51a2-16d3-44b5-97bd-464dd7e77885",
   "metadata": {
    "tags": []
   },
   "outputs": [],
   "source": [
    "from joblib import Parallel, delayed"
   ]
  },
  {
   "cell_type": "code",
   "execution_count": 4,
   "id": "c525a450-79f5-4075-825a-4e311e400d6b",
   "metadata": {
    "tags": []
   },
   "outputs": [
    {
     "data": {
      "text/plain": [
       "[0, 1, 4, 9, 16, 25, 36, 49, 64, 81]"
      ]
     },
     "execution_count": 4,
     "metadata": {},
     "output_type": "execute_result"
    },
    {
     "name": "stdout",
     "output_type": "stream",
     "text": [
      "hi\n",
      "hi\n",
      "hi\n",
      "hi\n",
      "hi\n",
      "hi\n",
      "hi\n",
      "hi\n",
      "hi\n",
      "hi\n"
     ]
    }
   ],
   "source": [
    "Parallel(n_jobs=8)(delayed(func1)(x) for x in range(10))"
   ]
  },
  {
   "cell_type": "code",
   "execution_count": 1,
   "id": "1c5e4cd1-df44-4bd3-95a4-99852c1121d1",
   "metadata": {},
   "outputs": [],
   "source": [
    "import numpy as np"
   ]
  },
  {
   "cell_type": "code",
   "execution_count": 13,
   "id": "32a3270e-697b-4511-9536-836a75b2b8e7",
   "metadata": {
    "tags": []
   },
   "outputs": [],
   "source": [
    "import matplotlib.pyplot as plt"
   ]
  },
  {
   "cell_type": "code",
   "execution_count": 36,
   "id": "6826792f-d162-4bb6-b4af-2764590548aa",
   "metadata": {
    "tags": []
   },
   "outputs": [
    {
     "data": {
      "image/png": "[encoded data removed]",
      "text/plain": [
       "<Figure size 640x480 with 1 Axes>"
      ]
     },
     "metadata": {},
     "output_type": "display_data"
    }
   ],
   "source": [
    "x=np.linspace(0,2*np.pi,20)\n",
    "plt.scatter(x,np.sin(x))\n",
    "plt.show()"
   ]
  },
  {
   "cell_type": "code",
   "execution_count": null,
   "id": "1f111b17-ade1-4740-888f-d0ae1ecbc988",
   "metadata": {},
   "outputs": [],
   "source": []
  }
 ],
 "metadata": {
  "kernelspec": {
   "display_name": "olympus",
   "language": "python",
   "name": "olympus"
  },
  "language_info": {
   "codemirror_mode": {
    "name": "ipython",
    "version": 3
   },
   "file_extension": ".py",
   "mimetype": "text/x-python",
   "name": "python",
   "nbconvert_exporter": "python",
   "pygments_lexer": "ipython3",
   "version": "3.10.9"
  }
 },
 "nbformat": 4,
 "nbformat_minor": 5
}
