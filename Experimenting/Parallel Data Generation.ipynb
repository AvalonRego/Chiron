{
 "cells": [
  {
   "cell_type": "code",
   "execution_count": null,
   "id": "48d12680-4ca9-4eb0-940f-f27a41ed0aa6",
   "metadata": {},
   "outputs": [],
   "source": [
    "from ananke.configurations.collection import HDF5StorageConfiguration\n",
    "from ananke.visualisation.event import draw_hit_histogram, draw_hit_distribution\n",
    "from ananke.visualisation.detector import get_detector_scatter3ds\n",
    "from olympus.configuration.generators import EventGeneratorConfiguration\n",
    "from olympus.configuration.generators import GenerationConfiguration\n",
    "from olympus.event_generation.medium import MediumEstimationVariant\n",
    "from olympus.configuration.generators import UniformSpectrumConfiguration\n",
    "from ananke.models.collection import Collection\n",
    "from ananke.schemas.event import EventType\n",
    "from olympus.configuration.photon_propagation import MockPhotonPropagatorConfiguration\n",
    "\n",
    "from ananke.configurations.presets.detector import Hex_Configuration\n",
    "\n",
    "from olympus.configuration.generators import DatasetConfiguration\n",
    "\n",
    "#from ananke.configurations.presets.detector import single_line_configuration\n",
    "from olympus.event_generation.generators import generate\n",
    "from ananke import defaults\n",
    "from ananke.configurations.detector import DetectorConfiguration\n",
    "\n",
    "\n",
    "import time\n",
    "import numpy as np\n",
    "\n",
    "from joblib import Parallel, delayed"
   ]
  },
  {
   "cell_type": "code",
   "execution_count": 4,
   "id": "bcbc331f-5488-4e97-a36d-eab6d08ff27c",
   "metadata": {},
   "outputs": [
    {
     "name": "stdout",
     "output_type": "stream",
     "text": [
      "10\n"
     ]
    },
    {
     "name": "stderr",
     "output_type": "stream",
     "text": [
      "100%|██████████| 10/10 [00:01<00:00,  6.83it/s]\n",
      "100%|██████████| 6/6 [00:34<00:00,  5.81s/it]\n",
      "100%|██████████| 10/10 [00:00<00:00, 30.16it/s]\n",
      "100%|██████████| 1/1 [00:02<00:00,  2.50s/it]\n",
      "100%|██████████| 10/10 [00:00<00:00, 29.90it/s]\n",
      "100%|██████████| 3/3 [00:15<00:00,  5.09s/it]\n",
      "100%|██████████| 10/10 [00:00<00:00, 30.20it/s]\n",
      "100%|██████████| 1/1 [00:10<00:00, 10.02s/it]\n",
      "WARNING:root:PTRepack not working. Skipping compression\n"
     ]
    },
    {
     "name": "stdout",
     "output_type": "stream",
     "text": [
      "[87.45774698]\n",
      "[10.]\n"
     ]
    }
   ],
   "source": [
    "detector = Hex_Configuration\n",
    "\n",
    "times=np.array([])\n",
    "sample=np.array([])\n",
    "for i in range(1,16):\n",
    "    samples=10\n",
    "    photon_propagator_configuration = MockPhotonPropagatorConfiguration(\n",
    "        resolution=18000,\n",
    "        medium=MediumEstimationVariant.PONE_OPTIMISTIC,\n",
    "        max_memory_usage=int(2147483648 / 4)\n",
    "    )\n",
    "\n",
    "    configuration = DatasetConfiguration(\n",
    "        detector=detector,\n",
    "        generators=[\n",
    "            GenerationConfiguration(\n",
    "                generator=EventGeneratorConfiguration(\n",
    "                    type=EventType.CASCADE,\n",
    "                    spectrum=UniformSpectrumConfiguration(\n",
    "                        log_minimal_energy=2.0,\n",
    "                        log_maximal_energy=5.5\n",
    "                    ),\n",
    "                    source_propagator=photon_propagator_configuration\n",
    "                ),\n",
    "                number_of_samples=samples\n",
    "            )\n",
    "        ],\n",
    "        storage=HDF5StorageConfiguration(\n",
    "            data_path=f'data/Parallel_testC/{i}.h5',\n",
    "            read_only=False\n",
    "        )\n",
    "    )\n",
    "\n",
    "    start_time=time.time()\n",
    "    print(samples)\n",
    "    collection = generate(configuration)\n",
    "    end_time=time.time()-start_time\n",
    "    times=np.append(times,end_time)\n",
    "    sample=np.append(sample,samples)\n",
    "    print(times)\n",
    "    print(sample)\n",
    "    \n",
    "    break\n"
   ]
  },
  {
   "cell_type": "code",
   "execution_count": 12,
   "id": "52dd88ad-b175-4454-970d-c6ae91ca977a",
   "metadata": {},
   "outputs": [],
   "source": [
    "x=[ 1019.69335651,  1238.00460315 , 2322.37806106,  6002.74362969,\n",
    "  6059.13925791 ,10375.23419046]\n",
    "y=[10., 20. ,30., 40., 50., 60.]"
   ]
  },
  {
   "cell_type": "code",
   "execution_count": 13,
   "id": "b957d718-1635-466a-94f7-c6558c65ebe5",
   "metadata": {},
   "outputs": [],
   "source": [
    "x=np.array(x)\n",
    "y=np.array(y)"
   ]
  },
  {
   "cell_type": "code",
   "execution_count": 14,
   "id": "5688737b-7ae4-4273-86d9-df28e28f6c36",
   "metadata": {},
   "outputs": [
    {
     "data": {
      "text/plain": [
       "array([101.96933565,  61.90023016,  77.41260204, 150.06859074,\n",
       "       121.18278516, 172.92056984])"
      ]
     },
     "execution_count": 14,
     "metadata": {},
     "output_type": "execute_result"
    }
   ],
   "source": [
    "x/y"
   ]
  },
  {
   "cell_type": "code",
   "execution_count": null,
   "id": "c5707662-d5a6-4853-853c-33594353ef70",
   "metadata": {},
   "outputs": [],
   "source": [
    "2000"
   ]
  }
 ],
 "metadata": {
  "kernelspec": {
   "display_name": "olympus",
   "language": "python",
   "name": "olympus"
  },
  "language_info": {
   "codemirror_mode": {
    "name": "ipython",
    "version": 3
   },
   "file_extension": ".py",
   "mimetype": "text/x-python",
   "name": "python",
   "nbconvert_exporter": "python",
   "pygments_lexer": "ipython3",
   "version": "3.10.9"
  }
 },
 "nbformat": 4,
 "nbformat_minor": 5
}
