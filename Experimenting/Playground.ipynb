{
 "cells": [
  {
   "cell_type": "code",
   "execution_count": 1,
   "id": "63b67808-32b2-41ba-a88f-69b57b5c3f5a",
   "metadata": {
    "tags": []
   },
   "outputs": [],
   "source": [
    "from Trigger_V3 import TriggerDatasetProcessor as TDP\n",
    "from ananke.models.collection import Collection\n",
    "from ananke.configurations.collection import HDF5StorageConfiguration\n",
    "import numpy as np\n",
    "import matplotlib.pyplot as plt\n",
    "import os\n",
    "import re\n",
    "import logging \n",
    "logging.getLogger().setLevel(logging.INFO)"
   ]
  },
  {
   "cell_type": "code",
   "execution_count": 2,
   "id": "11f1148e-20cf-4174-8d52-db73cdaa9a8f",
   "metadata": {
    "tags": []
   },
   "outputs": [],
   "source": [
    "process=TDP('data/HexStartingTrackBenchMark.h5')"
   ]
  },
  {
   "cell_type": "code",
   "execution_count": 6,
   "id": "d625cc88-ab46-4d23-8955-a7d778975fe2",
   "metadata": {
    "tags": []
   },
   "outputs": [
    {
     "data": {
      "text/plain": [
       "100"
      ]
     },
     "execution_count": 6,
     "metadata": {},
     "output_type": "execute_result"
    }
   ],
   "source": [
    "process.trigger_intervals"
   ]
  },
  {
   "cell_type": "code",
   "execution_count": 148,
   "id": "2a682f23-968f-4c53-be02-ded425414c42",
   "metadata": {
    "collapsed": true,
    "jupyter": {
     "outputs_hidden": true
    },
    "scrolled": true,
    "tags": []
   },
   "outputs": [
    {
     "name": "stdout",
     "output_type": "stream",
     "text": [
      "interval: 100\n"
     ]
    },
    {
     "name": "stderr",
     "output_type": "stream",
     "text": [
      "INFO:Trigger_V3:Data loaded. Number of records: 10\n",
      "INFO:Trigger_V3:Total time taken: 93.27 seconds\n"
     ]
    },
    {
     "name": "stdout",
     "output_type": "stream",
     "text": [
      "interval: 90\n"
     ]
    },
    {
     "name": "stderr",
     "output_type": "stream",
     "text": [
      "INFO:Trigger_V3:Data loaded. Number of records: 10\n",
      "INFO:Trigger_V3:Total time taken: 123.13 seconds\n"
     ]
    },
    {
     "name": "stdout",
     "output_type": "stream",
     "text": [
      "interval: 80\n"
     ]
    },
    {
     "name": "stderr",
     "output_type": "stream",
     "text": [
      "INFO:Trigger_V3:Data loaded. Number of records: 10\n",
      "INFO:Trigger_V3:Total time taken: 116.92 seconds\n"
     ]
    },
    {
     "name": "stdout",
     "output_type": "stream",
     "text": [
      "interval: 70\n"
     ]
    },
    {
     "name": "stderr",
     "output_type": "stream",
     "text": [
      "INFO:Trigger_V3:Data loaded. Number of records: 10\n",
      "INFO:Trigger_V3:Total time taken: 131.13 seconds\n"
     ]
    },
    {
     "name": "stdout",
     "output_type": "stream",
     "text": [
      "interval: 60\n"
     ]
    },
    {
     "name": "stderr",
     "output_type": "stream",
     "text": [
      "INFO:Trigger_V3:Data loaded. Number of records: 10\n",
      "INFO:Trigger_V3:Total time taken: 175.60 seconds\n"
     ]
    },
    {
     "name": "stdout",
     "output_type": "stream",
     "text": [
      "interval: 50\n"
     ]
    },
    {
     "name": "stderr",
     "output_type": "stream",
     "text": [
      "INFO:Trigger_V3:Data loaded. Number of records: 10\n",
      "INFO:Trigger_V3:Total time taken: 183.46 seconds\n"
     ]
    },
    {
     "name": "stdout",
     "output_type": "stream",
     "text": [
      "interval: 40\n"
     ]
    },
    {
     "name": "stderr",
     "output_type": "stream",
     "text": [
      "INFO:Trigger_V3:Data loaded. Number of records: 10\n",
      "INFO:Trigger_V3:Total time taken: 252.21 seconds\n"
     ]
    },
    {
     "name": "stdout",
     "output_type": "stream",
     "text": [
      "interval: 30\n"
     ]
    },
    {
     "name": "stderr",
     "output_type": "stream",
     "text": [
      "INFO:Trigger_V3:Data loaded. Number of records: 10\n",
      "INFO:Trigger_V3:Total time taken: 389.91 seconds\n"
     ]
    },
    {
     "name": "stdout",
     "output_type": "stream",
     "text": [
      "interval: 20\n"
     ]
    },
    {
     "name": "stderr",
     "output_type": "stream",
     "text": [
      "INFO:Trigger_V3:Data loaded. Number of records: 10\n",
      "INFO:Trigger_V3:Total time taken: 742.87 seconds\n"
     ]
    },
    {
     "name": "stdout",
     "output_type": "stream",
     "text": [
      "interval: 10\n"
     ]
    },
    {
     "name": "stderr",
     "output_type": "stream",
     "text": [
      "INFO:Trigger_V3:Data loaded. Number of records: 10\n",
      "IOStream.flush timed out\n",
      "INFO:Trigger_V3:Total time taken: 3125.00 seconds\n"
     ]
    }
   ],
   "source": [
    "size=[]\n",
    "for i in range(10,0,-1):\n",
    "    process=TDP('data/HexStartingTrackBenchMark.h5')\n",
    "    process.trigger_intervals=i*10\n",
    "    print('interval:',process.trigger_intervals)\n",
    "    process.trigger_threshhold=1\n",
    "    trigered_mods,hitperinterval,hit_time=process.run()\n",
    "    size.append(process.times.shape[0])\n",
    "        #trigvar.append([trigered_mods,hitperinterval,hit_time])\n",
    "    #track_data=trigvar"
   ]
  },
  {
   "cell_type": "code",
   "execution_count": 91,
   "id": "eeba7f87-8bb5-478a-aae2-8b418e6df5e3",
   "metadata": {
    "tags": []
   },
   "outputs": [
    {
     "name": "stdout",
     "output_type": "stream",
     "text": [
      "interval: 90\n"
     ]
    },
    {
     "name": "stderr",
     "output_type": "stream",
     "text": [
      "INFO:Trigger_V3:Data loaded. Number of records: 10\n",
      "INFO:Trigger_V3:Total time taken: 102.29 seconds\n"
     ]
    }
   ],
   "source": [
    "process=TDP('data/HexStartingTrackBenchMark.h5')\n",
    "process.trigger_intervals=90\n",
    "print('interval:',process.trigger_intervals)\n",
    "process.trigger_threshhold=7\n",
    "trigered_mods,hitperinterval,hit_time=process.run()\n",
    "#size.append(process.times.shape[0])"
   ]
  },
  {
   "cell_type": "code",
   "execution_count": 92,
   "id": "3f86a6fb-62dc-4539-8815-acdb55f19892",
   "metadata": {
    "tags": []
   },
   "outputs": [
    {
     "name": "stdout",
     "output_type": "stream",
     "text": [
      "interval: 90\n"
     ]
    },
    {
     "name": "stderr",
     "output_type": "stream",
     "text": [
      "INFO:Trigger_V3:Data loaded. Number of records: 14\n",
      "INFO:Trigger_V3:Total time taken: 151.47 seconds\n"
     ]
    }
   ],
   "source": [
    "process=TDP('data/Redistributed15.h5')\n",
    "process.trigger_intervals=90\n",
    "print('interval:',process.trigger_intervals)\n",
    "process.trigger_threshhold=7\n",
    "trigered_mods,hitperinterval,hit_time=process.run()\n",
    "#size.append(process.times.shape[0])"
   ]
  },
  {
   "cell_type": "code",
   "execution_count": 96,
   "id": "21a83e4c-a0e2-49e6-a70f-641379c622cb",
   "metadata": {
    "tags": []
   },
   "outputs": [
    {
     "name": "stdout",
     "output_type": "stream",
     "text": [
      "interval: 90\n"
     ]
    },
    {
     "name": "stderr",
     "output_type": "stream",
     "text": [
      "INFO:Trigger_V3:Data loaded. Number of records: 5\n",
      "INFO:Trigger_V3:Total time taken: 22.09 seconds\n"
     ]
    }
   ],
   "source": [
    "process=TDP('data/AllMerge5.h5')\n",
    "process.trigger_intervals=90\n",
    "print('interval:',process.trigger_intervals)\n",
    "process.trigger_threshhold=7\n",
    "trigered_mods,hitperinterval,hit_time=process.run()\n",
    "#size.append(process.times.shape[0])"
   ]
  },
  {
   "cell_type": "code",
   "execution_count": 93,
   "id": "33359be9-6a9d-4090-94d5-202f5573e32a",
   "metadata": {
    "tags": []
   },
   "outputs": [
    {
     "name": "stdout",
     "output_type": "stream",
     "text": [
      "interval: 90\n"
     ]
    },
    {
     "name": "stderr",
     "output_type": "stream",
     "text": [
      "INFO:Trigger_V3:Data loaded. Number of records: 10\n",
      "INFO:Trigger_V3:Total time taken: 88.53 seconds\n"
     ]
    }
   ],
   "source": [
    "process=TDP('data/AllMerge10.h5')\n",
    "process.trigger_intervals=90\n",
    "print('interval:',process.trigger_intervals)\n",
    "process.trigger_threshhold=7\n",
    "trigered_mods,hitperinterval,hit_time=process.run()\n",
    "#size.append(process.times.shape[0])"
   ]
  },
  {
   "cell_type": "code",
   "execution_count": 95,
   "id": "af8a7578-84fb-44b7-b784-f469d65aa9d7",
   "metadata": {
    "tags": []
   },
   "outputs": [
    {
     "name": "stdout",
     "output_type": "stream",
     "text": [
      "interval: 90\n"
     ]
    },
    {
     "name": "stderr",
     "output_type": "stream",
     "text": [
      "INFO:Trigger_V3:Data loaded. Number of records: 24\n",
      "INFO:Trigger_V3:Total time taken: 291.06 seconds\n"
     ]
    }
   ],
   "source": [
    "process=TDP('data/AllMerge25.h5')\n",
    "process.trigger_intervals=90\n",
    "print('interval:',process.trigger_intervals)\n",
    "process.trigger_threshhold=7\n",
    "trigered_mods,hitperinterval,hit_time=process.run()\n",
    "#size.append(process.times.shape[0])"
   ]
  },
  {
   "cell_type": "code",
   "execution_count": 102,
   "id": "dce38c96-4d4b-40ad-a793-672285b84a8a",
   "metadata": {
    "tags": []
   },
   "outputs": [
    {
     "data": {
      "image/png": "[encoded data removed]",
      "text/plain": [
       "<Figure size 640x480 with 1 Axes>"
      ]
     },
     "metadata": {},
     "output_type": "display_data"
    }
   ],
   "source": [
    "plt.plot([5,10,25],[22,88.5,291],'-o')\n",
    "plt.show()"
   ]
  },
  {
   "cell_type": "code",
   "execution_count": null,
   "id": "16852e6b-00ee-4b0e-b79b-401ec9b7f2f8",
   "metadata": {
    "scrolled": true,
    "tags": []
   },
   "outputs": [],
   "source": [
    "size=[]\n",
    "for i in range(10,0,-1):\n",
    "    process=TDP('data/HexStartingTrackBenchMark.h5')\n",
    "    process.trigger_intervals=i*10\n",
    "    print('interval:',process.trigger_intervals)\n",
    "    process.trigger_threshhold=1\n",
    "    trigered_mods,hitperinterval,hit_time=process.run()\n",
    "    size.append(process.times.shape[0])\n",
    "        #trigvar.append([trigered_mods,hitperinterval,hit_time])\n",
    "    #track_data=trigvar"
   ]
  },
  {
   "cell_type": "code",
   "execution_count": 2,
   "id": "ba142817-5dc7-4006-965b-d1ced7f75bc1",
   "metadata": {
    "tags": []
   },
   "outputs": [
    {
     "data": {
      "image/png": "[encoded data removed]",
      "text/plain": [
       "<Figure size 1500x480 with 2 Axes>"
      ]
     },
     "metadata": {},
     "output_type": "display_data"
    },
    {
     "name": "stdout",
     "output_type": "stream",
     "text": [
      "interval =90 is weird\n"
     ]
    }
   ],
   "source": [
    "size=[40, 44, 50, 56, 66, 78, 98, 130, 194, 386]\n",
    "time=np.array([93,122,116,131,175,183,252,390,743,3125])/60\n",
    "intervals=np.arange(100,9,-10)\n",
    "plt.figure().set_figwidth(15)\n",
    "plt.subplot(1,2,1)\n",
    "plt.title('data on running time')\n",
    "plt.xlabel('trigger interval size')\n",
    "plt.ylabel('time in min')\n",
    "plt.plot(intervals,time)\n",
    "plt.minorticks_on()\n",
    "plt.grid()\n",
    "plt.subplot(1,2,2)\n",
    "plt.title('data on how the data is split')\n",
    "plt.xlabel('trigger interval in ns')\n",
    "plt.ylabel('total number of intervals')\n",
    "plt.plot(intervals,size)\n",
    "plt.show()\n",
    "print('interval =90 is weird')"
   ]
  },
  {
   "cell_type": "code",
   "execution_count": 2,
   "id": "4cc3950e-163b-436f-be00-a0d92d7fea32",
   "metadata": {
    "scrolled": true,
    "tags": []
   },
   "outputs": [
    {
     "name": "stdout",
     "output_type": "stream",
     "text": [
      "1\n"
     ]
    },
    {
     "name": "stderr",
     "output_type": "stream",
     "text": [
      "INFO:Trigger_V3:Data loaded. Number of records: 10\n",
      "INFO:Trigger_V3:Total time taken: 94.11 seconds\n"
     ]
    },
    {
     "name": "stdout",
     "output_type": "stream",
     "text": [
      "2\n"
     ]
    },
    {
     "name": "stderr",
     "output_type": "stream",
     "text": [
      "INFO:Trigger_V3:Data loaded. Number of records: 10\n",
      "INFO:Trigger_V3:Total time taken: 94.24 seconds\n"
     ]
    },
    {
     "name": "stdout",
     "output_type": "stream",
     "text": [
      "3\n"
     ]
    },
    {
     "name": "stderr",
     "output_type": "stream",
     "text": [
      "INFO:Trigger_V3:Data loaded. Number of records: 10\n",
      "INFO:Trigger_V3:Total time taken: 93.69 seconds\n"
     ]
    },
    {
     "name": "stdout",
     "output_type": "stream",
     "text": [
      "4\n"
     ]
    },
    {
     "name": "stderr",
     "output_type": "stream",
     "text": [
      "INFO:Trigger_V3:Data loaded. Number of records: 10\n",
      "INFO:Trigger_V3:Total time taken: 93.51 seconds\n"
     ]
    },
    {
     "name": "stdout",
     "output_type": "stream",
     "text": [
      "5\n"
     ]
    },
    {
     "name": "stderr",
     "output_type": "stream",
     "text": [
      "INFO:Trigger_V3:Data loaded. Number of records: 10\n",
      "INFO:Trigger_V3:Total time taken: 93.42 seconds\n"
     ]
    },
    {
     "name": "stdout",
     "output_type": "stream",
     "text": [
      "6\n"
     ]
    },
    {
     "name": "stderr",
     "output_type": "stream",
     "text": [
      "INFO:Trigger_V3:Data loaded. Number of records: 10\n",
      "INFO:Trigger_V3:Total time taken: 92.84 seconds\n"
     ]
    },
    {
     "name": "stdout",
     "output_type": "stream",
     "text": [
      "7\n"
     ]
    },
    {
     "name": "stderr",
     "output_type": "stream",
     "text": [
      "INFO:Trigger_V3:Data loaded. Number of records: 10\n",
      "INFO:Trigger_V3:Total time taken: 92.83 seconds\n"
     ]
    },
    {
     "name": "stdout",
     "output_type": "stream",
     "text": [
      "8\n"
     ]
    },
    {
     "name": "stderr",
     "output_type": "stream",
     "text": [
      "INFO:Trigger_V3:Data loaded. Number of records: 10\n",
      "INFO:Trigger_V3:Total time taken: 91.76 seconds\n"
     ]
    },
    {
     "name": "stdout",
     "output_type": "stream",
     "text": [
      "9\n"
     ]
    },
    {
     "name": "stderr",
     "output_type": "stream",
     "text": [
      "INFO:Trigger_V3:Data loaded. Number of records: 10\n",
      "INFO:Trigger_V3:Total time taken: 91.75 seconds\n"
     ]
    },
    {
     "name": "stdout",
     "output_type": "stream",
     "text": [
      "10\n"
     ]
    },
    {
     "name": "stderr",
     "output_type": "stream",
     "text": [
      "INFO:Trigger_V3:Data loaded. Number of records: 10\n",
      "INFO:Trigger_V3:Total time taken: 91.28 seconds\n"
     ]
    },
    {
     "name": "stdout",
     "output_type": "stream",
     "text": [
      "11\n"
     ]
    },
    {
     "name": "stderr",
     "output_type": "stream",
     "text": [
      "INFO:Trigger_V3:Data loaded. Number of records: 10\n",
      "INFO:Trigger_V3:Total time taken: 91.43 seconds\n"
     ]
    },
    {
     "name": "stdout",
     "output_type": "stream",
     "text": [
      "12\n"
     ]
    },
    {
     "name": "stderr",
     "output_type": "stream",
     "text": [
      "INFO:Trigger_V3:Data loaded. Number of records: 10\n",
      "INFO:Trigger_V3:Total time taken: 91.12 seconds\n"
     ]
    },
    {
     "name": "stdout",
     "output_type": "stream",
     "text": [
      "13\n"
     ]
    },
    {
     "name": "stderr",
     "output_type": "stream",
     "text": [
      "INFO:Trigger_V3:Data loaded. Number of records: 10\n",
      "INFO:Trigger_V3:Total time taken: 91.33 seconds\n"
     ]
    },
    {
     "name": "stdout",
     "output_type": "stream",
     "text": [
      "14\n"
     ]
    },
    {
     "name": "stderr",
     "output_type": "stream",
     "text": [
      "INFO:Trigger_V3:Data loaded. Number of records: 10\n",
      "INFO:Trigger_V3:Total time taken: 91.26 seconds\n"
     ]
    },
    {
     "name": "stdout",
     "output_type": "stream",
     "text": [
      "15\n"
     ]
    },
    {
     "name": "stderr",
     "output_type": "stream",
     "text": [
      "INFO:Trigger_V3:Data loaded. Number of records: 10\n",
      "INFO:Trigger_V3:Total time taken: 91.26 seconds\n"
     ]
    }
   ],
   "source": [
    "trigvar=[]\n",
    "process=TDP('data/HexStartingTrackBenchMark.h5')\n",
    "process.trigger_intervals=100\n",
    "for i in range(1,16):\n",
    "    print(i)\n",
    "    process.trigger_threshhold=i\n",
    "    trigered_mods,hitperinterval,hit_time=process.run()\n",
    "    trigvar.append([trigered_mods,hitperinterval,hit_time])\n",
    "track_data=trigvar"
   ]
  },
  {
   "cell_type": "code",
   "execution_count": 103,
   "id": "326a7fb2-1196-4601-ad8c-be51ad2802db",
   "metadata": {
    "tags": []
   },
   "outputs": [],
   "source": [
    "time_taken_starting=[94.11,94.24,93.69,93.51,93.42,92.84,92.83,91.76,91.75,91.28,91.43,91.12,91.33,91.26,91.26]"
   ]
  },
  {
   "cell_type": "code",
   "execution_count": 3,
   "id": "356b83c8-1e69-4f82-b34a-a3a9cf659635",
   "metadata": {
    "scrolled": true,
    "tags": []
   },
   "outputs": [
    {
     "name": "stdout",
     "output_type": "stream",
     "text": [
      "1\n"
     ]
    },
    {
     "name": "stderr",
     "output_type": "stream",
     "text": [
      "INFO:Trigger_V3:Data loaded. Number of records: 10\n",
      "INFO:Trigger_V3:Total time taken: 123.44 seconds\n"
     ]
    },
    {
     "name": "stdout",
     "output_type": "stream",
     "text": [
      "2\n"
     ]
    },
    {
     "name": "stderr",
     "output_type": "stream",
     "text": [
      "INFO:Trigger_V3:Data loaded. Number of records: 10\n",
      "INFO:Trigger_V3:Total time taken: 123.15 seconds\n"
     ]
    },
    {
     "name": "stdout",
     "output_type": "stream",
     "text": [
      "3\n"
     ]
    },
    {
     "name": "stderr",
     "output_type": "stream",
     "text": [
      "INFO:Trigger_V3:Data loaded. Number of records: 10\n",
      "INFO:Trigger_V3:Total time taken: 122.89 seconds\n"
     ]
    },
    {
     "name": "stdout",
     "output_type": "stream",
     "text": [
      "4\n"
     ]
    },
    {
     "name": "stderr",
     "output_type": "stream",
     "text": [
      "INFO:Trigger_V3:Data loaded. Number of records: 10\n",
      "INFO:Trigger_V3:Total time taken: 122.86 seconds\n"
     ]
    },
    {
     "name": "stdout",
     "output_type": "stream",
     "text": [
      "5\n"
     ]
    },
    {
     "name": "stderr",
     "output_type": "stream",
     "text": [
      "INFO:Trigger_V3:Data loaded. Number of records: 10\n",
      "INFO:Trigger_V3:Total time taken: 122.58 seconds\n"
     ]
    },
    {
     "name": "stdout",
     "output_type": "stream",
     "text": [
      "6\n"
     ]
    },
    {
     "name": "stderr",
     "output_type": "stream",
     "text": [
      "INFO:Trigger_V3:Data loaded. Number of records: 10\n",
      "INFO:Trigger_V3:Total time taken: 122.34 seconds\n"
     ]
    },
    {
     "name": "stdout",
     "output_type": "stream",
     "text": [
      "7\n"
     ]
    },
    {
     "name": "stderr",
     "output_type": "stream",
     "text": [
      "INFO:Trigger_V3:Data loaded. Number of records: 10\n",
      "INFO:Trigger_V3:Total time taken: 122.28 seconds\n"
     ]
    },
    {
     "name": "stdout",
     "output_type": "stream",
     "text": [
      "8\n"
     ]
    },
    {
     "name": "stderr",
     "output_type": "stream",
     "text": [
      "INFO:Trigger_V3:Data loaded. Number of records: 10\n",
      "INFO:Trigger_V3:Total time taken: 121.87 seconds\n"
     ]
    },
    {
     "name": "stdout",
     "output_type": "stream",
     "text": [
      "9\n"
     ]
    },
    {
     "name": "stderr",
     "output_type": "stream",
     "text": [
      "INFO:Trigger_V3:Data loaded. Number of records: 10\n",
      "INFO:Trigger_V3:Total time taken: 121.81 seconds\n"
     ]
    },
    {
     "name": "stdout",
     "output_type": "stream",
     "text": [
      "10\n"
     ]
    },
    {
     "name": "stderr",
     "output_type": "stream",
     "text": [
      "INFO:Trigger_V3:Data loaded. Number of records: 10\n",
      "INFO:Trigger_V3:Total time taken: 122.08 seconds\n"
     ]
    },
    {
     "name": "stdout",
     "output_type": "stream",
     "text": [
      "11\n"
     ]
    },
    {
     "name": "stderr",
     "output_type": "stream",
     "text": [
      "INFO:Trigger_V3:Data loaded. Number of records: 10\n",
      "INFO:Trigger_V3:Total time taken: 122.52 seconds\n"
     ]
    },
    {
     "name": "stdout",
     "output_type": "stream",
     "text": [
      "12\n"
     ]
    },
    {
     "name": "stderr",
     "output_type": "stream",
     "text": [
      "INFO:Trigger_V3:Data loaded. Number of records: 10\n",
      "INFO:Trigger_V3:Total time taken: 121.45 seconds\n"
     ]
    },
    {
     "name": "stdout",
     "output_type": "stream",
     "text": [
      "13\n"
     ]
    },
    {
     "name": "stderr",
     "output_type": "stream",
     "text": [
      "INFO:Trigger_V3:Data loaded. Number of records: 10\n",
      "INFO:Trigger_V3:Total time taken: 121.81 seconds\n"
     ]
    },
    {
     "name": "stdout",
     "output_type": "stream",
     "text": [
      "14\n"
     ]
    },
    {
     "name": "stderr",
     "output_type": "stream",
     "text": [
      "INFO:Trigger_V3:Data loaded. Number of records: 10\n",
      "INFO:Trigger_V3:Total time taken: 121.68 seconds\n"
     ]
    },
    {
     "name": "stdout",
     "output_type": "stream",
     "text": [
      "15\n"
     ]
    },
    {
     "name": "stderr",
     "output_type": "stream",
     "text": [
      "INFO:Trigger_V3:Data loaded. Number of records: 10\n",
      "INFO:Trigger_V3:Total time taken: 121.68 seconds\n"
     ]
    }
   ],
   "source": [
    "trigvar=[]\n",
    "process=TDP('data/HexCascadeBenchMark.h5')\n",
    "process.trigger_intervals=100\n",
    "for i in range(1,16):\n",
    "    print(i)\n",
    "    process.trigger_threshhold=i\n",
    "    trigered_mods,hitperinterval,hit_time=process.run()\n",
    "    trigvar.append([trigered_mods,hitperinterval,hit_time])\n",
    "cascade_data=trigvar"
   ]
  },
  {
   "cell_type": "code",
   "execution_count": 104,
   "id": "1b496c08-e675-4247-9d9e-f310497dc9fa",
   "metadata": {
    "tags": []
   },
   "outputs": [],
   "source": [
    "time_taken_cascade=[123.44, 123.15, 122.89, 122.86, 122.58, 122.34, 122.28, 121.87, 121.81, 122.08, 122.52, 121.45, 121.81, 121.68, 121.68]"
   ]
  },
  {
   "cell_type": "code",
   "execution_count": 4,
   "id": "99a935ae-c5aa-464a-b31a-f9efed9a0970",
   "metadata": {
    "scrolled": true,
    "tags": []
   },
   "outputs": [
    {
     "name": "stderr",
     "output_type": "stream",
     "text": [
      "INFO:Trigger_V3:Data loaded. Number of records: 10\n"
     ]
    },
    {
     "name": "stdout",
     "output_type": "stream",
     "text": [
      "1\n"
     ]
    },
    {
     "name": "stderr",
     "output_type": "stream",
     "text": [
      "INFO:Trigger_V3:Total time taken: 18.34 seconds\n",
      "INFO:Trigger_V3:Data loaded. Number of records: 10\n"
     ]
    },
    {
     "name": "stdout",
     "output_type": "stream",
     "text": [
      "2\n"
     ]
    },
    {
     "name": "stderr",
     "output_type": "stream",
     "text": [
      "INFO:Trigger_V3:Total time taken: 18.81 seconds\n",
      "INFO:Trigger_V3:Data loaded. Number of records: 10\n"
     ]
    },
    {
     "name": "stdout",
     "output_type": "stream",
     "text": [
      "3\n"
     ]
    },
    {
     "name": "stderr",
     "output_type": "stream",
     "text": [
      "INFO:Trigger_V3:Total time taken: 18.10 seconds\n",
      "INFO:Trigger_V3:Data loaded. Number of records: 10\n"
     ]
    },
    {
     "name": "stdout",
     "output_type": "stream",
     "text": [
      "4\n"
     ]
    },
    {
     "name": "stderr",
     "output_type": "stream",
     "text": [
      "INFO:Trigger_V3:Total time taken: 18.48 seconds\n",
      "INFO:Trigger_V3:Data loaded. Number of records: 10\n"
     ]
    },
    {
     "name": "stdout",
     "output_type": "stream",
     "text": [
      "5\n"
     ]
    },
    {
     "name": "stderr",
     "output_type": "stream",
     "text": [
      "INFO:Trigger_V3:Total time taken: 17.76 seconds\n",
      "INFO:Trigger_V3:Data loaded. Number of records: 10\n"
     ]
    },
    {
     "name": "stdout",
     "output_type": "stream",
     "text": [
      "6\n"
     ]
    },
    {
     "name": "stderr",
     "output_type": "stream",
     "text": [
      "INFO:Trigger_V3:Total time taken: 18.09 seconds\n",
      "INFO:Trigger_V3:Data loaded. Number of records: 10\n"
     ]
    },
    {
     "name": "stdout",
     "output_type": "stream",
     "text": [
      "7\n"
     ]
    },
    {
     "name": "stderr",
     "output_type": "stream",
     "text": [
      "INFO:Trigger_V3:Total time taken: 17.19 seconds\n",
      "INFO:Trigger_V3:Data loaded. Number of records: 10\n"
     ]
    },
    {
     "name": "stdout",
     "output_type": "stream",
     "text": [
      "8\n"
     ]
    },
    {
     "name": "stderr",
     "output_type": "stream",
     "text": [
      "INFO:Trigger_V3:Total time taken: 17.06 seconds\n",
      "INFO:Trigger_V3:Data loaded. Number of records: 10\n"
     ]
    },
    {
     "name": "stdout",
     "output_type": "stream",
     "text": [
      "9\n"
     ]
    },
    {
     "name": "stderr",
     "output_type": "stream",
     "text": [
      "INFO:Trigger_V3:Total time taken: 16.48 seconds\n",
      "INFO:Trigger_V3:Data loaded. Number of records: 10\n"
     ]
    },
    {
     "name": "stdout",
     "output_type": "stream",
     "text": [
      "10\n"
     ]
    },
    {
     "name": "stderr",
     "output_type": "stream",
     "text": [
      "INFO:Trigger_V3:Total time taken: 16.43 seconds\n",
      "INFO:Trigger_V3:Data loaded. Number of records: 10\n"
     ]
    },
    {
     "name": "stdout",
     "output_type": "stream",
     "text": [
      "11\n"
     ]
    },
    {
     "name": "stderr",
     "output_type": "stream",
     "text": [
      "INFO:Trigger_V3:Total time taken: 16.92 seconds\n",
      "INFO:Trigger_V3:Data loaded. Number of records: 10\n"
     ]
    },
    {
     "name": "stdout",
     "output_type": "stream",
     "text": [
      "12\n"
     ]
    },
    {
     "name": "stderr",
     "output_type": "stream",
     "text": [
      "INFO:Trigger_V3:Total time taken: 16.32 seconds\n",
      "INFO:Trigger_V3:Data loaded. Number of records: 10\n"
     ]
    },
    {
     "name": "stdout",
     "output_type": "stream",
     "text": [
      "13\n"
     ]
    },
    {
     "name": "stderr",
     "output_type": "stream",
     "text": [
      "INFO:Trigger_V3:Total time taken: 16.70 seconds\n",
      "INFO:Trigger_V3:Data loaded. Number of records: 10\n"
     ]
    },
    {
     "name": "stdout",
     "output_type": "stream",
     "text": [
      "14\n"
     ]
    },
    {
     "name": "stderr",
     "output_type": "stream",
     "text": [
      "INFO:Trigger_V3:Total time taken: 16.25 seconds\n",
      "INFO:Trigger_V3:Data loaded. Number of records: 10\n"
     ]
    },
    {
     "name": "stdout",
     "output_type": "stream",
     "text": [
      "15\n"
     ]
    },
    {
     "name": "stderr",
     "output_type": "stream",
     "text": [
      "INFO:Trigger_V3:Total time taken: 16.22 seconds\n"
     ]
    }
   ],
   "source": [
    "trigvar=[]\n",
    "process=TDP('data/HexRealTracks.h5')\n",
    "process.trigger_intervals=100\n",
    "for i in range(1,16):\n",
    "    print(i)\n",
    "    process.trigger_threshhold=i\n",
    "    trigered_mods,hitperinterval,hit_time=process.run()\n",
    "    trigvar.append([trigered_mods,hitperinterval,hit_time])\n",
    "realtrackdata=trigvar"
   ]
  },
  {
   "cell_type": "code",
   "execution_count": 105,
   "id": "ca6f85ae-3f0c-49db-a0ca-cbd6750b0c25",
   "metadata": {
    "tags": []
   },
   "outputs": [],
   "source": [
    "time_taken_Real=[18.34, 18.81, 18.1, 18.48, 17.76, 18.09, 17.19, 17.06, 16.48, 16.43, 16.92, 16.32, 16.7, 16.25, 16.22]"
   ]
  },
  {
   "cell_type": "code",
   "execution_count": 2,
   "id": "dc4cf257-1348-4036-9080-297fe5767838",
   "metadata": {
    "scrolled": true,
    "tags": []
   },
   "outputs": [
    {
     "name": "stderr",
     "output_type": "stream",
     "text": [
      "INFO:Trigger_V3:Data loaded. Number of records: 100\n"
     ]
    },
    {
     "name": "stdout",
     "output_type": "stream",
     "text": [
      "0\n"
     ]
    },
    {
     "name": "stderr",
     "output_type": "stream",
     "text": [
      "INFO:Trigger_V3:Total time taken: 52.16 seconds\n",
      "INFO:Trigger_V3:Data loaded. Number of records: 100\n"
     ]
    },
    {
     "name": "stdout",
     "output_type": "stream",
     "text": [
      "1\n"
     ]
    },
    {
     "name": "stderr",
     "output_type": "stream",
     "text": [
      "INFO:Trigger_V3:Total time taken: 22.32 seconds\n",
      "INFO:Trigger_V3:Data loaded. Number of records: 100\n"
     ]
    },
    {
     "name": "stdout",
     "output_type": "stream",
     "text": [
      "2\n"
     ]
    },
    {
     "name": "stderr",
     "output_type": "stream",
     "text": [
      "INFO:Trigger_V3:Total time taken: 13.00 seconds\n",
      "INFO:Trigger_V3:Data loaded. Number of records: 100\n"
     ]
    },
    {
     "name": "stdout",
     "output_type": "stream",
     "text": [
      "3\n"
     ]
    },
    {
     "name": "stderr",
     "output_type": "stream",
     "text": [
      "INFO:Trigger_V3:Total time taken: 11.67 seconds\n",
      "INFO:Trigger_V3:Data loaded. Number of records: 100\n"
     ]
    },
    {
     "name": "stdout",
     "output_type": "stream",
     "text": [
      "4\n"
     ]
    },
    {
     "name": "stderr",
     "output_type": "stream",
     "text": [
      "INFO:Trigger_V3:Total time taken: 11.69 seconds\n",
      "INFO:Trigger_V3:Data loaded. Number of records: 100\n"
     ]
    },
    {
     "name": "stdout",
     "output_type": "stream",
     "text": [
      "5\n"
     ]
    },
    {
     "name": "stderr",
     "output_type": "stream",
     "text": [
      "INFO:Trigger_V3:Total time taken: 11.62 seconds\n",
      "INFO:Trigger_V3:Data loaded. Number of records: 100\n"
     ]
    },
    {
     "name": "stdout",
     "output_type": "stream",
     "text": [
      "6\n"
     ]
    },
    {
     "name": "stderr",
     "output_type": "stream",
     "text": [
      "INFO:Trigger_V3:Total time taken: 11.71 seconds\n",
      "INFO:Trigger_V3:Data loaded. Number of records: 100\n"
     ]
    },
    {
     "name": "stdout",
     "output_type": "stream",
     "text": [
      "7\n"
     ]
    },
    {
     "name": "stderr",
     "output_type": "stream",
     "text": [
      "INFO:Trigger_V3:Total time taken: 11.61 seconds\n",
      "INFO:Trigger_V3:Data loaded. Number of records: 100\n"
     ]
    },
    {
     "name": "stdout",
     "output_type": "stream",
     "text": [
      "8\n"
     ]
    },
    {
     "name": "stderr",
     "output_type": "stream",
     "text": [
      "INFO:Trigger_V3:Total time taken: 11.73 seconds\n",
      "INFO:Trigger_V3:Data loaded. Number of records: 100\n"
     ]
    },
    {
     "name": "stdout",
     "output_type": "stream",
     "text": [
      "9\n"
     ]
    },
    {
     "name": "stderr",
     "output_type": "stream",
     "text": [
      "INFO:Trigger_V3:Total time taken: 11.69 seconds\n",
      "INFO:Trigger_V3:Data loaded. Number of records: 100\n"
     ]
    },
    {
     "name": "stdout",
     "output_type": "stream",
     "text": [
      "10\n"
     ]
    },
    {
     "name": "stderr",
     "output_type": "stream",
     "text": [
      "INFO:Trigger_V3:Total time taken: 11.64 seconds\n",
      "INFO:Trigger_V3:Data loaded. Number of records: 100\n"
     ]
    },
    {
     "name": "stdout",
     "output_type": "stream",
     "text": [
      "11\n"
     ]
    },
    {
     "name": "stderr",
     "output_type": "stream",
     "text": [
      "INFO:Trigger_V3:Total time taken: 11.68 seconds\n",
      "INFO:Trigger_V3:Data loaded. Number of records: 100\n"
     ]
    },
    {
     "name": "stdout",
     "output_type": "stream",
     "text": [
      "12\n"
     ]
    },
    {
     "name": "stderr",
     "output_type": "stream",
     "text": [
      "INFO:Trigger_V3:Total time taken: 11.63 seconds\n",
      "INFO:Trigger_V3:Data loaded. Number of records: 100\n"
     ]
    },
    {
     "name": "stdout",
     "output_type": "stream",
     "text": [
      "13\n"
     ]
    },
    {
     "name": "stderr",
     "output_type": "stream",
     "text": [
      "INFO:Trigger_V3:Total time taken: 11.73 seconds\n",
      "INFO:Trigger_V3:Data loaded. Number of records: 100\n"
     ]
    },
    {
     "name": "stdout",
     "output_type": "stream",
     "text": [
      "14\n"
     ]
    },
    {
     "name": "stderr",
     "output_type": "stream",
     "text": [
      "INFO:Trigger_V3:Total time taken: 11.58 seconds\n",
      "INFO:Trigger_V3:Data loaded. Number of records: 100\n"
     ]
    },
    {
     "name": "stdout",
     "output_type": "stream",
     "text": [
      "15\n"
     ]
    },
    {
     "name": "stderr",
     "output_type": "stream",
     "text": [
      "INFO:Trigger_V3:Total time taken: 11.71 seconds\n"
     ]
    }
   ],
   "source": [
    "trigvar=[]\n",
    "process=TDP('data/test/Electrical100.h5')\n",
    "process.trigger_intervals=100\n",
    "for i in range(16):\n",
    "    print(i)\n",
    "    process.trigger_threshhold=i\n",
    "    trigered_mods,hitperinterval,hit_time=process.run()\n",
    "    trigvar.append([trigered_mods,hitperinterval,hit_time])\n",
    "noise_data=trigvar"
   ]
  },
  {
   "cell_type": "code",
   "execution_count": 106,
   "id": "fef04582-63c6-4237-8596-456782976f13",
   "metadata": {
    "tags": []
   },
   "outputs": [],
   "source": [
    "time_taken_electrical=[2.27, 1.85, 1.18, 1.17, 1.18, 1.17, 1.17, 1.17, 1.17, 1.17, 1.16, 1.17, 1.17, 1.16, 1.17]"
   ]
  },
  {
   "cell_type": "code",
   "execution_count": 3,
   "id": "7670de2d-e259-48fd-ba04-141c7c0e55d5",
   "metadata": {
    "scrolled": true,
    "tags": []
   },
   "outputs": [
    {
     "name": "stdout",
     "output_type": "stream",
     "text": [
      "1\n"
     ]
    },
    {
     "name": "stderr",
     "output_type": "stream",
     "text": [
      "INFO:Trigger_V3:Data loaded. Number of records: 100\n",
      "INFO:Trigger_V3:Total time taken: 42.84 seconds\n",
      "INFO:Trigger_V3:Data loaded. Number of records: 100\n"
     ]
    },
    {
     "name": "stdout",
     "output_type": "stream",
     "text": [
      "2\n"
     ]
    },
    {
     "name": "stderr",
     "output_type": "stream",
     "text": [
      "INFO:Trigger_V3:Total time taken: 29.18 seconds\n",
      "INFO:Trigger_V3:Data loaded. Number of records: 100\n"
     ]
    },
    {
     "name": "stdout",
     "output_type": "stream",
     "text": [
      "3\n"
     ]
    },
    {
     "name": "stderr",
     "output_type": "stream",
     "text": [
      "INFO:Trigger_V3:Total time taken: 23.53 seconds\n",
      "INFO:Trigger_V3:Data loaded. Number of records: 100\n"
     ]
    },
    {
     "name": "stdout",
     "output_type": "stream",
     "text": [
      "4\n"
     ]
    },
    {
     "name": "stderr",
     "output_type": "stream",
     "text": [
      "INFO:Trigger_V3:Total time taken: 21.00 seconds\n",
      "INFO:Trigger_V3:Data loaded. Number of records: 100\n"
     ]
    },
    {
     "name": "stdout",
     "output_type": "stream",
     "text": [
      "5\n"
     ]
    },
    {
     "name": "stderr",
     "output_type": "stream",
     "text": [
      "INFO:Trigger_V3:Total time taken: 20.45 seconds\n",
      "INFO:Trigger_V3:Data loaded. Number of records: 100\n"
     ]
    },
    {
     "name": "stdout",
     "output_type": "stream",
     "text": [
      "6\n"
     ]
    },
    {
     "name": "stderr",
     "output_type": "stream",
     "text": [
      "INFO:Trigger_V3:Total time taken: 19.44 seconds\n",
      "INFO:Trigger_V3:Data loaded. Number of records: 100\n"
     ]
    },
    {
     "name": "stdout",
     "output_type": "stream",
     "text": [
      "7\n"
     ]
    },
    {
     "name": "stderr",
     "output_type": "stream",
     "text": [
      "INFO:Trigger_V3:Total time taken: 19.21 seconds\n",
      "INFO:Trigger_V3:Data loaded. Number of records: 100\n"
     ]
    },
    {
     "name": "stdout",
     "output_type": "stream",
     "text": [
      "8\n"
     ]
    },
    {
     "name": "stderr",
     "output_type": "stream",
     "text": [
      "INFO:Trigger_V3:Total time taken: 19.47 seconds\n",
      "INFO:Trigger_V3:Data loaded. Number of records: 100\n"
     ]
    },
    {
     "name": "stdout",
     "output_type": "stream",
     "text": [
      "9\n"
     ]
    },
    {
     "name": "stderr",
     "output_type": "stream",
     "text": [
      "INFO:Trigger_V3:Total time taken: 19.42 seconds\n",
      "INFO:Trigger_V3:Data loaded. Number of records: 100\n"
     ]
    },
    {
     "name": "stdout",
     "output_type": "stream",
     "text": [
      "10\n"
     ]
    },
    {
     "name": "stderr",
     "output_type": "stream",
     "text": [
      "INFO:Trigger_V3:Total time taken: 19.20 seconds\n",
      "INFO:Trigger_V3:Data loaded. Number of records: 100\n"
     ]
    },
    {
     "name": "stdout",
     "output_type": "stream",
     "text": [
      "11\n"
     ]
    },
    {
     "name": "stderr",
     "output_type": "stream",
     "text": [
      "INFO:Trigger_V3:Total time taken: 19.47 seconds\n",
      "INFO:Trigger_V3:Data loaded. Number of records: 100\n"
     ]
    },
    {
     "name": "stdout",
     "output_type": "stream",
     "text": [
      "12\n"
     ]
    },
    {
     "name": "stderr",
     "output_type": "stream",
     "text": [
      "INFO:Trigger_V3:Total time taken: 19.16 seconds\n",
      "INFO:Trigger_V3:Data loaded. Number of records: 100\n"
     ]
    },
    {
     "name": "stdout",
     "output_type": "stream",
     "text": [
      "13\n"
     ]
    },
    {
     "name": "stderr",
     "output_type": "stream",
     "text": [
      "INFO:Trigger_V3:Total time taken: 19.44 seconds\n",
      "INFO:Trigger_V3:Data loaded. Number of records: 100\n"
     ]
    },
    {
     "name": "stdout",
     "output_type": "stream",
     "text": [
      "14\n"
     ]
    },
    {
     "name": "stderr",
     "output_type": "stream",
     "text": [
      "INFO:Trigger_V3:Total time taken: 19.45 seconds\n",
      "INFO:Trigger_V3:Data loaded. Number of records: 100\n"
     ]
    },
    {
     "name": "stdout",
     "output_type": "stream",
     "text": [
      "15\n"
     ]
    },
    {
     "name": "stderr",
     "output_type": "stream",
     "text": [
      "INFO:Trigger_V3:Total time taken: 19.18 seconds\n"
     ]
    }
   ],
   "source": [
    "trigvar=[]\n",
    "process=TDP('data/test/BioLumi100.h5')\n",
    "process.trigger_intervals=100\n",
    "for i in range(1,16):\n",
    "    print(i)\n",
    "    process.trigger_threshhold=i\n",
    "    trigered_mods,hitperinterval,hit_time=process.run()\n",
    "    trigvar.append([trigered_mods,hitperinterval,hit_time])\n",
    "bionoise_data=trigvar"
   ]
  },
  {
   "cell_type": "code",
   "execution_count": null,
   "id": "01d460b4-02a5-41fd-a4df-a321772bd60f",
   "metadata": {
    "scrolled": true,
    "tags": []
   },
   "outputs": [
    {
     "name": "stdout",
     "output_type": "stream",
     "text": [
      "15\n"
     ]
    },
    {
     "name": "stderr",
     "output_type": "stream",
     "text": [
      "INFO:Trigger_V3:Data loaded. Number of records: 27\n",
      "INFO:Trigger_V3:Total time taken: 1806.33 seconds\n"
     ]
    },
    {
     "name": "stdout",
     "output_type": "stream",
     "text": [
      "14\n"
     ]
    },
    {
     "name": "stderr",
     "output_type": "stream",
     "text": [
      "INFO:Trigger_V3:Data loaded. Number of records: 27\n",
      "INFO:Trigger_V3:Total time taken: 1808.55 seconds\n"
     ]
    },
    {
     "name": "stdout",
     "output_type": "stream",
     "text": [
      "13\n"
     ]
    },
    {
     "name": "stderr",
     "output_type": "stream",
     "text": [
      "INFO:Trigger_V3:Data loaded. Number of records: 27\n",
      "INFO:Trigger_V3:Total time taken: 1808.76 seconds\n"
     ]
    },
    {
     "name": "stdout",
     "output_type": "stream",
     "text": [
      "12\n"
     ]
    },
    {
     "name": "stderr",
     "output_type": "stream",
     "text": [
      "INFO:Trigger_V3:Data loaded. Number of records: 27\n",
      "INFO:Trigger_V3:Total time taken: 1808.35 seconds\n"
     ]
    },
    {
     "name": "stdout",
     "output_type": "stream",
     "text": [
      "11\n"
     ]
    },
    {
     "name": "stderr",
     "output_type": "stream",
     "text": [
      "INFO:Trigger_V3:Data loaded. Number of records: 27\n"
     ]
    }
   ],
   "source": [
    "trigvar=[]\n",
    "process=TDP('data/test/MIX.h5')\n",
    "process.trigger_intervals=100\n",
    "for i in range(15,0,-1):\n",
    "    print(i)\n",
    "    process.trigger_threshhold=i\n",
    "    trigered_mods,hitperinterval,hit_time=process.run()\n",
    "    trigvar.append([trigered_mods,hitperinterval,hit_time])\n",
    "Mix=trigvar"
   ]
  },
  {
   "cell_type": "code",
   "execution_count": 107,
   "id": "cb7ab28f-e543-43b9-8341-12d5db4c51b8",
   "metadata": {
    "tags": []
   },
   "outputs": [],
   "source": [
    "time_taken_bio=[6.29, 4.64, 3.94, 3.61, 3.52, 3.08, 3.07, 3.13, 3.61, 3.07, 3.07, 3.07, 3.07, 3.07, 3.06]"
   ]
  },
  {
   "cell_type": "raw",
   "id": "921c5b52-09b3-4a3f-bd08-9a699a28499b",
   "metadata": {
    "tags": []
   },
   "source": [
    "import pickle\n",
    "\n",
    "# Create a dictionary to store all variables\n",
    "data_to_save = {\n",
    "    'Cascade': cascade_data,\n",
    "    'StartingTrack': track_data,\n",
    "    'RealTrack': realtrackdata,\n",
    "    'BioLumi':bionoise_data,\n",
    "    'Electrical':noise_data\n",
    "}\n",
    "\n",
    "# Save the data to a file using pickle\n",
    "with open('TriggerLevel.pkl', 'wb') as f:\n",
    "    pickle.dump(data_to_save, f)\n",
    "\n",
    "print(\"Data saved successfully!\")\n"
   ]
  },
  {
   "cell_type": "code",
   "execution_count": 108,
   "id": "e6e9e52d-2f94-4a1c-9156-25b27bbb8361",
   "metadata": {
    "tags": []
   },
   "outputs": [],
   "source": [
    "import pickle\n",
    "\n",
    "# Replace 'filename.pkl' with the path to your pickle file\n",
    "file_path = 'TriggerLevel.pkl'\n",
    "\n",
    "# Open the pickle file in read-binary ('rb') mode\n",
    "with open(file_path, 'rb') as file:\n",
    "    # Load the data from the file\n",
    "    data = pickle.load(file)\n",
    "\n",
    "\n"
   ]
  },
  {
   "cell_type": "code",
   "execution_count": null,
   "id": "7bdaa186-f111-4024-9635-b03778961ba2",
   "metadata": {
    "tags": []
   },
   "outputs": [],
   "source": []
  },
  {
   "cell_type": "code",
   "execution_count": 109,
   "id": "c088b7e9-dd4c-4e23-b6a7-f5c91ce401d4",
   "metadata": {},
   "outputs": [
    {
     "data": {
      "image/png": "[encoded data removed]",
      "text/plain": [
       "<Figure size 640x480 with 1 Axes>"
      ]
     },
     "metadata": {},
     "output_type": "display_data"
    }
   ],
   "source": [
    "x=np.arange(1,16,1)\n",
    "plt.plot(x,np.array(time_taken_starting),label='Starting track data set')\n",
    "plt.plot(x,np.array(time_taken_Real),label='Real Track data')\n",
    "plt.plot(x,np.array(time_taken_cascade),label='Cascade data')\n",
    "plt.plot(x,np.array(time_taken_electrical),label='electrical data')\n",
    "plt.plot(x,np.array(time_taken_bio),label='bio data')\n",
    "plt.ylabel('time in seconds')\n",
    "plt.xlabel('coincidence level')\n",
    "plt.legend()\n",
    "plt.show()"
   ]
  },
  {
   "cell_type": "code",
   "execution_count": 132,
   "id": "150c1a4d-6590-4216-93e2-e464845d662a",
   "metadata": {
    "tags": []
   },
   "outputs": [],
   "source": [
    "noise_data=data['Electrical']\n",
    "noise_data=np.array(noise_data,dtype=object)\n",
    "bio=data['BioLumi']\n",
    "bio=np.array(bio,dtype=object)\n",
    "#ps2=np.array(bionoise_data,dtype=object)"
   ]
  },
  {
   "cell_type": "code",
   "execution_count": 133,
   "id": "9b798f26-107c-49e9-a276-e853dc60f857",
   "metadata": {
    "scrolled": true,
    "tags": []
   },
   "outputs": [],
   "source": [
    "triggerdatan=noise_data[:,2]\n",
    "triggerdatab=bio[:,2]"
   ]
  },
  {
   "cell_type": "code",
   "execution_count": 135,
   "id": "0b29f372-cb5b-4867-8245-0e6e0d995711",
   "metadata": {
    "tags": []
   },
   "outputs": [
    {
     "name": "stdout",
     "output_type": "stream",
     "text": [
      "threshold 0\n",
      "threshold 1\n",
      "threshold 2\n",
      "threshold 3\n",
      "threshold 4\n",
      "threshold 5\n",
      "threshold 6\n",
      "threshold 7\n",
      "threshold 8\n",
      "threshold 9\n",
      "threshold 10\n",
      "threshold 11\n",
      "threshold 12\n",
      "threshold 13\n",
      "threshold 14\n"
     ]
    }
   ],
   "source": [
    "averagehitsn=[]\n",
    "averagehitsb=[]\n",
    "for triggerthreshold in range(15):\n",
    "    print('threshold',triggerthreshold)\n",
    "    hitsperrecn=[]\n",
    "    hitsperrecb=[]\n",
    "    for record in range(10):\n",
    "        x=sum(triggerdatan[triggerthreshold,record],[])\n",
    "        y=sum(triggerdatab[triggerthreshold,record],[])\n",
    "        hitsperrecn.append(len(x))\n",
    "        hitsperrecb.append(len(y))\n",
    "    averagehitsn.append(np.mean(hitsperrecn))\n",
    "    averagehitsb.append(np.mean(hitsperrecb))\n",
    "averagehitsn=np.array(averagehitsn)\n",
    "#averagehitsn=np.insert(averagehitsn,0,717.91)\n",
    "averagehitsb=np.array(averagehitsb)\n",
    "#averagehitsb=np.insert(averagehitsb,0,717.91)"
   ]
  },
  {
   "cell_type": "code",
   "execution_count": 139,
   "id": "63db9ed0-e51c-4583-b1f0-ca17af6ce417",
   "metadata": {
    "tags": []
   },
   "outputs": [
    {
     "data": {
      "text/plain": [
       "(16,)"
      ]
     },
     "execution_count": 139,
     "metadata": {},
     "output_type": "execute_result"
    }
   ],
   "source": [
    "averagehitsn.shape"
   ]
  },
  {
   "cell_type": "code",
   "execution_count": 157,
   "id": "7655ad8a-cd12-4404-a98d-be665af8a31c",
   "metadata": {
    "tags": []
   },
   "outputs": [
    {
     "data": {
      "image/png": "[encoded data removed]",
      "text/plain": [
       "<Figure size 640x480 with 1 Axes>"
      ]
     },
     "metadata": {},
     "output_type": "display_data"
    }
   ],
   "source": [
    "x=np.arange(1,16,1)\n",
    "plt.ylabel('hits per module')\n",
    "plt.xlabel('coincidence level')\n",
    "#print(averagehits)\n",
    "plt.scatter(x,averagehitsb/280)\n",
    "plt.scatter(x,averagehitsn/280)\n",
    "plt.yscale('log')\n",
    "plt.show()"
   ]
  },
  {
   "cell_type": "code",
   "execution_count": 2,
   "id": "b89ea49c-6aae-4095-be22-2422fbf8984d",
   "metadata": {
    "tags": []
   },
   "outputs": [],
   "source": [
    "path='data/test/MIX.h5'"
   ]
  },
  {
   "cell_type": "code",
   "execution_count": 56,
   "id": "020d32a5-21df-4a74-9e29-b28389004b14",
   "metadata": {
    "tags": []
   },
   "outputs": [],
   "source": [
    "config=HDF5StorageConfiguration(data_path=path,read_only=False)\n",
    "collection=Collection(config)\n",
    "collection.open()\n",
    "hits=collection.storage.get_hits()\n",
    "sources=collection.storage.get_sources()\n",
    "collection.close()"
   ]
  },
  {
   "cell_type": "code",
   "execution_count": 63,
   "id": "d40daa97-204b-4447-a5d1-6138c44911d4",
   "metadata": {},
   "outputs": [],
   "source": [
    "x=hits.df['record_id'].drop_duplicates()"
   ]
  },
  {
   "cell_type": "code",
   "execution_count": 68,
   "id": "dd3f771f-7c77-48a4-9a07-858c76d41f84",
   "metadata": {
    "tags": []
   },
   "outputs": [
    {
     "data": {
      "text/plain": [
       "9411.19365079365"
      ]
     },
     "execution_count": 68,
     "metadata": {},
     "output_type": "execute_result"
    }
   ],
   "source": [
    "71148624/27/280"
   ]
  },
  {
   "cell_type": "code",
   "execution_count": 66,
   "id": "43df7316-9f62-4b77-b035-4298b4bcb8bb",
   "metadata": {
    "tags": []
   },
   "outputs": [
    {
     "data": {
      "text/plain": [
       "(27,)"
      ]
     },
     "execution_count": 66,
     "metadata": {},
     "output_type": "execute_result"
    }
   ],
   "source": [
    "np.array(x).shape"
   ]
  },
  {
   "cell_type": "code",
   "execution_count": 32,
   "id": "b2d2c237-4cc8-4f4c-985f-fb5a486c3950",
   "metadata": {},
   "outputs": [],
   "source": [
    "X=os.listdir('data')"
   ]
  },
  {
   "cell_type": "code",
   "execution_count": 33,
   "id": "91170496-f92d-48df-91c6-6dccf27e3219",
   "metadata": {
    "tags": []
   },
   "outputs": [],
   "source": [
    "Y=[]\n",
    "for i in X:\n",
    "    if i[0]=='H' or i[0]=='A' or i[0]=='R':\n",
    "        Y.append(i)"
   ]
  },
  {
   "cell_type": "code",
   "execution_count": 85,
   "id": "d9ca5bac-9fc0-4533-ba24-f5ebaafab9cb",
   "metadata": {
    "scrolled": true,
    "tags": []
   },
   "outputs": [
    {
     "name": "stdout",
     "output_type": "stream",
     "text": [
      "Redistributed25.h5\n",
      "average time 999.682173107163\n",
      "mean hits per record 493501.6\n",
      "mean hits per mod per rec per sec 1763066064.0947318\n",
      "Hex_electrical_noise_10_BM.h5\n",
      "average time 997.6046134583264\n",
      "mean hits per record 723.6\n",
      "mean hits per mod per rec per sec 2590490.9414231265\n",
      "AllMerge5.h5\n",
      "average time 999.4910842458436\n",
      "mean hits per record 134161.6\n",
      "mean hits per mod per rec per sec 479392541.8455417\n",
      "AllMerge25.h5\n",
      "average time 999.475134393552\n",
      "mean hits per record 385150.44\n",
      "mean hits per mod per rec per sec 1376259637.0633228\n",
      "AllMerge10.h5\n",
      "average time 999.7194344246625\n",
      "mean hits per record 292202.0\n",
      "mean hits per mod per rec per sec 1043871445.8213466\n",
      "HexCascadeBenchMark.h5\n",
      "average time 838.8565243273006\n",
      "mean hits per record 260793.2\n",
      "mean hits per mod per rec per sec 1110326091.176559\n",
      "Redistributed15.h5\n",
      "average time 999.6012062984485\n",
      "mean hits per record 328388.26666666666\n",
      "mean hits per mod per rec per sec 1173283136.0200193\n",
      "HexRealTracks.h5\n",
      "average time 1102.268094865082\n",
      "mean hits per record 14915.3\n",
      "mean hits per mod per rec per sec 48326653.76017138\n",
      "HexBioluminescenceBenchMark.h5\n",
      "average time 998.246875\n",
      "mean hits per record 6682.5\n",
      "mean hits per mod per rec per sec 23907985.11497612\n",
      "HexStartingTrackBenchMark.h5\n",
      "average time 1093.850578707987\n",
      "mean hits per record 94211.1\n",
      "mean hits per mod per rec per sec 307599795.4703623\n"
     ]
    }
   ],
   "source": [
    "hitstats=[]\n",
    "for path in Y:\n",
    "    print(path)\n",
    "    config=HDF5StorageConfiguration(data_path='data/'+path,read_only=False)\n",
    "    collection=Collection(config)\n",
    "    collection.open()\n",
    "    hits=collection.storage.get_hits()\n",
    "    records=collection.storage.get_records()\n",
    "    sources=collection.storage.get_sources()\n",
    "    detector=collection.storage.get_detector()\n",
    "    collection.close()\n",
    "    meanhitperrec=hits.get_statistics().count/records.get_statistics().count\n",
    "    time=0\n",
    "    for record in records.df['record_id']:\n",
    "        hit=hits.get_by_record_ids(record)\n",
    "        time+=hit.get_statistics().max-hit.get_statistics().min\n",
    "    averagetime=time/records.get_statistics().count\n",
    "    rate=(((meanhitperrec/averagetime)*1e9)/detector.number_of_modules)\n",
    "    print('average time',averagetime)\n",
    "    print('mean hits per record',meanhitperrec)\n",
    "    print('mean hits per mod per rec per sec',rate)\n",
    "    hitstats.append([path,averagetime,meanhitperrec,rate])\n",
    "hitstats.sort()"
   ]
  },
  {
   "cell_type": "code",
   "execution_count": 148,
   "id": "7b402d36-9368-4e0f-9a1f-4b5e264841c9",
   "metadata": {
    "tags": []
   },
   "outputs": [
    {
     "data": {
      "text/plain": [
       "array(['Hex_electrical_noise_10_BM.h5', 997.6046134583264, 723.6,\n",
       "       2590490.9414231265], dtype=object)"
      ]
     },
     "execution_count": 148,
     "metadata": {},
     "output_type": "execute_result"
    }
   ],
   "source": [
    "hitstats=np.array(hitstats,dtype=object)\n",
    "hitstats[7]"
   ]
  },
  {
   "cell_type": "code",
   "execution_count": 161,
   "id": "c25f27df-a78b-4204-8a56-c3102f6e0ff7",
   "metadata": {
    "tags": []
   },
   "outputs": [
    {
     "data": {
      "text/plain": [
       "161383.92857142858"
      ]
     },
     "execution_count": 161,
     "metadata": {},
     "output_type": "execute_result"
    }
   ],
   "source": [
    "723/280/16*1e6"
   ]
  },
  {
   "cell_type": "code",
   "execution_count": 89,
   "id": "30ddb66e-02a7-4581-aaf2-547331338725",
   "metadata": {
    "tags": []
   },
   "outputs": [
    {
     "data": {
      "image/png": "[encoded data removed]",
      "text/plain": [
       "<Figure size 640x480 with 1 Axes>"
      ]
     },
     "metadata": {},
     "output_type": "display_data"
    }
   ],
   "source": [
    "plt.barh(hitstats[3:-2,0],hitstats[3:-2,3]/16)\n",
    "plt.barh(hitstats[:3,0],hitstats[:3,3]/16)\n",
    "plt.barh(hitstats[-2:,0],hitstats[-2:,3]/16)\n",
    "plt.xlabel(\"Rate per pmt [Hz]\")\n",
    "plt.xscale('log')\n",
    "plt.show()"
   ]
  },
  {
   "cell_type": "code",
   "execution_count": 90,
   "id": "0b12905a-70bd-4398-af5f-6bbfa17d7932",
   "metadata": {
    "jupyter": {
     "source_hidden": true
    },
    "tags": []
   },
   "outputs": [
    {
     "data": {
      "image/png": "[encoded data removed]",
      "text/plain": [
       "<Figure size 640x480 with 1 Axes>"
      ]
     },
     "metadata": {},
     "output_type": "display_data"
    }
   ],
   "source": [
    "plt.barh(hitstats[3:-2,0],hitstats[3:-2,3])\n",
    "plt.barh(hitstats[:3,0],hitstats[:3,3])\n",
    "plt.barh(hitstats[-2:,0],hitstats[-2:,3])\n",
    "plt.xlabel(\"Rate per module [Hz]\")\n",
    "plt.xscale('log')\n",
    "plt.show()"
   ]
  },
  {
   "cell_type": "code",
   "execution_count": null,
   "id": "457e568f-cf3e-42ad-88fa-b0c662456440",
   "metadata": {},
   "outputs": [],
   "source": []
  }
 ],
 "metadata": {
  "kernelspec": {
   "display_name": "Python 3 (ipykernel)",
   "language": "python",
   "name": "python3"
  },
  "language_info": {
   "codemirror_mode": {
    "name": "ipython",
    "version": 3
   },
   "file_extension": ".py",
   "mimetype": "text/x-python",
   "name": "python",
   "nbconvert_exporter": "python",
   "pygments_lexer": "ipython3",
   "version": "3.10.9"
  }
 },
 "nbformat": 4,
 "nbformat_minor": 5
}
