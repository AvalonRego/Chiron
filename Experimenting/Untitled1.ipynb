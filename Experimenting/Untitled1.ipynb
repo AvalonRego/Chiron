{
 "cells": [
  {
   "cell_type": "code",
   "execution_count": 14,
   "id": "0417363b-6f65-4cfe-b613-659bfccc5bcb",
   "metadata": {},
   "outputs": [],
   "source": [
    "from ananke.configurations.collection import HDF5StorageConfiguration\n",
    "from olympus.configuration.generators import EventGeneratorConfiguration\n",
    "from olympus.configuration.generators import GenerationConfiguration\n",
    "from olympus.event_generation.medium import MediumEstimationVariant\n",
    "from olympus.configuration.generators import UniformSpectrumConfiguration\n",
    "from ananke.schemas.event import EventType\n",
    "from olympus.configuration.photon_propagation import (\n",
    "    MockPhotonPropagatorConfiguration,\n",
    "    NormalFlowPhotonPropagatorConfiguration,\n",
    ")\n",
    "from ananke.configurations.detector import DetectorConfiguration\n",
    "from olympus.configuration.generators import DatasetConfiguration\n",
    "from olympus.event_generation.generators import generate\n",
    "\n",
    "import logging\n",
    "import time\n",
    "import numpy as np\n",
    "import matplotlib.pyplot as plt"
   ]
  },
  {
   "cell_type": "code",
   "execution_count": 2,
   "id": "c7bab057-3900-4080-aa07-9bb6bbe439a1",
   "metadata": {},
   "outputs": [],
   "source": [
    "modules_per_line = 20\n",
    "distance_between_modules = 50.0  # m\n",
    "dark_noise_rate = 16 *1e-5  # 1/ns\n",
    "module_radius = 0.21  # m\n",
    "pmt_efficiency = 0.42  # by Christian S.\n",
    "pmt_area_radius = 75e-3 / 2.0  # m\n",
    "\n",
    "detector = DetectorConfiguration.parse_obj(\n",
    "    {\n",
    "        \"string\": {\n",
    "            \"module_number\": modules_per_line,\n",
    "            \"module_distance\": distance_between_modules,\n",
    "        },\n",
    "        \"pmt\": {\n",
    "            \"efficiency\": pmt_efficiency,\n",
    "            \"noise_rate\": dark_noise_rate,\n",
    "            \"area\": pmt_area_radius,\n",
    "        },\n",
    "        \"module\": {\"radius\": module_radius},\n",
    "        \"geometry\": {\n",
    "            \"type\": \"single\",\n",
    "        },\n",
    "        \"geometry\":{\n",
    "            \"type\":\"hexagonal\",\n",
    "            \"number_of_strings_per_side\":3,\n",
    "            \"distance_between_strings\":80\n",
    "            \n",
    "        },\n",
    "        \"seed\": 1,\n",
    "    }\n",
    ")"
   ]
  },
  {
   "cell_type": "code",
   "execution_count": null,
   "id": "858ab73e-a0fe-41e0-ab18-90125a3144f5",
   "metadata": {
    "scrolled": true,
    "tags": []
   },
   "outputs": [
    {
     "name": "stdout",
     "output_type": "stream",
     "text": [
      "110\n"
     ]
    },
    {
     "name": "stderr",
     "output_type": "stream",
     "text": [
      "100%|██████████| 110/110 [00:06<00:00, 17.95it/s]\n",
      "100%|██████████| 75/75 [13:58<00:00, 11.18s/it]\n",
      "100%|██████████| 110/110 [00:04<00:00, 22.49it/s]\n",
      "100%|██████████| 21/21 [03:57<00:00, 11.32s/it]\n",
      "100%|██████████| 110/110 [00:04<00:00, 22.87it/s]\n",
      "100%|██████████| 10/10 [02:05<00:00, 12.55s/it]\n",
      "100%|██████████| 110/110 [00:04<00:00, 22.67it/s]\n",
      "100%|██████████| 6/6 [01:12<00:00, 12.11s/it]\n",
      "100%|██████████| 110/110 [00:04<00:00, 23.24it/s]\n",
      "100%|██████████| 5/5 [01:21<00:00, 16.37s/it]\n",
      "100%|██████████| 110/110 [00:04<00:00, 22.74it/s]\n",
      "100%|██████████| 2/2 [00:18<00:00,  9.48s/it]\n",
      "WARNING:root:PTRepack not working. Skipping compression\n"
     ]
    },
    {
     "name": "stdout",
     "output_type": "stream",
     "text": [
      "[  44.32        96.849      115.55       190.575      310.83\n",
      "  326.91       422.025      539.15      1006.56      1396.36\n",
      " 1480.9392755]\n",
      "120\n"
     ]
    },
    {
     "name": "stderr",
     "output_type": "stream",
     "text": [
      "100%|██████████| 120/120 [00:05<00:00, 22.59it/s]\n",
      " 51%|█████     | 42/82 [09:07<07:02, 10.55s/it]"
     ]
    }
   ],
   "source": [
    "#times=np.array([])\n",
    "for i in range(11,16):\n",
    "    samples=10*i\n",
    "    photon_propagator_configuration = MockPhotonPropagatorConfiguration(\n",
    "        resolution=18000,\n",
    "        medium=MediumEstimationVariant.PONE_OPTIMISTIC,\n",
    "        max_memory_usage=int(2147483648 / 4)\n",
    "    )\n",
    "\n",
    "    configuration = DatasetConfiguration(\n",
    "        detector=detector,\n",
    "        generators=[\n",
    "            GenerationConfiguration(\n",
    "                generator=EventGeneratorConfiguration(\n",
    "                    type=EventType.CASCADE,\n",
    "                    spectrum=UniformSpectrumConfiguration(\n",
    "                        log_minimal_energy=2.0,\n",
    "                        log_maximal_energy=5.5\n",
    "                    ),\n",
    "                    source_propagator=photon_propagator_configuration\n",
    "                ),\n",
    "                number_of_samples=samples\n",
    "            )\n",
    "        ],\n",
    "        storage=HDF5StorageConfiguration(\n",
    "            data_path=f'data/timetest/{samples}.h5',\n",
    "            read_only=False\n",
    "        )\n",
    "    )\n",
    "\n",
    "    start_time=time.time()\n",
    "    print(samples)\n",
    "    collection = generate(configuration)\n",
    "    end_time=time.time()-start_time\n",
    "    times=np.append(times,end_time)\n",
    "    print(times)"
   ]
  },
  {
   "cell_type": "code",
   "execution_count": 24,
   "id": "b8913dd6-a5c1-4165-b599-18fb19a28fe9",
   "metadata": {},
   "outputs": [],
   "source": [
    "times=[44.32,96.849,115.55,190.575,310.83,326.91,422.025,539.15,1006.56,1396.36]"
   ]
  },
  {
   "cell_type": "code",
   "execution_count": 25,
   "id": "47ab6dd1-d2f2-446b-9bf5-9297ffd78c50",
   "metadata": {
    "scrolled": true,
    "tags": []
   },
   "outputs": [],
   "source": [
    "times=np.array(times)\n",
    "samples=np.arange(5,51,5)\n",
    "samples=np.append(samples,[110,120,130,140,150])"
   ]
  },
  {
   "cell_type": "code",
   "execution_count": 23,
   "id": "6019989b-1833-4fb1-9b4f-b6743164bd21",
   "metadata": {},
   "outputs": [
    {
     "data": {
      "image/png": "[encoded data removed]",
      "text/plain": [
       "<Figure size 640x480 with 1 Axes>"
      ]
     },
     "metadata": {},
     "output_type": "display_data"
    }
   ],
   "source": [
    "plt.scatter(samples,times)\n",
    "plt.xlabel('sample size')\n",
    "plt.ylabel('time in seconds')\n",
    "plt.show()"
   ]
  },
  {
   "cell_type": "code",
   "execution_count": null,
   "id": "47c3fe49-9b2f-47cc-9094-5c8e2ee343ee",
   "metadata": {},
   "outputs": [],
   "source": []
  }
 ],
 "metadata": {
  "kernelspec": {
   "display_name": "olympus",
   "language": "python",
   "name": "olympus"
  },
  "language_info": {
   "codemirror_mode": {
    "name": "ipython",
    "version": 3
   },
   "file_extension": ".py",
   "mimetype": "text/x-python",
   "name": "python",
   "nbconvert_exporter": "python",
   "pygments_lexer": "ipython3",
   "version": "3.10.9"
  }
 },
 "nbformat": 4,
 "nbformat_minor": 5
}
