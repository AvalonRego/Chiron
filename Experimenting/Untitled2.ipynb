{
 "cells": [
  {
   "cell_type": "code",
   "execution_count": null,
   "id": "4f560f11-76f4-42d0-a62c-2c9fb08e360e",
   "metadata": {},
   "outputs": [],
   "source": [
    "from importlib import reload\n",
    "import ananke.models.collection\n",
    "from ananke.models.collection import Collection\n",
    "reload(ananke.models.collection)\n",
    "import ananke.models.collection\n",
    "from ananke.configurations.collection import MergeConfiguration\n",
    "from ananke.schemas.event import RecordType\n",
    "from ananke.configurations.events import EventRedistributionMode\n",
    "from ananke.configurations.collection import HDF5StorageConfiguration\n",
    "import Trigger_Parallel_Working as tc\n",
    "reload(tc)\n",
    "import Trigger_Parallel_Working as tc\n",
    "import cProfile\n",
    "import pstats\n",
    "import matplotlib.pyplot as plt\n",
    "import os\n",
    "import logging\n",
    "import numpy as np\n",
    "import matplotlib.pyplot as plt\n",
    "\n",
    "# Configure logging to display DEBUG messages\n",
    "logging.basicConfig(level=logging.INFO)"
   ]
  },
  {
   "cell_type": "code",
   "execution_count": null,
   "id": "c034d573-6442-4d14-9e81-aaeb3c0f9bc2",
   "metadata": {},
   "outputs": [],
   "source": [
    "path=\"data/LargeSMerge/1000s.h5\"\n",
    "config=HDF5StorageConfiguration(data_path=path, read_only=False)\n",
    "C=Collection(config)"
   ]
  },
  {
   "cell_type": "code",
   "execution_count": null,
   "id": "6ea4cf33-ae24-4406-a4cf-33b4f72a0dd5",
   "metadata": {},
   "outputs": [],
   "source": [
    "with C:\n",
    "    hits=C.storage.get_hits()\n",
    "    records=C.storage.get_records()"
   ]
  },
  {
   "cell_type": "code",
   "execution_count": null,
   "id": "aefb2f3f-5c16-458b-8feb-1c4e411af81a",
   "metadata": {},
   "outputs": [],
   "source": [
    "count=np.array([])\n",
    "time_interval=np.array([])\n",
    "for i in records.df['record_id']:\n",
    "    tl=hits.get_by_record_ids(i).get_statistics().max-hits.get_by_record_ids(i).get_statistics().min\n",
    "    count=np.append(count,hits.get_by_record_ids(i).get_statistics().count)\n",
    "    time_interval=np.append(time_interval,tl)\n",
    "    print(hits.get_by_record_ids(i).get_statistics())"
   ]
  },
  {
   "cell_type": "code",
   "execution_count": null,
   "id": "73f14939-6e0d-497d-b0e1-2c741f5759ba",
   "metadata": {},
   "outputs": [],
   "source": [
    "count=np.array([])\n",
    "time_interval=np.array([])\n",
    "for i in records.df['record_id']:\n",
    "    tl=hits.get_by_record_ids(i).get_statistics().max-hits.get_by_record_ids(i).get_statistics().min\n",
    "    count=np.append(count,hits.get_by_record_ids(i).get_statistics().count)\n",
    "    time_interval=np.append(time_interval,tl)\n",
    "    print(hits.get_by_record_ids(i).get_statistics())"
   ]
  },
  {
   "cell_type": "code",
   "execution_count": null,
   "id": "610c77eb-f2ed-498d-b251-7e33c9287ee8",
   "metadata": {},
   "outputs": [],
   "source": [
    "\n",
    "hist, bins,= np.histogram(count,20)\n",
    "\n",
    "# histogram on log scale. \n",
    "# Use non-equal bin sizes, such that they look equal on log scale.\n",
    "logbins = np.logspace(np.log10(bins[0]),np.log10(bins[-1]),len(bins))\n",
    "\n",
    "plt.hist(count, bins=logbins)\n",
    "plt.xscale('log')\n",
    "plt.show()"
   ]
  },
  {
   "cell_type": "code",
   "execution_count": null,
   "id": "10ac3015-ab79-46ff-a01b-457dfe7282d5",
   "metadata": {},
   "outputs": [],
   "source": [
    "\n",
    "hist, bins,= np.histogram(count,20)\n",
    "\n",
    "# histogram on log scale. \n",
    "# Use non-equal bin sizes, such that they look equal on log scale.\n",
    "logbins = np.logspace(np.log10(bins[0]),np.log10(bins[-1]),len(bins))\n",
    "\n",
    "plt.hist(count, bins=logbins)\n",
    "plt.xscale('log')\n",
    "plt.show()"
   ]
  },
  {
   "cell_type": "code",
   "execution_count": null,
   "id": "9c99a6a7-328d-435a-ac42-30ee4b1a44c2",
   "metadata": {},
   "outputs": [],
   "source": [
    "with open('../tjob.13847327.err') as f:\n",
    "    s=f.read()"
   ]
  },
  {
   "cell_type": "code",
   "execution_count": null,
   "id": "1a3e09fa-0305-466f-a404-cca0d01468da",
   "metadata": {},
   "outputs": [],
   "source": [
    "seconds=[]\n",
    "for i in s.split('\\n'):\n",
    "    if 'second' in i:\n",
    "        seconds.append(float(i.split()[-2]))"
   ]
  },
  {
   "cell_type": "code",
   "execution_count": null,
   "id": "a7f99ddd-5061-499a-9ac1-07cc87382c00",
   "metadata": {},
   "outputs": [],
   "source": [
    "seconds.sort()\n",
    "seconds=np.array(seconds)"
   ]
  },
  {
   "cell_type": "code",
   "execution_count": null,
   "id": "05629e1d-06cd-4876-8926-bcf71006f504",
   "metadata": {},
   "outputs": [],
   "source": [
    "plt.plot(seconds)\n",
    "plt.show()"
   ]
  },
  {
   "cell_type": "code",
   "execution_count": 15,
   "id": "6fdac730-742d-4c47-91c4-d617d5826005",
   "metadata": {},
   "outputs": [
    {
     "data": {
      "text/plain": [
       "'ajerk'"
      ]
     },
     "execution_count": 15,
     "metadata": {},
     "output_type": "execute_result"
    }
   ],
   "source": [
    "\"ajerkdm\"[:-2]"
   ]
  },
  {
   "cell_type": "code",
   "execution_count": 21,
   "id": "fcbab032-c8a2-4ca2-a561-fc5cdb7be4ad",
   "metadata": {},
   "outputs": [
    {
     "data": {
      "text/plain": [
       "'LargeSMerge'"
      ]
     },
     "execution_count": 21,
     "metadata": {},
     "output_type": "execute_result"
    }
   ],
   "source": [
    "f'LargeSMerge/{1}'.split('/')[0]"
   ]
  },
  {
   "cell_type": "code",
   "execution_count": null,
   "id": "d627fec3-79cb-41a7-958b-3a273122dcb1",
   "metadata": {},
   "outputs": [],
   "source": []
  }
 ],
 "metadata": {
  "kernelspec": {
   "display_name": "olympus",
   "language": "python",
   "name": "olympus"
  },
  "language_info": {
   "codemirror_mode": {
    "name": "ipython",
    "version": 3
   },
   "file_extension": ".py",
   "mimetype": "text/x-python",
   "name": "python",
   "nbconvert_exporter": "python",
   "pygments_lexer": "ipython3",
   "version": "3.10.9"
  }
 },
 "nbformat": 4,
 "nbformat_minor": 5
}
