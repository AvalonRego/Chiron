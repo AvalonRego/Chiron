{
 "cells": [
  {
   "cell_type": "code",
   "execution_count": 11,
   "id": "c588933b-dd7d-4173-83ee-e429b3fe2a4c",
   "metadata": {},
   "outputs": [],
   "source": [
    "import sys\n",
    "import pandas as pd"
   ]
  },
  {
   "cell_type": "code",
   "execution_count": 2,
   "id": "06ad472e-945d-4da6-97f6-5c5588e45d37",
   "metadata": {},
   "outputs": [],
   "source": [
    "sys.path.append('/u/arego/project/Experimenting/')"
   ]
  },
  {
   "cell_type": "code",
   "execution_count": 3,
   "id": "7e1e19f3-6a3f-48ce-8202-b8d00d96fd6c",
   "metadata": {},
   "outputs": [],
   "source": [
    "import Trigger_Improve as ti"
   ]
  },
  {
   "cell_type": "code",
   "execution_count": 16,
   "id": "8fced697-af79-4b57-a822-d4db899be655",
   "metadata": {},
   "outputs": [],
   "source": [
    "import time\n",
    "import os"
   ]
  },
  {
   "cell_type": "code",
   "execution_count": null,
   "id": "cf61eebd-c798-4cec-a448-b7c444096fc1",
   "metadata": {},
   "outputs": [
    {
     "name": "stderr",
     "output_type": "stream",
     "text": [
      "INFO:root:Initializing Collections\n",
      "INFO:root:Initializing Collections\n"
     ]
    },
    {
     "name": "stdout",
     "output_type": "stream",
     "text": [
      ".ipynb_checkpoints\n"
     ]
    }
   ],
   "source": [
    "t=time.time()\n",
    "for i in os.listdir(f'../../LargeCMerge/1000000s'):\n",
    "    c=ti.initialize_collection(f'../../LargeCMerge/1000000s/{i}')\n",
    "    with c:\n",
    "        h=c.storage.get_hits()\n",
    "        d=c.storage.get_detector()\n",
    "    try:\n",
    "        mh=pd.merge(h.df,d.df,on=['string_id', 'module_id', 'pmt_id'],how='inner')\n",
    "    except:\n",
    "        print(f'{i}')\n",
    "        continue\n",
    "    print(time.time()-t)\n",
    "print(time.time()-t)    "
   ]
  },
  {
   "cell_type": "code",
   "execution_count": 29,
   "id": "eabd29c1-c5dd-4de5-93bb-52101e91255d",
   "metadata": {},
   "outputs": [
    {
     "data": {
      "text/plain": [
       "['1.h5.h5.h5', '1.h5']"
      ]
     },
     "execution_count": 29,
     "metadata": {},
     "output_type": "execute_result"
    }
   ],
   "source": [
    "os.listdir(f'../../LargeCMerge/1000000s/')"
   ]
  },
  {
   "cell_type": "code",
   "execution_count": 12,
   "id": "e0bc6925-bb87-48a2-bd52-322d3915973b",
   "metadata": {},
   "outputs": [
    {
     "name": "stdout",
     "output_type": "stream",
     "text": [
      "1.254371166229248\n"
     ]
    }
   ],
   "source": []
  },
  {
   "cell_type": "code",
   "execution_count": null,
   "id": "6807d567-c472-405a-b1f9-2b6819e7244c",
   "metadata": {},
   "outputs": [],
   "source": []
  }
 ],
 "metadata": {
  "kernelspec": {
   "display_name": "olympus",
   "language": "python",
   "name": "olympus"
  },
  "language_info": {
   "codemirror_mode": {
    "name": "ipython",
    "version": 3
   },
   "file_extension": ".py",
   "mimetype": "text/x-python",
   "name": "python",
   "nbconvert_exporter": "python",
   "pygments_lexer": "ipython3",
   "version": "3.10.9"
  }
 },
 "nbformat": 4,
 "nbformat_minor": 5
}
